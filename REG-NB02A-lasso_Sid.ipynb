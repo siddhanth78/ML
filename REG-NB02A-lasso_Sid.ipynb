{
 "cells": [
  {
   "cell_type": "markdown",
   "id": "0491f7aa",
   "metadata": {},
   "source": [
    "# Quiz 6A: Feature Selection with Lasso Regression\n",
    "Feature selection refers to the process of identifying which features are most important for justifying a given response. The emphasis is on identifying relevant features, not on minimizing error.\n",
    "\n",
    "In this notebook, you will use LASSO to select features, using the solver provided by sklearn. Namely, you will:\n",
    "* Do some minor feature engineering\n",
    "* Verify experimentally that LASSO can be used for feature selection by setting some weights to 0\n",
    "* Run LASSO with different L1 penalties.\n",
    "* Choose best L1 penalty using a validation set, with constraints on the size of selected features."
   ]
  },
  {
   "cell_type": "code",
   "execution_count": 1,
   "id": "8f922f9a",
   "metadata": {},
   "outputs": [],
   "source": [
    "import numpy as np\n",
    "import pandas as pd\n",
    "np.set_printoptions(precision=2,suppress=True)"
   ]
  },
  {
   "cell_type": "markdown",
   "id": "40731789",
   "metadata": {},
   "source": [
    "## Load in house sales data\n",
    "\n",
    "Dataset is from house sales in King County, the region where the city of Seattle, WA is located."
   ]
  },
  {
   "cell_type": "code",
   "execution_count": 2,
   "id": "70ce5e9c",
   "metadata": {
    "scrolled": true
   },
   "outputs": [
    {
     "name": "stdout",
     "output_type": "stream",
     "text": [
      "Input features:\n",
      " Index(['id', 'date', 'price', 'bedrooms', 'bathrooms', 'sqft_living',\n",
      "       'sqft_lot', 'floors', 'waterfront', 'view', 'condition', 'grade',\n",
      "       'sqft_above', 'sqft_basement', 'yr_built', 'yr_renovated', 'zipcode',\n",
      "       'lat', 'long', 'sqft_living15', 'sqft_lot15'],\n",
      "      dtype='object')\n"
     ]
    }
   ],
   "source": [
    "sales = pd.read_csv('home_data.gz')\n",
    "print(f'Input features:\\n {sales.columns}')"
   ]
  },
  {
   "cell_type": "markdown",
   "id": "3570b08e",
   "metadata": {},
   "source": [
    "## Create new features\n",
    "Let's consider a few features that are transformations of input features.\n",
    "* Squaring bedrooms will increase the separation between few bedrooms (e.g. 1) and lots of bedrooms (e.g. 4). Consequently this variable will mostly affect houses with many bedrooms.\n",
    "* On the other hand, taking square root of sqft_living and sqft_lot will decrease the separation between big houses and small houses. The owner may not be exactly twice as happy for getting a house that is twice as big.\n",
    "\n",
    "***Question 1.*** Add columns `sqft_living_sqrt`, `sqft_lot_sqrt`, `bedrooms_square`, and `floors_square`, which are the square root of `sqft_living` and `sqft_lot`, and the square of `bedrooms` and `floors`, respectively."
   ]
  },
  {
   "cell_type": "code",
   "execution_count": 3,
   "id": "3287a55d",
   "metadata": {},
   "outputs": [
    {
     "data": {
      "text/plain": [
       "Index(['id', 'date', 'price', 'bedrooms', 'bathrooms', 'sqft_living',\n",
       "       'sqft_lot', 'floors', 'waterfront', 'view', 'condition', 'grade',\n",
       "       'sqft_above', 'sqft_basement', 'yr_built', 'yr_renovated', 'zipcode',\n",
       "       'lat', 'long', 'sqft_living15', 'sqft_lot15', 'sqft_living_sqrt',\n",
       "       'sqft_lot_sqrt', 'bedrooms_square', 'floors_square'],\n",
       "      dtype='object')"
      ]
     },
     "execution_count": 3,
     "metadata": {},
     "output_type": "execute_result"
    }
   ],
   "source": [
    "# YOUR CODE HERE\n",
    "sales['sqft_living_sqrt'] = sales['sqft_living'] ** 1/2\n",
    "sales['sqft_lot_sqrt'] = sales['sqft_lot'] ** 1/2\n",
    "sales['bedrooms_square'] = sales['bedrooms'] ** 2\n",
    "sales['floors_square'] = sales['floors'] ** 2\n",
    "sales.columns"
   ]
  },
  {
   "cell_type": "markdown",
   "id": "fa05de69",
   "metadata": {},
   "source": [
    "## Learn regression weights with L1 penalty\n",
    "We start by fitting a model with most of the available features, plus the features we just created above."
   ]
  },
  {
   "cell_type": "code",
   "execution_count": 4,
   "id": "9fa2ed89",
   "metadata": {},
   "outputs": [],
   "source": [
    "all_features = ['bedrooms', 'bedrooms_square',\n",
    "                'bathrooms',\n",
    "                'sqft_living', 'sqft_living_sqrt',\n",
    "                'sqft_lot', 'sqft_lot_sqrt',\n",
    "                'floors', 'floors_square',\n",
    "                'waterfront', 'view', 'condition', 'grade',\n",
    "                'sqft_above',\n",
    "                'sqft_basement',\n",
    "                'yr_built', 'yr_renovated']"
   ]
  },
  {
   "cell_type": "markdown",
   "id": "ec3a1b8e",
   "metadata": {},
   "source": [
    "Applying L1 penalty requires using `Lasso` from `sklearn.linear_model`. Read the documentation before proceeding.\n",
    "\n",
    "***Question 2.*** Create a Lasso model using `all_features` using 1E6 for L1 penalty."
   ]
  },
  {
   "cell_type": "code",
   "execution_count": 5,
   "id": "8639a44d",
   "metadata": {},
   "outputs": [
    {
     "data": {
      "text/html": [
       "<style>#sk-container-id-1 {\n",
       "  /* Definition of color scheme common for light and dark mode */\n",
       "  --sklearn-color-text: black;\n",
       "  --sklearn-color-line: gray;\n",
       "  /* Definition of color scheme for unfitted estimators */\n",
       "  --sklearn-color-unfitted-level-0: #fff5e6;\n",
       "  --sklearn-color-unfitted-level-1: #f6e4d2;\n",
       "  --sklearn-color-unfitted-level-2: #ffe0b3;\n",
       "  --sklearn-color-unfitted-level-3: chocolate;\n",
       "  /* Definition of color scheme for fitted estimators */\n",
       "  --sklearn-color-fitted-level-0: #f0f8ff;\n",
       "  --sklearn-color-fitted-level-1: #d4ebff;\n",
       "  --sklearn-color-fitted-level-2: #b3dbfd;\n",
       "  --sklearn-color-fitted-level-3: cornflowerblue;\n",
       "\n",
       "  /* Specific color for light theme */\n",
       "  --sklearn-color-text-on-default-background: var(--sg-text-color, var(--theme-code-foreground, var(--jp-content-font-color1, black)));\n",
       "  --sklearn-color-background: var(--sg-background-color, var(--theme-background, var(--jp-layout-color0, white)));\n",
       "  --sklearn-color-border-box: var(--sg-text-color, var(--theme-code-foreground, var(--jp-content-font-color1, black)));\n",
       "  --sklearn-color-icon: #696969;\n",
       "\n",
       "  @media (prefers-color-scheme: dark) {\n",
       "    /* Redefinition of color scheme for dark theme */\n",
       "    --sklearn-color-text-on-default-background: var(--sg-text-color, var(--theme-code-foreground, var(--jp-content-font-color1, white)));\n",
       "    --sklearn-color-background: var(--sg-background-color, var(--theme-background, var(--jp-layout-color0, #111)));\n",
       "    --sklearn-color-border-box: var(--sg-text-color, var(--theme-code-foreground, var(--jp-content-font-color1, white)));\n",
       "    --sklearn-color-icon: #878787;\n",
       "  }\n",
       "}\n",
       "\n",
       "#sk-container-id-1 {\n",
       "  color: var(--sklearn-color-text);\n",
       "}\n",
       "\n",
       "#sk-container-id-1 pre {\n",
       "  padding: 0;\n",
       "}\n",
       "\n",
       "#sk-container-id-1 input.sk-hidden--visually {\n",
       "  border: 0;\n",
       "  clip: rect(1px 1px 1px 1px);\n",
       "  clip: rect(1px, 1px, 1px, 1px);\n",
       "  height: 1px;\n",
       "  margin: -1px;\n",
       "  overflow: hidden;\n",
       "  padding: 0;\n",
       "  position: absolute;\n",
       "  width: 1px;\n",
       "}\n",
       "\n",
       "#sk-container-id-1 div.sk-dashed-wrapped {\n",
       "  border: 1px dashed var(--sklearn-color-line);\n",
       "  margin: 0 0.4em 0.5em 0.4em;\n",
       "  box-sizing: border-box;\n",
       "  padding-bottom: 0.4em;\n",
       "  background-color: var(--sklearn-color-background);\n",
       "}\n",
       "\n",
       "#sk-container-id-1 div.sk-container {\n",
       "  /* jupyter's `normalize.less` sets `[hidden] { display: none; }`\n",
       "     but bootstrap.min.css set `[hidden] { display: none !important; }`\n",
       "     so we also need the `!important` here to be able to override the\n",
       "     default hidden behavior on the sphinx rendered scikit-learn.org.\n",
       "     See: https://github.com/scikit-learn/scikit-learn/issues/21755 */\n",
       "  display: inline-block !important;\n",
       "  position: relative;\n",
       "}\n",
       "\n",
       "#sk-container-id-1 div.sk-text-repr-fallback {\n",
       "  display: none;\n",
       "}\n",
       "\n",
       "div.sk-parallel-item,\n",
       "div.sk-serial,\n",
       "div.sk-item {\n",
       "  /* draw centered vertical line to link estimators */\n",
       "  background-image: linear-gradient(var(--sklearn-color-text-on-default-background), var(--sklearn-color-text-on-default-background));\n",
       "  background-size: 2px 100%;\n",
       "  background-repeat: no-repeat;\n",
       "  background-position: center center;\n",
       "}\n",
       "\n",
       "/* Parallel-specific style estimator block */\n",
       "\n",
       "#sk-container-id-1 div.sk-parallel-item::after {\n",
       "  content: \"\";\n",
       "  width: 100%;\n",
       "  border-bottom: 2px solid var(--sklearn-color-text-on-default-background);\n",
       "  flex-grow: 1;\n",
       "}\n",
       "\n",
       "#sk-container-id-1 div.sk-parallel {\n",
       "  display: flex;\n",
       "  align-items: stretch;\n",
       "  justify-content: center;\n",
       "  background-color: var(--sklearn-color-background);\n",
       "  position: relative;\n",
       "}\n",
       "\n",
       "#sk-container-id-1 div.sk-parallel-item {\n",
       "  display: flex;\n",
       "  flex-direction: column;\n",
       "}\n",
       "\n",
       "#sk-container-id-1 div.sk-parallel-item:first-child::after {\n",
       "  align-self: flex-end;\n",
       "  width: 50%;\n",
       "}\n",
       "\n",
       "#sk-container-id-1 div.sk-parallel-item:last-child::after {\n",
       "  align-self: flex-start;\n",
       "  width: 50%;\n",
       "}\n",
       "\n",
       "#sk-container-id-1 div.sk-parallel-item:only-child::after {\n",
       "  width: 0;\n",
       "}\n",
       "\n",
       "/* Serial-specific style estimator block */\n",
       "\n",
       "#sk-container-id-1 div.sk-serial {\n",
       "  display: flex;\n",
       "  flex-direction: column;\n",
       "  align-items: center;\n",
       "  background-color: var(--sklearn-color-background);\n",
       "  padding-right: 1em;\n",
       "  padding-left: 1em;\n",
       "}\n",
       "\n",
       "\n",
       "/* Toggleable style: style used for estimator/Pipeline/ColumnTransformer box that is\n",
       "clickable and can be expanded/collapsed.\n",
       "- Pipeline and ColumnTransformer use this feature and define the default style\n",
       "- Estimators will overwrite some part of the style using the `sk-estimator` class\n",
       "*/\n",
       "\n",
       "/* Pipeline and ColumnTransformer style (default) */\n",
       "\n",
       "#sk-container-id-1 div.sk-toggleable {\n",
       "  /* Default theme specific background. It is overwritten whether we have a\n",
       "  specific estimator or a Pipeline/ColumnTransformer */\n",
       "  background-color: var(--sklearn-color-background);\n",
       "}\n",
       "\n",
       "/* Toggleable label */\n",
       "#sk-container-id-1 label.sk-toggleable__label {\n",
       "  cursor: pointer;\n",
       "  display: block;\n",
       "  width: 100%;\n",
       "  margin-bottom: 0;\n",
       "  padding: 0.5em;\n",
       "  box-sizing: border-box;\n",
       "  text-align: center;\n",
       "}\n",
       "\n",
       "#sk-container-id-1 label.sk-toggleable__label-arrow:before {\n",
       "  /* Arrow on the left of the label */\n",
       "  content: \"▸\";\n",
       "  float: left;\n",
       "  margin-right: 0.25em;\n",
       "  color: var(--sklearn-color-icon);\n",
       "}\n",
       "\n",
       "#sk-container-id-1 label.sk-toggleable__label-arrow:hover:before {\n",
       "  color: var(--sklearn-color-text);\n",
       "}\n",
       "\n",
       "/* Toggleable content - dropdown */\n",
       "\n",
       "#sk-container-id-1 div.sk-toggleable__content {\n",
       "  max-height: 0;\n",
       "  max-width: 0;\n",
       "  overflow: hidden;\n",
       "  text-align: left;\n",
       "  /* unfitted */\n",
       "  background-color: var(--sklearn-color-unfitted-level-0);\n",
       "}\n",
       "\n",
       "#sk-container-id-1 div.sk-toggleable__content.fitted {\n",
       "  /* fitted */\n",
       "  background-color: var(--sklearn-color-fitted-level-0);\n",
       "}\n",
       "\n",
       "#sk-container-id-1 div.sk-toggleable__content pre {\n",
       "  margin: 0.2em;\n",
       "  border-radius: 0.25em;\n",
       "  color: var(--sklearn-color-text);\n",
       "  /* unfitted */\n",
       "  background-color: var(--sklearn-color-unfitted-level-0);\n",
       "}\n",
       "\n",
       "#sk-container-id-1 div.sk-toggleable__content.fitted pre {\n",
       "  /* unfitted */\n",
       "  background-color: var(--sklearn-color-fitted-level-0);\n",
       "}\n",
       "\n",
       "#sk-container-id-1 input.sk-toggleable__control:checked~div.sk-toggleable__content {\n",
       "  /* Expand drop-down */\n",
       "  max-height: 200px;\n",
       "  max-width: 100%;\n",
       "  overflow: auto;\n",
       "}\n",
       "\n",
       "#sk-container-id-1 input.sk-toggleable__control:checked~label.sk-toggleable__label-arrow:before {\n",
       "  content: \"▾\";\n",
       "}\n",
       "\n",
       "/* Pipeline/ColumnTransformer-specific style */\n",
       "\n",
       "#sk-container-id-1 div.sk-label input.sk-toggleable__control:checked~label.sk-toggleable__label {\n",
       "  color: var(--sklearn-color-text);\n",
       "  background-color: var(--sklearn-color-unfitted-level-2);\n",
       "}\n",
       "\n",
       "#sk-container-id-1 div.sk-label.fitted input.sk-toggleable__control:checked~label.sk-toggleable__label {\n",
       "  background-color: var(--sklearn-color-fitted-level-2);\n",
       "}\n",
       "\n",
       "/* Estimator-specific style */\n",
       "\n",
       "/* Colorize estimator box */\n",
       "#sk-container-id-1 div.sk-estimator input.sk-toggleable__control:checked~label.sk-toggleable__label {\n",
       "  /* unfitted */\n",
       "  background-color: var(--sklearn-color-unfitted-level-2);\n",
       "}\n",
       "\n",
       "#sk-container-id-1 div.sk-estimator.fitted input.sk-toggleable__control:checked~label.sk-toggleable__label {\n",
       "  /* fitted */\n",
       "  background-color: var(--sklearn-color-fitted-level-2);\n",
       "}\n",
       "\n",
       "#sk-container-id-1 div.sk-label label.sk-toggleable__label,\n",
       "#sk-container-id-1 div.sk-label label {\n",
       "  /* The background is the default theme color */\n",
       "  color: var(--sklearn-color-text-on-default-background);\n",
       "}\n",
       "\n",
       "/* On hover, darken the color of the background */\n",
       "#sk-container-id-1 div.sk-label:hover label.sk-toggleable__label {\n",
       "  color: var(--sklearn-color-text);\n",
       "  background-color: var(--sklearn-color-unfitted-level-2);\n",
       "}\n",
       "\n",
       "/* Label box, darken color on hover, fitted */\n",
       "#sk-container-id-1 div.sk-label.fitted:hover label.sk-toggleable__label.fitted {\n",
       "  color: var(--sklearn-color-text);\n",
       "  background-color: var(--sklearn-color-fitted-level-2);\n",
       "}\n",
       "\n",
       "/* Estimator label */\n",
       "\n",
       "#sk-container-id-1 div.sk-label label {\n",
       "  font-family: monospace;\n",
       "  font-weight: bold;\n",
       "  display: inline-block;\n",
       "  line-height: 1.2em;\n",
       "}\n",
       "\n",
       "#sk-container-id-1 div.sk-label-container {\n",
       "  text-align: center;\n",
       "}\n",
       "\n",
       "/* Estimator-specific */\n",
       "#sk-container-id-1 div.sk-estimator {\n",
       "  font-family: monospace;\n",
       "  border: 1px dotted var(--sklearn-color-border-box);\n",
       "  border-radius: 0.25em;\n",
       "  box-sizing: border-box;\n",
       "  margin-bottom: 0.5em;\n",
       "  /* unfitted */\n",
       "  background-color: var(--sklearn-color-unfitted-level-0);\n",
       "}\n",
       "\n",
       "#sk-container-id-1 div.sk-estimator.fitted {\n",
       "  /* fitted */\n",
       "  background-color: var(--sklearn-color-fitted-level-0);\n",
       "}\n",
       "\n",
       "/* on hover */\n",
       "#sk-container-id-1 div.sk-estimator:hover {\n",
       "  /* unfitted */\n",
       "  background-color: var(--sklearn-color-unfitted-level-2);\n",
       "}\n",
       "\n",
       "#sk-container-id-1 div.sk-estimator.fitted:hover {\n",
       "  /* fitted */\n",
       "  background-color: var(--sklearn-color-fitted-level-2);\n",
       "}\n",
       "\n",
       "/* Specification for estimator info (e.g. \"i\" and \"?\") */\n",
       "\n",
       "/* Common style for \"i\" and \"?\" */\n",
       "\n",
       ".sk-estimator-doc-link,\n",
       "a:link.sk-estimator-doc-link,\n",
       "a:visited.sk-estimator-doc-link {\n",
       "  float: right;\n",
       "  font-size: smaller;\n",
       "  line-height: 1em;\n",
       "  font-family: monospace;\n",
       "  background-color: var(--sklearn-color-background);\n",
       "  border-radius: 1em;\n",
       "  height: 1em;\n",
       "  width: 1em;\n",
       "  text-decoration: none !important;\n",
       "  margin-left: 1ex;\n",
       "  /* unfitted */\n",
       "  border: var(--sklearn-color-unfitted-level-1) 1pt solid;\n",
       "  color: var(--sklearn-color-unfitted-level-1);\n",
       "}\n",
       "\n",
       ".sk-estimator-doc-link.fitted,\n",
       "a:link.sk-estimator-doc-link.fitted,\n",
       "a:visited.sk-estimator-doc-link.fitted {\n",
       "  /* fitted */\n",
       "  border: var(--sklearn-color-fitted-level-1) 1pt solid;\n",
       "  color: var(--sklearn-color-fitted-level-1);\n",
       "}\n",
       "\n",
       "/* On hover */\n",
       "div.sk-estimator:hover .sk-estimator-doc-link:hover,\n",
       ".sk-estimator-doc-link:hover,\n",
       "div.sk-label-container:hover .sk-estimator-doc-link:hover,\n",
       ".sk-estimator-doc-link:hover {\n",
       "  /* unfitted */\n",
       "  background-color: var(--sklearn-color-unfitted-level-3);\n",
       "  color: var(--sklearn-color-background);\n",
       "  text-decoration: none;\n",
       "}\n",
       "\n",
       "div.sk-estimator.fitted:hover .sk-estimator-doc-link.fitted:hover,\n",
       ".sk-estimator-doc-link.fitted:hover,\n",
       "div.sk-label-container:hover .sk-estimator-doc-link.fitted:hover,\n",
       ".sk-estimator-doc-link.fitted:hover {\n",
       "  /* fitted */\n",
       "  background-color: var(--sklearn-color-fitted-level-3);\n",
       "  color: var(--sklearn-color-background);\n",
       "  text-decoration: none;\n",
       "}\n",
       "\n",
       "/* Span, style for the box shown on hovering the info icon */\n",
       ".sk-estimator-doc-link span {\n",
       "  display: none;\n",
       "  z-index: 9999;\n",
       "  position: relative;\n",
       "  font-weight: normal;\n",
       "  right: .2ex;\n",
       "  padding: .5ex;\n",
       "  margin: .5ex;\n",
       "  width: min-content;\n",
       "  min-width: 20ex;\n",
       "  max-width: 50ex;\n",
       "  color: var(--sklearn-color-text);\n",
       "  box-shadow: 2pt 2pt 4pt #999;\n",
       "  /* unfitted */\n",
       "  background: var(--sklearn-color-unfitted-level-0);\n",
       "  border: .5pt solid var(--sklearn-color-unfitted-level-3);\n",
       "}\n",
       "\n",
       ".sk-estimator-doc-link.fitted span {\n",
       "  /* fitted */\n",
       "  background: var(--sklearn-color-fitted-level-0);\n",
       "  border: var(--sklearn-color-fitted-level-3);\n",
       "}\n",
       "\n",
       ".sk-estimator-doc-link:hover span {\n",
       "  display: block;\n",
       "}\n",
       "\n",
       "/* \"?\"-specific style due to the `<a>` HTML tag */\n",
       "\n",
       "#sk-container-id-1 a.estimator_doc_link {\n",
       "  float: right;\n",
       "  font-size: 1rem;\n",
       "  line-height: 1em;\n",
       "  font-family: monospace;\n",
       "  background-color: var(--sklearn-color-background);\n",
       "  border-radius: 1rem;\n",
       "  height: 1rem;\n",
       "  width: 1rem;\n",
       "  text-decoration: none;\n",
       "  /* unfitted */\n",
       "  color: var(--sklearn-color-unfitted-level-1);\n",
       "  border: var(--sklearn-color-unfitted-level-1) 1pt solid;\n",
       "}\n",
       "\n",
       "#sk-container-id-1 a.estimator_doc_link.fitted {\n",
       "  /* fitted */\n",
       "  border: var(--sklearn-color-fitted-level-1) 1pt solid;\n",
       "  color: var(--sklearn-color-fitted-level-1);\n",
       "}\n",
       "\n",
       "/* On hover */\n",
       "#sk-container-id-1 a.estimator_doc_link:hover {\n",
       "  /* unfitted */\n",
       "  background-color: var(--sklearn-color-unfitted-level-3);\n",
       "  color: var(--sklearn-color-background);\n",
       "  text-decoration: none;\n",
       "}\n",
       "\n",
       "#sk-container-id-1 a.estimator_doc_link.fitted:hover {\n",
       "  /* fitted */\n",
       "  background-color: var(--sklearn-color-fitted-level-3);\n",
       "}\n",
       "</style><div id=\"sk-container-id-1\" class=\"sk-top-container\"><div class=\"sk-text-repr-fallback\"><pre>Lasso(alpha=1000000.0)</pre><b>In a Jupyter environment, please rerun this cell to show the HTML representation or trust the notebook. <br />On GitHub, the HTML representation is unable to render, please try loading this page with nbviewer.org.</b></div><div class=\"sk-container\" hidden><div class=\"sk-item\"><div class=\"sk-estimator fitted sk-toggleable\"><input class=\"sk-toggleable__control sk-hidden--visually\" id=\"sk-estimator-id-1\" type=\"checkbox\" checked><label for=\"sk-estimator-id-1\" class=\"sk-toggleable__label fitted sk-toggleable__label-arrow fitted\">&nbsp;&nbsp;Lasso<a class=\"sk-estimator-doc-link fitted\" rel=\"noreferrer\" target=\"_blank\" href=\"https://scikit-learn.org/1.4/modules/generated/sklearn.linear_model.Lasso.html\">?<span>Documentation for Lasso</span></a><span class=\"sk-estimator-doc-link fitted\">i<span>Fitted</span></span></label><div class=\"sk-toggleable__content fitted\"><pre>Lasso(alpha=1000000.0)</pre></div> </div></div></div></div>"
      ],
      "text/plain": [
       "Lasso(alpha=1000000.0)"
      ]
     },
     "execution_count": 5,
     "metadata": {},
     "output_type": "execute_result"
    }
   ],
   "source": [
    "# YOUR CODE HERE\n",
    "from sklearn.linear_model import Lasso\n",
    "clf = Lasso(alpha = 1e6)\n",
    "clf.fit(sales[all_features], sales['price'])"
   ]
  },
  {
   "cell_type": "markdown",
   "id": "125cd872",
   "metadata": {},
   "source": [
    "By setting an L1 penalty that's large enough, we are selecting a subset of important features. \n",
    "\n",
    "***Question 3.*** Many of the weights should have been set to zero. Using code, find and report which features, including the intercept term, got non-zero weights. "
   ]
  },
  {
   "cell_type": "code",
   "execution_count": 6,
   "id": "b36d36c9",
   "metadata": {
    "scrolled": true
   },
   "outputs": [
    {
     "name": "stdout",
     "output_type": "stream",
     "text": [
      "[  -0.     -0.      0.    285.78    0.     -0.29   -0.      0.      0.\n",
      "    0.      0.      0.      0.      3.93    0.   -851.25   59.22]\n",
      "1615810.0875070358\n"
     ]
    }
   ],
   "source": [
    "# YOUR CODE HERE\n",
    "print(clf.coef_)\n",
    "print(clf.intercept_)\n",
    "#4 - sqft_living, 6 - sqft_lot, 14 - sqft_above, 16 - yr_built, 17 - yr_renovated"
   ]
  },
  {
   "cell_type": "markdown",
   "id": "d2a9acf1",
   "metadata": {},
   "source": [
    "# Selecting an L1 penalty"
   ]
  },
  {
   "cell_type": "markdown",
   "id": "821134d7",
   "metadata": {},
   "source": [
    "To find a good L1 penalty, we will explore multiple values using a validation set. \n",
    "\n",
    "***Question 4.*** Do a 3-way split of the sales data into train (45%), validation (45%), and test (10%) sets:\n",
    "* Split our sales data into 2 sets: train+validation, and test\n",
    "* Further split the train+validation data into two sets: training, validation\n",
    "* Print the sizes of the three sets\n",
    "\n",
    "*Make sure to use random_state=0 every time to sample a set to ensure consistent answers!*"
   ]
  },
  {
   "cell_type": "code",
   "execution_count": 7,
   "id": "952bfdb4",
   "metadata": {},
   "outputs": [
    {
     "name": "stdout",
     "output_type": "stream",
     "text": [
      "(9726, 25)\n",
      "(9726, 25)\n",
      "(2161, 25)\n"
     ]
    }
   ],
   "source": [
    "# YOUR CODE HERE\n",
    "training_and_validation = sales.sample(frac=0.9, random_state=0)\n",
    "testing = sales.drop(training_and_validation.index)\n",
    "training = training_and_validation.sample(frac=0.5, random_state=0)\n",
    "validation = training_and_validation.drop(training.index)\n",
    "\n",
    "testing = testing.reset_index(drop=True)\n",
    "training = training.reset_index(drop=True)\n",
    "validation = validation.reset_index(drop=True)\n",
    "\n",
    "print(training.shape)\n",
    "print(validation.shape)\n",
    "print(testing.shape)"
   ]
  },
  {
   "cell_type": "markdown",
   "id": "081ae37b",
   "metadata": {},
   "source": [
    "Next, we will fit several models with increasing values of L1 penalty.\n",
    "\n",
    "***Question 5.*** \n",
    "* For `l1_penalty` values in $[10^2, 10^{2.5}, 10^3, 10^{3.5},\\ldots, 10^9]$ (use `np.logspace`!) fit a regression model with a given `l1_penalty` on the training data. Specify `l1_penalty` in the argument of the constructor for the Lasso class.\n",
    "* Compute the MSE on validation data (here you will want to use `.predict()`) for each `l1_penalty` and report the MSE and number of non-zero weights (*Hint: numpy has a useful function for this.*)"
   ]
  },
  {
   "cell_type": "code",
   "execution_count": 8,
   "id": "db038899",
   "metadata": {},
   "outputs": [
    {
     "name": "stdout",
     "output_type": "stream",
     "text": [
      "MSE: 58528846674.020615\n",
      "Num of non-zero weights: 15\n",
      "MSE: 57444264397.03066\n",
      "Num of non-zero weights: 15\n",
      "MSE: 54797228276.04944\n",
      "Num of non-zero weights: 15\n",
      "MSE: 50978201427.56993\n",
      "Num of non-zero weights: 13\n",
      "MSE: 54116795207.66357\n",
      "Num of non-zero weights: 11\n",
      "MSE: 57977347130.133\n",
      "Num of non-zero weights: 9\n",
      "MSE: 66423047887.63249\n",
      "Num of non-zero weights: 6\n",
      "MSE: 65916531703.52077\n",
      "Num of non-zero weights: 5\n",
      "MSE: 67212564923.72041\n",
      "Num of non-zero weights: 5\n",
      "MSE: 69484654532.63876\n",
      "Num of non-zero weights: 3\n",
      "MSE: 69987915691.99457\n",
      "Num of non-zero weights: 3\n",
      "MSE: 71407663933.596\n",
      "Num of non-zero weights: 2\n",
      "MSE: 82084031225.06386\n",
      "Num of non-zero weights: 2\n",
      "MSE: 137323298345.5134\n",
      "Num of non-zero weights: 1\n",
      "MSE: 137752166371.79898\n",
      "Num of non-zero weights: 1\n"
     ]
    }
   ],
   "source": [
    "# YOUR CODE HERE\n",
    "# sklearn will flag bad choices for the l1 penalty with a warning. Let's just ignore those\n",
    "import warnings \n",
    "warnings.filterwarnings(\"ignore\")\n",
    "\n",
    "l1_penalty = np.logspace(2, 9, num = 15, base = 10, endpoint=True)\n",
    "\n",
    "for i in l1_penalty:\n",
    "    clf = Lasso(alpha = i)\n",
    "    clf.fit(training[all_features], training['price'])\n",
    "    y = validation['price']\n",
    "    y_hat = clf.predict(validation[all_features])\n",
    "    print(f'MSE: {np.dot(y - y_hat, y - y_hat)/len(y)}')\n",
    "    print(f'Num of non-zero weights: {np.count_nonzero(clf.coef_)}')"
   ]
  },
  {
   "cell_type": "markdown",
   "id": "1f235337",
   "metadata": {},
   "source": [
    "***Question 6.*** What value of `l1_penalty` yielded the minimum error? Is choosing this minimum useful for feature selection? Explain."
   ]
  },
  {
   "cell_type": "markdown",
   "id": "cc4f0e94",
   "metadata": {},
   "source": [
    "10^3.5 yielded the lowest error. However, it isn't useful as it hasn't ruled out too many features (all weights except two are non-zero)."
   ]
  },
  {
   "cell_type": "markdown",
   "id": "2ad3b5b6",
   "metadata": {},
   "source": [
    "# Limit the number of nonzero weights\n",
    "\n",
    "What if we absolutely wanted to limit ourselves to, say, 5 features? This may be important if we want to derive \"a rule of thumb\" --- an interpretable model that uses only a few features."
   ]
  },
  {
   "cell_type": "markdown",
   "id": "5227d496",
   "metadata": {},
   "source": [
    "In this section, you are going to implement a simple, two phase procedure to achive this goal:\n",
    "1. Explore a large range of `l1_penalty` values to find a narrow region of `l1_penalty` values where models are likely to have the desired number of non-zero weights.\n",
    "2. Further explore the narrow region you found to find a good value for `l1_penalty` that achieves the desired sparsity.  Here, we will again use a validation set to choose the best value for `l1_penalty`."
   ]
  },
  {
   "cell_type": "code",
   "execution_count": 9,
   "id": "720756eb",
   "metadata": {},
   "outputs": [],
   "source": [
    "target_nonzeros = 5"
   ]
  },
  {
   "cell_type": "markdown",
   "id": "0a03fc34",
   "metadata": {},
   "source": [
    "## Exploring the larger range of values to find a narrow range with the desired sparsity\n",
    "\n",
    "Let's define a coarse range of possible `l1_penalty_values`.\n",
    "\n",
    "***Question 7.*** Fit 20 log-spaced penalty values between 1E5 and 1E7 inclusive. For each penalty do the following:\n",
    "* Fit a regression model with a given `l1_penalty` on training data. Specify `l1_penalty` as the argument for the constructor of Lasso.\n",
    "* Extract the weights of the model and count the number of nonzeros (including the intercept term). Save the number of nonzeros to a list.\n",
    "\n",
    "*Hint: Recall that `model.intercept_` and `model.coef_` give you lists with the parameters you learned.* "
   ]
  },
  {
   "cell_type": "code",
   "execution_count": 10,
   "id": "65e6e4a8",
   "metadata": {},
   "outputs": [
    {
     "data": {
      "text/plain": [
       "[(100000.0, 7),\n",
       " (127427.49857031347, 7),\n",
       " (162377.67391887208, 7),\n",
       " (206913.808111479, 7),\n",
       " (263665.08987303555, 6),\n",
       " (335981.8286283781, 6),\n",
       " (428133.2398719396, 6),\n",
       " (545559.4781168514, 6),\n",
       " (695192.7961775606, 6),\n",
       " (885866.7904100833, 6),\n",
       " (1128837.8916846884, 5),\n",
       " (1438449.888287663, 6),\n",
       " (1832980.7108324375, 5),\n",
       " (2335721.4690901213, 5),\n",
       " (2976351.441631319, 5),\n",
       " (3792690.1907322537, 4),\n",
       " (4832930.238571752, 4),\n",
       " (6158482.110660254, 4),\n",
       " (7847599.703514607, 4),\n",
       " (10000000.0, 4)]"
      ]
     },
     "execution_count": 10,
     "metadata": {},
     "output_type": "execute_result"
    }
   ],
   "source": [
    "# YOUR CODE HERE\n",
    "l1_penalty_values = np.logspace(5, 7, num = 20, base = 10, endpoint=True)\n",
    "l1_penalty_values\n",
    "non_zeros = []\n",
    "\n",
    "for i in l1_penalty_values:\n",
    "    clf = Lasso(alpha = i)\n",
    "    clf.fit(training[all_features], training['price'])\n",
    "    nz = np.count_nonzero(clf.coef_)\n",
    "    if clf.intercept_ != 0:\n",
    "        nz = nz + 1\n",
    "    non_zeros.append((i, nz))\n",
    "\n",
    "non_zeros"
   ]
  },
  {
   "cell_type": "markdown",
   "id": "87c74976",
   "metadata": {},
   "source": [
    "Out of this large range, we want to find the two ends of our desired narrow range of `l1_penalty`.  At one end, we will have `l1_penalty` values that have too few non-zeros (too large a penalty), and at the other end, we will have `l1_penalty` values that have too many non-zeros (too small a penalty).  \n",
    "\n",
    "More formally, programmatically find:\n",
    "* The largest `l1_penalty` that has more non-zeros than `target_nonzeros` (if we pick a penalty smaller than this value, we will definitely have too many non-zero weights)\n",
    "    * Store this value in the variable `l1_penalty_min` (we will use it later)\n",
    "* The smallest `l1_penalty` that has fewer non-zeros than `target_nonzeros` (if we pick a penalty larger than this value, we will definitely have too few non-zero weights)\n",
    "    * Store this value in the variable `l1_penalty_max` (we will use it later)\n",
    "\n",
    "***Question 8.*** What values did you find for `l1_penalty_min` and `l1_penalty_max`, respectively? "
   ]
  },
  {
   "cell_type": "code",
   "execution_count": 11,
   "id": "2e770972",
   "metadata": {},
   "outputs": [
    {
     "name": "stdout",
     "output_type": "stream",
     "text": [
      "1438449.888287663 3792690.1907322537\n"
     ]
    }
   ],
   "source": [
    "# YOUR CODE HERE\n",
    "l1_penalty_min_li = []\n",
    "l1_penalty_max_li = []\n",
    "for n in non_zeros:\n",
    "    if n[1] > target_nonzeros:\n",
    "        l1_penalty_min_li.append(n[0])\n",
    "    if n[1] < target_nonzeros:\n",
    "        l1_penalty_max_li.append(n[0])\n",
    "        \n",
    "l1_penalty_min = max(l1_penalty_min_li)\n",
    "l1_penalty_max = min(l1_penalty_max_li)\n",
    "\n",
    "print(l1_penalty_min, l1_penalty_max)"
   ]
  },
  {
   "cell_type": "markdown",
   "id": "d91fa87e",
   "metadata": {},
   "source": [
    "## Exploring the narrow range of values to find the solution with the right number of non-zeros that has lowest RSS on the validation set \n",
    "\n",
    "We will now explore the narrow region of `l1_penalty` values we found:"
   ]
  },
  {
   "cell_type": "code",
   "execution_count": 12,
   "id": "fcac7358",
   "metadata": {},
   "outputs": [],
   "source": [
    "l1_penalty_values = np.linspace(l1_penalty_min,l1_penalty_max,20)"
   ]
  },
  {
   "cell_type": "markdown",
   "id": "08832bfc",
   "metadata": {},
   "source": [
    "For `l1_penalty` in `np.linspace(l1_penalty_min,l1_penalty_max,20)`:\n",
    "* Fit a regression model with a given `l1_penalty` on training data. Call Lasso with the argument `l1_penalty` to specify the penalty value.\n",
    "* Measure the MSE of the learned model on the validation set\n",
    "\n",
    "***Question 9.*** Find the model that the lowest MSE on the VALIDATION set and has sparsity *equal* to `target_nonzeros`."
   ]
  },
  {
   "cell_type": "code",
   "execution_count": 13,
   "id": "553a193b",
   "metadata": {
    "scrolled": false
   },
   "outputs": [
    {
     "name": "stdout",
     "output_type": "stream",
     "text": [
      "69458126365.41039\n"
     ]
    },
    {
     "data": {
      "text/plain": [
       "(array([ -0.  ,  -0.  ,   0.  , 281.78,   0.  ,  -0.18,  -0.  ,   0.  ,\n",
       "          0.  ,   0.  ,   0.  ,   0.  ,   0.  ,  -0.  ,   6.41,  -0.  ,\n",
       "         73.67]),\n",
       " -47444.0331156255)"
      ]
     },
     "execution_count": 13,
     "metadata": {},
     "output_type": "execute_result"
    }
   ],
   "source": [
    "# YOUR CODE HERE\n",
    "\n",
    "MSE_li = []\n",
    "RSS_li = []\n",
    "nonz = []\n",
    "coefs = []\n",
    "pens = []\n",
    "\n",
    "for i in l1_penalty_values:\n",
    "    clf = Lasso(alpha = i)\n",
    "    clf.fit(training[all_features], training['price'])\n",
    "    y = validation['price']\n",
    "    y_hat = clf.predict(validation[all_features])\n",
    "    nz = np.count_nonzero(clf.coef_)\n",
    "    if clf.intercept_ != 0:\n",
    "        nz = nz + 1\n",
    "    if nz == target_nonzeros:\n",
    "        nonz.append(nz)\n",
    "        MSE_li.append(np.dot(y - y_hat, y - y_hat)/len(y))\n",
    "        RSS_li.append(np.dot(y - y_hat, y - y_hat))\n",
    "        coefs.append((clf.coef_, clf.intercept_))\n",
    "        pens.append(i)\n",
    "        \n",
    "min_mse = min(MSE_li)\n",
    "print(min_mse)\n",
    "model = coefs[MSE_li.index(min_mse)]\n",
    "model"
   ]
  },
  {
   "cell_type": "markdown",
   "id": "e4563ae7",
   "metadata": {},
   "source": [
    "***Question 10.***:\n",
    "1. What value of `l1_penalty` in our narrow range has the lowest RSS on the validation set and has sparsity *equal* to `target_nonzeros`?\n",
    "2. What features in this model have non-zero coefficients?"
   ]
  },
  {
   "cell_type": "code",
   "execution_count": 14,
   "id": "f2b6f911",
   "metadata": {},
   "outputs": [
    {
     "data": {
      "text/plain": [
       "1686264.6569660408"
      ]
     },
     "execution_count": 14,
     "metadata": {},
     "output_type": "execute_result"
    }
   ],
   "source": [
    "# YOUR CODE HERE\n",
    "min_rss = min(RSS_li)\n",
    "min_pen = pens[RSS_li.index(min_rss)]\n",
    "min_pen"
   ]
  },
  {
   "cell_type": "markdown",
   "id": "d38c1438",
   "metadata": {},
   "source": [
    "4 - sqft_living, 6 - sqft_lot, 15 - sqft_basement, 17 - yr_renovated"
   ]
  }
 ],
 "metadata": {
  "kernelspec": {
   "display_name": "Python 3 (ipykernel)",
   "language": "python",
   "name": "python3"
  },
  "language_info": {
   "codemirror_mode": {
    "name": "ipython",
    "version": 3
   },
   "file_extension": ".py",
   "mimetype": "text/x-python",
   "name": "python",
   "nbconvert_exporter": "python",
   "pygments_lexer": "ipython3",
   "version": "3.11.0"
  }
 },
 "nbformat": 4,
 "nbformat_minor": 5
}
