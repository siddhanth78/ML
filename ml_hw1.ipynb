{
 "cells": [
  {
   "cell_type": "markdown",
   "id": "7b6c4513-d559-46c8-aa5b-c7f5d113c3fd",
   "metadata": {},
   "source": [
    "## Q1"
   ]
  },
  {
   "cell_type": "markdown",
   "id": "5c5fce04-6ce2-4bb7-a91c-4b2a2baeb73a",
   "metadata": {},
   "source": [
    "Answers here"
   ]
  },
  {
   "cell_type": "markdown",
   "id": "b12f19f6-29b3-4eb3-b697-bff6ff97d462",
   "metadata": {},
   "source": [
    "## Q2"
   ]
  },
  {
   "cell_type": "markdown",
   "id": "3a6293cc-2e8e-426a-a2a5-b6fda562435c",
   "metadata": {},
   "source": [
    "Answers here"
   ]
  },
  {
   "cell_type": "markdown",
   "id": "99b0036c-d977-4da0-ba26-beeb9ae55456",
   "metadata": {},
   "source": [
    "## Q3"
   ]
  },
  {
   "cell_type": "markdown",
   "id": "93ec4d7e-c710-40da-bf2f-7c7c13457e19",
   "metadata": {},
   "source": [
    "a.\n",
    "\n",
    "The probability of a point from sample space falling into the gap is E.\n",
    "The probability of a point falling outside the gap is 1 - E.\n",
    "The probability of N points falling outside the gap is (1 - E)^N.\n",
    "\n",
    "We know that (1 - E) = 1 + E + E^2/2! + E^3/3! + ... = e^-E\n",
    "\n",
    "Therefore, (1 - E)^N  = e^-EN = delta\n",
    "\n",
    "-EN ln e = ln delta\n",
    "\n",
    "N = -ln delta/E"
   ]
  },
  {
   "cell_type": "markdown",
   "id": "6b84ea56-abf8-4f45-8838-92d77c46fd8f",
   "metadata": {},
   "source": [
    "## Q4"
   ]
  },
  {
   "cell_type": "markdown",
   "id": "9f133deb-2ca6-4933-af27-805d1d9b06af",
   "metadata": {},
   "source": [
    "Answer here"
   ]
  }
 ],
 "metadata": {
  "kernelspec": {
   "display_name": "Python 3 (ipykernel)",
   "language": "python",
   "name": "python3"
  },
  "language_info": {
   "codemirror_mode": {
    "name": "ipython",
    "version": 3
   },
   "file_extension": ".py",
   "mimetype": "text/x-python",
   "name": "python",
   "nbconvert_exporter": "python",
   "pygments_lexer": "ipython3",
   "version": "3.11.0"
  }
 },
 "nbformat": 4,
 "nbformat_minor": 5
}
