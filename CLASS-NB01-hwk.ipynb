{
 "cells": [
  {
   "cell_type": "markdown",
   "id": "81bcccb0",
   "metadata": {},
   "source": [
    "# Homework: Sentiment analysis of product reviews (Part 1)\n",
    "\n",
    "\n",
    "In this notebook you will explore logistic regression and feature engineering with scikit-learn functions. You will use product review data from Amazon to predict whether the sentiment about a product, inferred from its review, is positive ($+1$) or negative ($-1$). \n",
    "\n",
    "Even though more sophisticated approaches exist, such as tf-idf (discussed in module 1), for simplicity we'll use a bag-of-words representation as our feature matrix. If you need to review, feature extraction on text data was discussed in the first module of the course.\n",
    "\n",
    "Your job is to do the following:\n",
    "* Perform some basic feature engineering to deal with text data\n",
    "* Use scikit-learn to create a vocabulary for a corpus of reviews\n",
    "* Create a bag of words representation based on the vocabulary shared by the reviews\n",
    "* Train a logistic regression model to predict the sentiment of product reviews.\n",
    "* Inspect the weights (coefficients) of a trained logistic regression model.\n",
    "* Make a prediction (both class and probability) of sentiment for a new product review.\n",
    "* Given the computed weights, predictors and ground truth labels, write a function to compute the accuracy of the model.\n",
    "* Inspect the coefficients of the logistic regression model and interpret their meanings.\n",
    "* Compare multiple logistic regression models.\n",
    "\n",
    "As usual, we import a few libraries we need. Later, you'll need to import more."
   ]
  },
  {
   "cell_type": "code",
   "execution_count": 113,
   "id": "0daa0df6",
   "metadata": {},
   "outputs": [
    {
     "data": {
      "text/html": [
       "<style>.container { width:100% !important; }</style>"
      ],
      "text/plain": [
       "<IPython.core.display.HTML object>"
      ]
     },
     "metadata": {},
     "output_type": "display_data"
    }
   ],
   "source": [
    "import pandas as pd\n",
    "import numpy as np\n",
    "import math\n",
    "import string\n",
    "import warnings\n",
    "warnings.filterwarnings(\"ignore\")\n",
    "# use WIDER CANVAS:\n",
    "from IPython.display import display, HTML\n",
    "display(HTML(\"<style>.container { width:100% !important; }</style>\"))"
   ]
  },
  {
   "cell_type": "markdown",
   "id": "325657e0",
   "metadata": {},
   "source": [
    "## Data preparation\n",
    "\n",
    "We will use a dataset consisting of Amazon baby product reviews."
   ]
  },
  {
   "cell_type": "code",
   "execution_count": 114,
   "id": "3a7f0ee6",
   "metadata": {},
   "outputs": [
    {
     "name": "stdout",
     "output_type": "stream",
     "text": [
      "We will work with 183531 reviews of baby products\n"
     ]
    }
   ],
   "source": [
    "products = pd.read_csv('amazon_baby.gz')\n",
    "print('We will work with',len(products),'reviews of baby products')"
   ]
  },
  {
   "cell_type": "markdown",
   "id": "8b712d03",
   "metadata": {},
   "source": [
    "Let's take a peek at the data."
   ]
  },
  {
   "cell_type": "code",
   "execution_count": 115,
   "id": "f4654771",
   "metadata": {},
   "outputs": [
    {
     "data": {
      "text/html": [
       "<div>\n",
       "<style scoped>\n",
       "    .dataframe tbody tr th:only-of-type {\n",
       "        vertical-align: middle;\n",
       "    }\n",
       "\n",
       "    .dataframe tbody tr th {\n",
       "        vertical-align: top;\n",
       "    }\n",
       "\n",
       "    .dataframe thead th {\n",
       "        text-align: right;\n",
       "    }\n",
       "</style>\n",
       "<table border=\"1\" class=\"dataframe\">\n",
       "  <thead>\n",
       "    <tr style=\"text-align: right;\">\n",
       "      <th></th>\n",
       "      <th>name</th>\n",
       "      <th>review</th>\n",
       "      <th>rating</th>\n",
       "    </tr>\n",
       "  </thead>\n",
       "  <tbody>\n",
       "    <tr>\n",
       "      <th>0</th>\n",
       "      <td>Planetwise Flannel Wipes</td>\n",
       "      <td>These flannel wipes are OK, but in my opinion ...</td>\n",
       "      <td>3.0</td>\n",
       "    </tr>\n",
       "    <tr>\n",
       "      <th>1</th>\n",
       "      <td>Planetwise Wipe Pouch</td>\n",
       "      <td>it came early and was not disappointed. i love...</td>\n",
       "      <td>5.0</td>\n",
       "    </tr>\n",
       "    <tr>\n",
       "      <th>2</th>\n",
       "      <td>Annas Dream Full Quilt with 2 Shams</td>\n",
       "      <td>Very soft and comfortable and warmer than it l...</td>\n",
       "      <td>5.0</td>\n",
       "    </tr>\n",
       "    <tr>\n",
       "      <th>3</th>\n",
       "      <td>Stop Pacifier Sucking without tears with Thumb...</td>\n",
       "      <td>This is a product well worth the purchase.  I ...</td>\n",
       "      <td>5.0</td>\n",
       "    </tr>\n",
       "    <tr>\n",
       "      <th>4</th>\n",
       "      <td>Stop Pacifier Sucking without tears with Thumb...</td>\n",
       "      <td>All of my kids have cried non-stop when I trie...</td>\n",
       "      <td>5.0</td>\n",
       "    </tr>\n",
       "    <tr>\n",
       "      <th>...</th>\n",
       "      <td>...</td>\n",
       "      <td>...</td>\n",
       "      <td>...</td>\n",
       "    </tr>\n",
       "    <tr>\n",
       "      <th>182379</th>\n",
       "      <td>Baby Teething Necklace for Mom Pretty Donut Sh...</td>\n",
       "      <td>Such a great idea! very handy to have and look...</td>\n",
       "      <td>5.0</td>\n",
       "    </tr>\n",
       "    <tr>\n",
       "      <th>182380</th>\n",
       "      <td>Baby Teething Necklace for Mom Pretty Donut Sh...</td>\n",
       "      <td>This product rocks!  It is a great blend of fu...</td>\n",
       "      <td>5.0</td>\n",
       "    </tr>\n",
       "    <tr>\n",
       "      <th>182381</th>\n",
       "      <td>Abstract 2 PK Baby / Toddler Training Cup (Pink)</td>\n",
       "      <td>This item looks great and cool for my kids.......</td>\n",
       "      <td>5.0</td>\n",
       "    </tr>\n",
       "    <tr>\n",
       "      <th>182382</th>\n",
       "      <td>Baby Food Freezer Tray - Bacteria Resistant, B...</td>\n",
       "      <td>I am extremely happy with this product. I have...</td>\n",
       "      <td>5.0</td>\n",
       "    </tr>\n",
       "    <tr>\n",
       "      <th>182383</th>\n",
       "      <td>Best 2 Pack Baby Car Shade for Kids - Window S...</td>\n",
       "      <td>I love this product very mush . I have bought ...</td>\n",
       "      <td>5.0</td>\n",
       "    </tr>\n",
       "  </tbody>\n",
       "</table>\n",
       "<p>182384 rows × 3 columns</p>\n",
       "</div>"
      ],
      "text/plain": [
       "                                                     name  \\\n",
       "0                                Planetwise Flannel Wipes   \n",
       "1                                   Planetwise Wipe Pouch   \n",
       "2                     Annas Dream Full Quilt with 2 Shams   \n",
       "3       Stop Pacifier Sucking without tears with Thumb...   \n",
       "4       Stop Pacifier Sucking without tears with Thumb...   \n",
       "...                                                   ...   \n",
       "182379  Baby Teething Necklace for Mom Pretty Donut Sh...   \n",
       "182380  Baby Teething Necklace for Mom Pretty Donut Sh...   \n",
       "182381   Abstract 2 PK Baby / Toddler Training Cup (Pink)   \n",
       "182382  Baby Food Freezer Tray - Bacteria Resistant, B...   \n",
       "182383  Best 2 Pack Baby Car Shade for Kids - Window S...   \n",
       "\n",
       "                                                   review  rating  \n",
       "0       These flannel wipes are OK, but in my opinion ...     3.0  \n",
       "1       it came early and was not disappointed. i love...     5.0  \n",
       "2       Very soft and comfortable and warmer than it l...     5.0  \n",
       "3       This is a product well worth the purchase.  I ...     5.0  \n",
       "4       All of my kids have cried non-stop when I trie...     5.0  \n",
       "...                                                   ...     ...  \n",
       "182379  Such a great idea! very handy to have and look...     5.0  \n",
       "182380  This product rocks!  It is a great blend of fu...     5.0  \n",
       "182381  This item looks great and cool for my kids.......     5.0  \n",
       "182382  I am extremely happy with this product. I have...     5.0  \n",
       "182383  I love this product very mush . I have bought ...     5.0  \n",
       "\n",
       "[182384 rows x 3 columns]"
      ]
     },
     "execution_count": 115,
     "metadata": {},
     "output_type": "execute_result"
    }
   ],
   "source": [
    "products.dropna(inplace = True)\n",
    "products.reset_index(drop = True, inplace=True)\n",
    "products"
   ]
  },
  {
   "cell_type": "markdown",
   "id": "f21c8891",
   "metadata": {},
   "source": [
    "Let's examine the second review. In Pandas you can access entries by index number. Indices usually start at 0."
   ]
  },
  {
   "cell_type": "code",
   "execution_count": 116,
   "id": "daa92f3e",
   "metadata": {
    "scrolled": true
   },
   "outputs": [
    {
     "name": "stdout",
     "output_type": "stream",
     "text": [
      "NAME: Planetwise Wipe Pouch\n",
      "REVIEW: it came early and was not disappointed. i love planet wise bags and now my wipe holder. it keps my osocozy wipes moist and does not leak. highly recommend it.\n",
      "RATING: 5.0\n"
     ]
    }
   ],
   "source": [
    "an_entry=1\n",
    "for col in products.columns:\n",
    "    print(f'{col.upper()}: {products.iloc[an_entry][col]}')"
   ]
  },
  {
   "cell_type": "markdown",
   "id": "b2ae62a5",
   "metadata": {},
   "source": [
    "## Build word count vector for each review"
   ]
  },
  {
   "cell_type": "markdown",
   "id": "5ab3f855",
   "metadata": {},
   "source": [
    "First, we perform two simple data transformations:\n",
    "\n",
    "1. Remove punctuation using [Python's built-in](https://docs.python.org/2/library/string.html) string functionality.\n",
    "2. Transform the reviews into a bag-of-words representation using a countvectorizer.\n",
    "\n",
    "*Note*. For the sake of simplicity, we replace all punctuation symbols (e.g., !, &, :, etc.) by blanks. A better approach would preserve composite words such as \"would've\", \"hasn't\", etc. If interested, see [this page](https://www.nltk.org/_modules/nltk/tokenize/treebank.html)\n",
    "for scripts with better ways of handling punctuation.\n",
    "\n",
    "Make sure to look up the details for `maketrans`, a method of the `str` class. "
   ]
  },
  {
   "cell_type": "code",
   "execution_count": 117,
   "id": "a2bdf0c9",
   "metadata": {
    "scrolled": true
   },
   "outputs": [
    {
     "name": "stdout",
     "output_type": "stream",
     "text": [
      "!\"#$%&'()*+,-./:;<=>?@[\\]^_`{|}~\n"
     ]
    }
   ],
   "source": [
    "# These are the symbols we will replace\n",
    "print(string.punctuation)"
   ]
  },
  {
   "cell_type": "markdown",
   "id": "b928249c",
   "metadata": {},
   "source": [
    "***Question 1.*** Complete a function `remove_punctuation(text)` to replace punctuation symbols by blanks in its `text` argument."
   ]
  },
  {
   "cell_type": "code",
   "execution_count": 118,
   "id": "7f852e8c",
   "metadata": {
    "scrolled": true
   },
   "outputs": [],
   "source": [
    "# YOUR CODE HERE\n",
    "import string\n",
    "import re\n",
    "def remove_punctuation(text):\n",
    "    text_ = text.translate(str.maketrans('', '', string.punctuation))\n",
    "    return text_"
   ]
  },
  {
   "cell_type": "markdown",
   "id": "34d4742d",
   "metadata": {},
   "source": [
    "Let's test your function on the sample review displayed earlier, but first, we create a clean corpus of reviews without punctuation."
   ]
  },
  {
   "cell_type": "code",
   "execution_count": 119,
   "id": "86a83928",
   "metadata": {},
   "outputs": [
    {
     "name": "stdout",
     "output_type": "stream",
     "text": [
      "(182384, 3)\n",
      "it came early and was not disappointed i love planet wise bags and now my wipe holder it keps my osocozy wipes moist and does not leak highly recommend it\n"
     ]
    }
   ],
   "source": [
    "print(products.shape)\n",
    "review_no_punctuation = products['review'].apply(remove_punctuation)\n",
    "print(review_no_punctuation[an_entry])"
   ]
  },
  {
   "cell_type": "markdown",
   "id": "fc2945b1",
   "metadata": {},
   "source": [
    "## Create the feature matrix X\n",
    "We need a feature matrix with one row for each review. Each row uses a bag-of-word representation on a vocabulary built on the entire corpus of reviews. This task can be easily carried out using the `CountVectorizer` class of sklearn. \n",
    "\n",
    "The vectorizer works by creating a vocabulary (set of words) in a corpus, tokenizing the words in the vocabulary (assigning a unique integer to each word), and creating a bag-of-words representation for each document (review) in the corpus. The integers assigned to the words in the vocabulary become positions in a feature vector that counts the number of occurrences of each particular word. Since in practice feature vectors are huge, a compressed row matrix (`csr_matrix`) is used for each row (see scipy's Compressed Sparse Row matrix for more information).\n",
    "\n",
    "***Question 2.***\n",
    "- Create an instance `cv` of the CountVectorizer class that can remove three types of words: *stop words* (listed below), words that appear in only one review, and words that appear in more than 60% of the reviews.\n",
    "- Using the `fit` function, tokenize the words that were not removed from the clean corpus of reviews. As a side effect, this step creates a dictionary (`vocabulary_`) that maps words to integer positions.\n",
    "- Create a bag-of-words csr_matrix (feature vector) for each review and store it in an additional column `word_count_vec` of the products dataframe.\n",
    "\n",
    "Use the following list of stop words: ['you','he','she','they','an','the','and','or','in','on','at','is','was','were','am','are']."
   ]
  },
  {
   "cell_type": "code",
   "execution_count": 120,
   "id": "9abbf228",
   "metadata": {},
   "outputs": [],
   "source": [
    "# YOUR CODE HERE\n",
    "from scipy.sparse import csr_matrix\n",
    "from sklearn.feature_extraction.text import CountVectorizer\n",
    "\n",
    "stopwords = ['you','he','she','they','an','the','and','or','in','on','at','is','was','were','am','are']\n",
    "cv = CountVectorizer(stop_words = stopwords,\n",
    "                    min_df=2, max_df=0.6)\n",
    "cm = cv.fit_transform(review_no_punctuation)\n",
    "products['word_count_vec'] = pd.Series([csr_matrix(i) for i in cm])"
   ]
  },
  {
   "cell_type": "markdown",
   "id": "95963a07",
   "metadata": {},
   "source": [
    "***Question 3.*** How big are the feature vectors? This, of course, is the same for all samples. What are the feature vector locations of the words 'great' and 'poor'? *Hint.* The vocabulary is a Python dictionary. "
   ]
  },
  {
   "cell_type": "code",
   "execution_count": 121,
   "id": "b657bd02",
   "metadata": {},
   "outputs": [
    {
     "name": "stdout",
     "output_type": "stream",
     "text": [
      "(1, 50336)\n",
      "20113 33454\n"
     ]
    }
   ],
   "source": [
    "# YOUR CODE HERE\n",
    "print(products['word_count_vec'][an_entry].shape)\n",
    "features = cv.get_feature_names_out()\n",
    "features_li = features.tolist()\n",
    "print(features_li.index('great'), features_li.index('poor'))"
   ]
  },
  {
   "cell_type": "markdown",
   "id": "c47d60f8",
   "metadata": {},
   "source": [
    "**Question 4.** Print the review of the 28th entry in `products` (remember 0-indexing!). Write code to answer the following questions:\n",
    "- How many distinct words from the dictionary appear in the cleaned review? \n",
    "- How many times does the word 'book' appear in the review? "
   ]
  },
  {
   "cell_type": "code",
   "execution_count": 122,
   "id": "aac1d27d",
   "metadata": {
    "scrolled": true
   },
   "outputs": [
    {
     "name": "stdout",
     "output_type": "stream",
     "text": [
      "My son loves peek a boo at this age of 9 months so I thought this book would be perfect! This book doesn't engage him enough though it seems.  He does however like the cover the most if I make pretend blow-kisses and peekaboo gestures with the hands and show him. He also likes when I fan the hair towards his face.Maybe when he's older he will flip the flaps but right now he just likes the mirror at the end and the front cover. If I flip the book through he just takes the book and shakes it around.\n",
      "55\n",
      "4\n"
     ]
    }
   ],
   "source": [
    "# YOUR CODE HERE\n",
    "print(products['review'][27])\n",
    "print(len(products.iloc[27]['word_count_vec'].data))\n",
    "print(products['review'][27].count(\"book\"))"
   ]
  },
  {
   "cell_type": "markdown",
   "id": "3f892297",
   "metadata": {},
   "source": [
    "## Extract sentiments\n",
    "\n",
    "We will **ignore** all reviews with *rating = 3*, under the assumption that they usually express a neutral sentiment."
   ]
  },
  {
   "cell_type": "code",
   "execution_count": 123,
   "id": "0362805b",
   "metadata": {},
   "outputs": [
    {
     "name": "stdout",
     "output_type": "stream",
     "text": [
      "We are left with 165679 reviews with strong sentiment\n"
     ]
    }
   ],
   "source": [
    "products = products[products['rating'] != 3]\n",
    "print(f'We are left with {len(products)} reviews with strong sentiment')"
   ]
  },
  {
   "cell_type": "markdown",
   "id": "cf632104",
   "metadata": {},
   "source": [
    "***Question 5.*** Consider reviews with a rating of 4 or higher to be *positive* reviews, and ones with rating of 2 or lower to be *negative*. Create a sentiment column, using $+1$ for the positive class label and $-1$ for the negative class label."
   ]
  },
  {
   "cell_type": "code",
   "execution_count": 124,
   "id": "0d412fc4",
   "metadata": {},
   "outputs": [
    {
     "data": {
      "text/html": [
       "<div>\n",
       "<style scoped>\n",
       "    .dataframe tbody tr th:only-of-type {\n",
       "        vertical-align: middle;\n",
       "    }\n",
       "\n",
       "    .dataframe tbody tr th {\n",
       "        vertical-align: top;\n",
       "    }\n",
       "\n",
       "    .dataframe thead th {\n",
       "        text-align: right;\n",
       "    }\n",
       "</style>\n",
       "<table border=\"1\" class=\"dataframe\">\n",
       "  <thead>\n",
       "    <tr style=\"text-align: right;\">\n",
       "      <th></th>\n",
       "      <th>name</th>\n",
       "      <th>review</th>\n",
       "      <th>rating</th>\n",
       "      <th>word_count_vec</th>\n",
       "      <th>sentiment</th>\n",
       "    </tr>\n",
       "  </thead>\n",
       "  <tbody>\n",
       "    <tr>\n",
       "      <th>1</th>\n",
       "      <td>Planetwise Wipe Pouch</td>\n",
       "      <td>it came early and was not disappointed. i love...</td>\n",
       "      <td>5.0</td>\n",
       "      <td>(0, 49371)\\t1\\n  (0, 28725)\\t2\\n  (0, 29750)...</td>\n",
       "      <td>1.0</td>\n",
       "    </tr>\n",
       "    <tr>\n",
       "      <th>2</th>\n",
       "      <td>Annas Dream Full Quilt with 2 Shams</td>\n",
       "      <td>Very soft and comfortable and warmer than it l...</td>\n",
       "      <td>5.0</td>\n",
       "      <td>(0, 35845)\\t1\\n  (0, 47772)\\t1\\n  (0, 40354)...</td>\n",
       "      <td>1.0</td>\n",
       "    </tr>\n",
       "    <tr>\n",
       "      <th>3</th>\n",
       "      <td>Stop Pacifier Sucking without tears with Thumb...</td>\n",
       "      <td>This is a product well worth the purchase.  I ...</td>\n",
       "      <td>5.0</td>\n",
       "      <td>(0, 28725)\\t1\\n  (0, 29750)\\t1\\n  (0, 49739)...</td>\n",
       "      <td>1.0</td>\n",
       "    </tr>\n",
       "    <tr>\n",
       "      <th>4</th>\n",
       "      <td>Stop Pacifier Sucking without tears with Thumb...</td>\n",
       "      <td>All of my kids have cried non-stop when I trie...</td>\n",
       "      <td>5.0</td>\n",
       "      <td>(0, 28725)\\t1\\n  (0, 21029)\\t1\\n  (0, 43894)...</td>\n",
       "      <td>1.0</td>\n",
       "    </tr>\n",
       "    <tr>\n",
       "      <th>5</th>\n",
       "      <td>Stop Pacifier Sucking without tears with Thumb...</td>\n",
       "      <td>When the Binky Fairy came to our house, we did...</td>\n",
       "      <td>5.0</td>\n",
       "      <td>(0, 21029)\\t1\\n  (0, 2865)\\t2\\n  (0, 8756)\\t...</td>\n",
       "      <td>1.0</td>\n",
       "    </tr>\n",
       "    <tr>\n",
       "      <th>...</th>\n",
       "      <td>...</td>\n",
       "      <td>...</td>\n",
       "      <td>...</td>\n",
       "      <td>...</td>\n",
       "      <td>...</td>\n",
       "    </tr>\n",
       "    <tr>\n",
       "      <th>182379</th>\n",
       "      <td>Baby Teething Necklace for Mom Pretty Donut Sh...</td>\n",
       "      <td>Such a great idea! very handy to have and look...</td>\n",
       "      <td>5.0</td>\n",
       "      <td>(0, 29750)\\t1\\n  (0, 21029)\\t1\\n  (0, 47772)...</td>\n",
       "      <td>1.0</td>\n",
       "    </tr>\n",
       "    <tr>\n",
       "      <th>182380</th>\n",
       "      <td>Baby Teething Necklace for Mom Pretty Donut Sh...</td>\n",
       "      <td>This product rocks!  It is a great blend of fu...</td>\n",
       "      <td>5.0</td>\n",
       "      <td>(0, 35098)\\t1\\n  (0, 43775)\\t1\\n  (0, 30188)...</td>\n",
       "      <td>1.0</td>\n",
       "    </tr>\n",
       "    <tr>\n",
       "      <th>182381</th>\n",
       "      <td>Abstract 2 PK Baby / Toddler Training Cup (Pink)</td>\n",
       "      <td>This item looks great and cool for my kids.......</td>\n",
       "      <td>5.0</td>\n",
       "      <td>(0, 28725)\\t1\\n  (0, 35098)\\t1\\n  (0, 20113)...</td>\n",
       "      <td>1.0</td>\n",
       "    </tr>\n",
       "    <tr>\n",
       "      <th>182382</th>\n",
       "      <td>Baby Food Freezer Tray - Bacteria Resistant, B...</td>\n",
       "      <td>I am extremely happy with this product. I have...</td>\n",
       "      <td>5.0</td>\n",
       "      <td>(0, 28725)\\t3\\n  (0, 29750)\\t1\\n  (0, 3931)\\...</td>\n",
       "      <td>1.0</td>\n",
       "    </tr>\n",
       "    <tr>\n",
       "      <th>182383</th>\n",
       "      <td>Best 2 Pack Baby Car Shade for Kids - Window S...</td>\n",
       "      <td>I love this product very mush . I have bought ...</td>\n",
       "      <td>5.0</td>\n",
       "      <td>(0, 44126)\\t1\\n  (0, 8527)\\t2\\n  (0, 3931)\\t...</td>\n",
       "      <td>1.0</td>\n",
       "    </tr>\n",
       "  </tbody>\n",
       "</table>\n",
       "<p>165679 rows × 5 columns</p>\n",
       "</div>"
      ],
      "text/plain": [
       "                                                     name  \\\n",
       "1                                   Planetwise Wipe Pouch   \n",
       "2                     Annas Dream Full Quilt with 2 Shams   \n",
       "3       Stop Pacifier Sucking without tears with Thumb...   \n",
       "4       Stop Pacifier Sucking without tears with Thumb...   \n",
       "5       Stop Pacifier Sucking without tears with Thumb...   \n",
       "...                                                   ...   \n",
       "182379  Baby Teething Necklace for Mom Pretty Donut Sh...   \n",
       "182380  Baby Teething Necklace for Mom Pretty Donut Sh...   \n",
       "182381   Abstract 2 PK Baby / Toddler Training Cup (Pink)   \n",
       "182382  Baby Food Freezer Tray - Bacteria Resistant, B...   \n",
       "182383  Best 2 Pack Baby Car Shade for Kids - Window S...   \n",
       "\n",
       "                                                   review  rating  \\\n",
       "1       it came early and was not disappointed. i love...     5.0   \n",
       "2       Very soft and comfortable and warmer than it l...     5.0   \n",
       "3       This is a product well worth the purchase.  I ...     5.0   \n",
       "4       All of my kids have cried non-stop when I trie...     5.0   \n",
       "5       When the Binky Fairy came to our house, we did...     5.0   \n",
       "...                                                   ...     ...   \n",
       "182379  Such a great idea! very handy to have and look...     5.0   \n",
       "182380  This product rocks!  It is a great blend of fu...     5.0   \n",
       "182381  This item looks great and cool for my kids.......     5.0   \n",
       "182382  I am extremely happy with this product. I have...     5.0   \n",
       "182383  I love this product very mush . I have bought ...     5.0   \n",
       "\n",
       "                                           word_count_vec  sentiment  \n",
       "1         (0, 49371)\\t1\\n  (0, 28725)\\t2\\n  (0, 29750)...        1.0  \n",
       "2         (0, 35845)\\t1\\n  (0, 47772)\\t1\\n  (0, 40354)...        1.0  \n",
       "3         (0, 28725)\\t1\\n  (0, 29750)\\t1\\n  (0, 49739)...        1.0  \n",
       "4         (0, 28725)\\t1\\n  (0, 21029)\\t1\\n  (0, 43894)...        1.0  \n",
       "5         (0, 21029)\\t1\\n  (0, 2865)\\t2\\n  (0, 8756)\\t...        1.0  \n",
       "...                                                   ...        ...  \n",
       "182379    (0, 29750)\\t1\\n  (0, 21029)\\t1\\n  (0, 47772)...        1.0  \n",
       "182380    (0, 35098)\\t1\\n  (0, 43775)\\t1\\n  (0, 30188)...        1.0  \n",
       "182381    (0, 28725)\\t1\\n  (0, 35098)\\t1\\n  (0, 20113)...        1.0  \n",
       "182382    (0, 28725)\\t3\\n  (0, 29750)\\t1\\n  (0, 3931)\\...        1.0  \n",
       "182383    (0, 44126)\\t1\\n  (0, 8527)\\t2\\n  (0, 3931)\\t...        1.0  \n",
       "\n",
       "[165679 rows x 5 columns]"
      ]
     },
     "execution_count": 124,
     "metadata": {},
     "output_type": "execute_result"
    }
   ],
   "source": [
    "# YOUR CODE HERE\n",
    "# YOUR CODE HERE\n",
    "products['sentiment'] = products['rating'].apply(lambda x: -1.0 if x<3 else +1.0)\n",
    "products  = products.dropna()\n",
    "products"
   ]
  },
  {
   "cell_type": "markdown",
   "id": "899dd03c",
   "metadata": {},
   "source": [
    "The dataset now contains an extra column called **sentiment** which is either positive (+1) or negative (-1)."
   ]
  },
  {
   "cell_type": "code",
   "execution_count": 125,
   "id": "83aa75b7",
   "metadata": {},
   "outputs": [
    {
     "data": {
      "text/html": [
       "<div>\n",
       "<style scoped>\n",
       "    .dataframe tbody tr th:only-of-type {\n",
       "        vertical-align: middle;\n",
       "    }\n",
       "\n",
       "    .dataframe tbody tr th {\n",
       "        vertical-align: top;\n",
       "    }\n",
       "\n",
       "    .dataframe thead th {\n",
       "        text-align: right;\n",
       "    }\n",
       "</style>\n",
       "<table border=\"1\" class=\"dataframe\">\n",
       "  <thead>\n",
       "    <tr style=\"text-align: right;\">\n",
       "      <th></th>\n",
       "      <th>name</th>\n",
       "      <th>rating</th>\n",
       "      <th>sentiment</th>\n",
       "    </tr>\n",
       "  </thead>\n",
       "  <tbody>\n",
       "    <tr>\n",
       "      <th>1</th>\n",
       "      <td>Planetwise Wipe Pouch</td>\n",
       "      <td>5.0</td>\n",
       "      <td>1.0</td>\n",
       "    </tr>\n",
       "    <tr>\n",
       "      <th>2</th>\n",
       "      <td>Annas Dream Full Quilt with 2 Shams</td>\n",
       "      <td>5.0</td>\n",
       "      <td>1.0</td>\n",
       "    </tr>\n",
       "    <tr>\n",
       "      <th>3</th>\n",
       "      <td>Stop Pacifier Sucking without tears with Thumb...</td>\n",
       "      <td>5.0</td>\n",
       "      <td>1.0</td>\n",
       "    </tr>\n",
       "    <tr>\n",
       "      <th>4</th>\n",
       "      <td>Stop Pacifier Sucking without tears with Thumb...</td>\n",
       "      <td>5.0</td>\n",
       "      <td>1.0</td>\n",
       "    </tr>\n",
       "    <tr>\n",
       "      <th>5</th>\n",
       "      <td>Stop Pacifier Sucking without tears with Thumb...</td>\n",
       "      <td>5.0</td>\n",
       "      <td>1.0</td>\n",
       "    </tr>\n",
       "    <tr>\n",
       "      <th>...</th>\n",
       "      <td>...</td>\n",
       "      <td>...</td>\n",
       "      <td>...</td>\n",
       "    </tr>\n",
       "    <tr>\n",
       "      <th>182379</th>\n",
       "      <td>Baby Teething Necklace for Mom Pretty Donut Sh...</td>\n",
       "      <td>5.0</td>\n",
       "      <td>1.0</td>\n",
       "    </tr>\n",
       "    <tr>\n",
       "      <th>182380</th>\n",
       "      <td>Baby Teething Necklace for Mom Pretty Donut Sh...</td>\n",
       "      <td>5.0</td>\n",
       "      <td>1.0</td>\n",
       "    </tr>\n",
       "    <tr>\n",
       "      <th>182381</th>\n",
       "      <td>Abstract 2 PK Baby / Toddler Training Cup (Pink)</td>\n",
       "      <td>5.0</td>\n",
       "      <td>1.0</td>\n",
       "    </tr>\n",
       "    <tr>\n",
       "      <th>182382</th>\n",
       "      <td>Baby Food Freezer Tray - Bacteria Resistant, B...</td>\n",
       "      <td>5.0</td>\n",
       "      <td>1.0</td>\n",
       "    </tr>\n",
       "    <tr>\n",
       "      <th>182383</th>\n",
       "      <td>Best 2 Pack Baby Car Shade for Kids - Window S...</td>\n",
       "      <td>5.0</td>\n",
       "      <td>1.0</td>\n",
       "    </tr>\n",
       "  </tbody>\n",
       "</table>\n",
       "<p>165679 rows × 3 columns</p>\n",
       "</div>"
      ],
      "text/plain": [
       "                                                     name  rating  sentiment\n",
       "1                                   Planetwise Wipe Pouch     5.0        1.0\n",
       "2                     Annas Dream Full Quilt with 2 Shams     5.0        1.0\n",
       "3       Stop Pacifier Sucking without tears with Thumb...     5.0        1.0\n",
       "4       Stop Pacifier Sucking without tears with Thumb...     5.0        1.0\n",
       "5       Stop Pacifier Sucking without tears with Thumb...     5.0        1.0\n",
       "...                                                   ...     ...        ...\n",
       "182379  Baby Teething Necklace for Mom Pretty Donut Sh...     5.0        1.0\n",
       "182380  Baby Teething Necklace for Mom Pretty Donut Sh...     5.0        1.0\n",
       "182381   Abstract 2 PK Baby / Toddler Training Cup (Pink)     5.0        1.0\n",
       "182382  Baby Food Freezer Tray - Bacteria Resistant, B...     5.0        1.0\n",
       "182383  Best 2 Pack Baby Car Shade for Kids - Window S...     5.0        1.0\n",
       "\n",
       "[165679 rows x 3 columns]"
      ]
     },
     "execution_count": 125,
     "metadata": {},
     "output_type": "execute_result"
    }
   ],
   "source": [
    "# Let's take a look at the new column\n",
    "products[['name','rating','sentiment']]"
   ]
  },
  {
   "cell_type": "markdown",
   "id": "a2290c3b",
   "metadata": {},
   "source": [
    "## Split data into training and test sets"
   ]
  },
  {
   "cell_type": "markdown",
   "id": "58187e73",
   "metadata": {},
   "source": [
    "Let's perform a 80-20 train/test split of the data. We'll use `random_state=0` so that everyone gets the same result."
   ]
  },
  {
   "cell_type": "code",
   "execution_count": 126,
   "id": "b9c886b4",
   "metadata": {},
   "outputs": [
    {
     "data": {
      "text/plain": [
       "165679"
      ]
     },
     "execution_count": 126,
     "metadata": {},
     "output_type": "execute_result"
    }
   ],
   "source": [
    "len(products)"
   ]
  },
  {
   "cell_type": "code",
   "execution_count": 127,
   "id": "6a53c073",
   "metadata": {},
   "outputs": [
    {
     "name": "stdout",
     "output_type": "stream",
     "text": [
      "We will use N=132543 training samples\n",
      "and 33136 testing samples\n",
      "Total samples: 165679\n"
     ]
    }
   ],
   "source": [
    "train_data = products.sample(frac=.8, random_state=0)\n",
    "test_data = products.drop(train_data.index)\n",
    "print(f'We will use N={len(train_data)} training samples')\n",
    "print(f'and {len(test_data)} testing samples')\n",
    "print(f'Total samples: {len(products)}')"
   ]
  },
  {
   "cell_type": "markdown",
   "id": "51a80220",
   "metadata": {},
   "source": [
    "## Train a sentiment classifier with logistic regression\n",
    "\n",
    "We will now use logistic regression to create a sentiment classifier on the training data. This model will use the column **word_count_vec** as a feature and the column **sentiment** as the target.\n",
    "\n",
    "***Question 6.*** Create a logistic regression model called `sentiment_model` with scikit-learn (similar to the one in the class demo) with $L_2$-regularization and $C=100$ penalty. You will need to extract a feature matrix `X_train` and vector of true labels `y_train` from your training data.  To create the feature matrix X_train you will need to stack the rows of bag-of-words into a single matrix (you may want to check the function `vstack` in scipy).\n",
    "\n",
    "*Note:* This may take a while on a big trainings set."
   ]
  },
  {
   "cell_type": "code",
   "execution_count": 128,
   "id": "7b4408dd",
   "metadata": {
    "scrolled": true
   },
   "outputs": [
    {
     "data": {
      "text/plain": [
       "array([[ 0.00622357,  0.02125913,  0.00385601, ..., -0.02988658,\n",
       "         0.00499559,  0.00036633]])"
      ]
     },
     "execution_count": 128,
     "metadata": {},
     "output_type": "execute_result"
    }
   ],
   "source": [
    "# YOUR CODE HERE\n",
    "from sklearn.linear_model import LogisticRegression\n",
    "from scipy.sparse import vstack\n",
    "sentiment_model = LogisticRegression(penalty = 'l2', C = 100)\n",
    "X_train = vstack(train_data['word_count_vec'])\n",
    "y_train = train_data['sentiment']\n",
    "sentiment_model.fit(X_train, y_train)\n",
    "sentiment_model.coef_"
   ]
  },
  {
   "cell_type": "markdown",
   "id": "a3ea10a5",
   "metadata": {},
   "source": [
    "X_train should now be a *compressed* feature matrix of size $N\\times d$, where $d$ is the size of the vocabulary. Let's check it out."
   ]
  },
  {
   "cell_type": "code",
   "execution_count": 129,
   "id": "612c10e6",
   "metadata": {},
   "outputs": [
    {
     "name": "stdout",
     "output_type": "stream",
     "text": [
      "<class 'scipy.sparse._csr.csr_matrix'>\n",
      "(132543, 50336)\n"
     ]
    }
   ],
   "source": [
    "print(type(X_train))\n",
    "print(X_train.shape)"
   ]
  },
  {
   "cell_type": "markdown",
   "id": "3237bd05",
   "metadata": {},
   "source": [
    "Now that we have fitted the model, we can extract the weights (coefficients) as a dictionary as follows:\n",
    "\n",
    "***Question 7.*** Extract the weights of the words and store them in a dictionary `word_coef` that maps feature names (words) to coefficients. *Hint.* You can get the feature names using your vectorizer."
   ]
  },
  {
   "cell_type": "code",
   "execution_count": 130,
   "id": "79434f3b",
   "metadata": {},
   "outputs": [
    {
     "data": {
      "text/plain": [
       "{'000': array([0.00622357]),\n",
       " '0001': array([0.02125913]),\n",
       " '001': array([0.00385601]),\n",
       " '01': array([0.2107618]),\n",
       " '012': array([0.61800162]),\n",
       " '02': array([-0.13877868]),\n",
       " '02090': array([0.25796437]),\n",
       " '02180': array([0.19853575]),\n",
       " '025': array([0.10545133]),\n",
       " '03': array([-0.84993207]),\n",
       " '03mo': array([-0.12868994]),\n",
       " '03months': array([-0.07652106]),\n",
       " '04': array([0.62649777]),\n",
       " '05': array([0.14662642]),\n",
       " '050': array([0.0046501]),\n",
       " '06': array([-0.23525863]),\n",
       " '06mths': array([0.04972202]),\n",
       " '07': array([0.05275163]),\n",
       " '075': array([0.06326572]),\n",
       " '08': array([-0.09602405]),\n",
       " '09': array([-0.12934133]),\n",
       " '099': array([-0.34622294]),\n",
       " '0i': array([0.00261162]),\n",
       " '0star': array([-0.30941123]),\n",
       " '0z': array([0.01194751]),\n",
       " '10': array([-0.25944992]),\n",
       " '100': array([0.15194375]),\n",
       " '1000': array([-0.50961299]),\n",
       " '10000': array([-0.43034137]),\n",
       " '100000': array([0.11387697]),\n",
       " '1000x': array([-0.02036462]),\n",
       " '100150': array([0.01370192]),\n",
       " '1002': array([-0.01213799]),\n",
       " '100200': array([0.00865399]),\n",
       " '100240v': array([0.03126547]),\n",
       " '1003': array([-0.0854958]),\n",
       " '100300': array([0.00046295]),\n",
       " '10034': array([0.00090013]),\n",
       " '1004': array([-0.23355765]),\n",
       " '1005': array([0.26022169]),\n",
       " '1007': array([0.21573211]),\n",
       " '1008': array([0.31650685]),\n",
       " '100f': array([8.39522631e-06]),\n",
       " '100feet': array([0.26482946]),\n",
       " '100ft': array([0.03639591]),\n",
       " '100i': array([0.13604042]),\n",
       " '100lb': array([-0.09758616]),\n",
       " '100lbs': array([0.24171785]),\n",
       " '100mb': array([-0.00476617]),\n",
       " '100ml': array([0.06611362]),\n",
       " '100s': array([0.0725037]),\n",
       " '100th': array([-0.20976892]),\n",
       " '100the': array([0.00257309]),\n",
       " '100we': array([-0.52083663]),\n",
       " '100x': array([-0.47920926]),\n",
       " '101': array([-0.05870265]),\n",
       " '1010': array([0.00094005]),\n",
       " '1011': array([0.30145222]),\n",
       " '1012': array([0.57587314]),\n",
       " '1013': array([0.10607762]),\n",
       " '1014': array([-0.07710471]),\n",
       " '1015': array([-0.56971078]),\n",
       " '1015lbs': array([3.83524513e-06]),\n",
       " '1015minutes': array([0.06236449]),\n",
       " '1017': array([-0.0380893]),\n",
       " '1018': array([0.00027121]),\n",
       " '101813': array([-0.00297409]),\n",
       " '102': array([0.19649708]),\n",
       " '1020': array([-0.83050312]),\n",
       " '102011': array([0.00620643]),\n",
       " '102012': array([7.79097012e-05]),\n",
       " '1025': array([-0.17048946]),\n",
       " '1026': array([-0.20956581]),\n",
       " '1027': array([0.35970268]),\n",
       " '102805': array([1.28369266e-05]),\n",
       " '103': array([-0.01697414]),\n",
       " '1030': array([9.54124465e-05]),\n",
       " '1032': array([0.44014578]),\n",
       " '1034': array([0.16397607]),\n",
       " '1038': array([-0.14924613]),\n",
       " '104': array([-0.9479142]),\n",
       " '1043': array([-0.00383328]),\n",
       " '1045': array([6.52104718e-06]),\n",
       " '1046': array([-0.12257348]),\n",
       " '105': array([-0.20215524]),\n",
       " '10541095107710851100': array([0.09011933]),\n",
       " '1055': array([-0.0720086]),\n",
       " '105lbs': array([0.00275658]),\n",
       " '106': array([0.00018435]),\n",
       " '107': array([0.08752777]),\n",
       " '1071': array([0.42319322]),\n",
       " '1074': array([0.22529833]),\n",
       " '10741072107810851086': array([0.09011933]),\n",
       " '10741088107710841103': array([0.04505967]),\n",
       " '107410891077': array([0.04505967]),\n",
       " '107710971077': array([0.04505967]),\n",
       " '108': array([-0.31820507]),\n",
       " '1080': array([0.22529833]),\n",
       " '108010831080': array([0.04505967]),\n",
       " '1080p': array([0.10148335]),\n",
       " '108210721082': array([0.04505967]),\n",
       " '10821086109010861088108610841091': array([0.]),\n",
       " '108410721083109910961072': array([0.09011933]),\n",
       " '10851077': array([0.18023866]),\n",
       " '10851086': array([0.]),\n",
       " '10861095107710851100': array([0.]),\n",
       " '108710881086': array([0.09011933]),\n",
       " '1089': array([0.04505967]),\n",
       " '108910991085': array([0.]),\n",
       " '109': array([-0.00014047]),\n",
       " '10951090108610731099': array([0.22529833]),\n",
       " '1099': array([-0.04085463]),\n",
       " '10999': array([0.]),\n",
       " '10dollar': array([-0.27042304]),\n",
       " '10ft': array([-0.00090477]),\n",
       " '10g': array([0.]),\n",
       " '10hour': array([0.05992086]),\n",
       " '10hours': array([0.0009848]),\n",
       " '10hr': array([0.05931876]),\n",
       " '10hrs': array([5.11038218e-05]),\n",
       " '10in': array([-0.2940297]),\n",
       " '10its': array([0.01426249]),\n",
       " '10k': array([0.15193584]),\n",
       " '10kg': array([0.000384]),\n",
       " '10lb': array([-0.12550966]),\n",
       " '10lbs': array([-0.21911752]),\n",
       " '10m': array([0.0163697]),\n",
       " '10min': array([0.33770027]),\n",
       " '10mins': array([0.03402506]),\n",
       " '10minute': array([0.11161053]),\n",
       " '10minutes': array([-0.27533978]),\n",
       " '10mo': array([0.02114366]),\n",
       " '10month': array([-0.12252659]),\n",
       " '10monthold': array([-0.66823203]),\n",
       " '10months': array([0.17897945]),\n",
       " '10monthsold': array([0.00194896]),\n",
       " '10mos': array([0.22892954]),\n",
       " '10mph': array([-0.04338812]),\n",
       " '10mth': array([0.00050402]),\n",
       " '10mths': array([0.02441894]),\n",
       " '10ounce': array([-0.05349611]),\n",
       " '10oz': array([-0.41756056]),\n",
       " '10pack': array([0.00147297]),\n",
       " '10pm': array([0.00479738]),\n",
       " '10th': array([-0.56554456]),\n",
       " '10week': array([0.03638526]),\n",
       " '10wk': array([-0.51127278]),\n",
       " '10wks': array([0.06795071]),\n",
       " '10x': array([-0.21475917]),\n",
       " '10x10': array([0.0145103]),\n",
       " '10x12': array([0.01446474]),\n",
       " '10x9': array([0.00190355]),\n",
       " '10xs': array([0.00245984]),\n",
       " '10year': array([2.13494887e-05]),\n",
       " '10yearold': array([0.07535011]),\n",
       " '10yo': array([0.49085183]),\n",
       " '10yr': array([0.00127863]),\n",
       " '11': array([0.0924479]),\n",
       " '110': array([-0.41992909]),\n",
       " '1100': array([0.00556078]),\n",
       " '1103': array([0.04505967]),\n",
       " '110lb': array([0.00030734]),\n",
       " '110lbs': array([-0.01575766]),\n",
       " '110th': array([0.04569964]),\n",
       " '110v': array([-0.58405604]),\n",
       " '111': array([0.]),\n",
       " '1112': array([-0.4620374]),\n",
       " '112': array([0.15096906]),\n",
       " '1125': array([-0.24929126]),\n",
       " '112ounce': array([0.0033796]),\n",
       " '112yearold': array([0.00858125]),\n",
       " '113': array([4.1080898e-06]),\n",
       " '1130': array([-0.42034213]),\n",
       " '1134': array([0.42172054]),\n",
       " '114': array([-0.16473202]),\n",
       " '115': array([-0.4189122]),\n",
       " '115lbs': array([0.28471085]),\n",
       " '116': array([0.20314414]),\n",
       " '117': array([-0.42664279]),\n",
       " '118': array([0.15563763]),\n",
       " '119': array([-0.58797506]),\n",
       " '11900': array([0.]),\n",
       " '1199': array([0.1955024]),\n",
       " '11995': array([-0.00073342]),\n",
       " '11999': array([-0.22391736]),\n",
       " '11am': array([0.08132374]),\n",
       " '11hrs': array([0.01859493]),\n",
       " '11lb': array([0.]),\n",
       " '11lbs': array([0.08970733]),\n",
       " '11m': array([0.00821741]),\n",
       " '11mo': array([0.14707268]),\n",
       " '11month': array([-0.87878822]),\n",
       " '11monthold': array([0.14781558]),\n",
       " '11months': array([0.02321418]),\n",
       " '11monthsold': array([5.74812887e-05]),\n",
       " '11mos': array([0.00023194]),\n",
       " '11mth': array([0.11383175]),\n",
       " '11oz': array([0.15681744]),\n",
       " '11th': array([0.05200379]),\n",
       " '11week': array([0.00501177]),\n",
       " '11weekold': array([0.00307685]),\n",
       " '11x14': array([0.0237361]),\n",
       " '11yr': array([0.06977639]),\n",
       " '11yrs': array([0.09256285]),\n",
       " '12': array([-0.29272796]),\n",
       " '120': array([-0.07645931]),\n",
       " '1200': array([-0.27693664]),\n",
       " '12000': array([-0.07673471]),\n",
       " '120ish': array([-0.00101512]),\n",
       " '120lb': array([0.01377926]),\n",
       " '120lbs': array([0.06075764]),\n",
       " '120ml4oz': array([0.059132]),\n",
       " '120us': array([0.11196473]),\n",
       " '120v': array([-0.1038849]),\n",
       " '121': array([-0.07937347]),\n",
       " '121013': array([-0.05919493]),\n",
       " '1212': array([-0.01129176]),\n",
       " '1213': array([0.36179532]),\n",
       " '1214': array([0.60234377]),\n",
       " '1215': array([-0.29419368]),\n",
       " '1216': array([0.1112527]),\n",
       " '1217': array([0.00030587]),\n",
       " '1218': array([-0.38450783]),\n",
       " '1218mo': array([-0.03940266]),\n",
       " '122': array([0.00944594]),\n",
       " '1220': array([0.11452037]),\n",
       " '122012': array([4.43711991e-06]),\n",
       " '122013': array([0.00030587]),\n",
       " '1224': array([0.02981258]),\n",
       " '123': array([-0.01061099]),\n",
       " '1230': array([-0.20366105]),\n",
       " '1230430': array([0.03983005]),\n",
       " '1234': array([0.47127113]),\n",
       " '1234x1234': array([-0.02218743]),\n",
       " '1236': array([0.15087423]),\n",
       " '123s': array([0.00887726]),\n",
       " '124': array([0.02294798]),\n",
       " '125': array([0.52950484]),\n",
       " '12500': array([-0.04809089]),\n",
       " '12513': array([0.00778649]),\n",
       " '125135': array([-0.02600354]),\n",
       " '12534': array([0.13005175]),\n",
       " '126': array([0.32371495]),\n",
       " '127': array([-0.0063433]),\n",
       " '1275': array([0.32516406]),\n",
       " '128077': array([0.08440472]),\n",
       " '128512': array([0.00466412]),\n",
       " '128522': array([0.01108042]),\n",
       " '1288': array([0.01519851]),\n",
       " '129': array([-0.17580408]),\n",
       " '12900': array([-0.17706252]),\n",
       " '1295': array([0.0115549]),\n",
       " '1299': array([0.92263712]),\n",
       " '12999': array([0.00085767]),\n",
       " '12bs': array([2.63909649e-05]),\n",
       " '12day': array([0.01447636]),\n",
       " '12hour': array([-0.03021875]),\n",
       " '12hr': array([0.04116056]),\n",
       " '12hrs': array([0.00016439]),\n",
       " '12in': array([0.02584679]),\n",
       " '12inch': array([0.003186]),\n",
       " '12inches': array([0.]),\n",
       " '12kg': array([0.03675466]),\n",
       " '12lb': array([-0.2839126]),\n",
       " '12lbs': array([0.26282891]),\n",
       " '12m': array([-0.20196524]),\n",
       " '12mo': array([0.04940923]),\n",
       " '12month': array([-0.32297076]),\n",
       " '12monthold': array([-0.52155028]),\n",
       " '12months': array([-0.10293461]),\n",
       " '12mos': array([0.00210875]),\n",
       " '12oz': array([-0.43409556]),\n",
       " '12pack': array([0.13319005]),\n",
       " '12passenger': array([-0.48096957]),\n",
       " '12perfect': array([0.01555012]),\n",
       " '12pound': array([0.00081255]),\n",
       " '12th': array([0.01273225]),\n",
       " '12v': array([0.91837901]),\n",
       " '12w': array([8.17042786e-05]),\n",
       " '12week': array([0.03972321]),\n",
       " '12weeks': array([0.0385795]),\n",
       " '12x': array([0.17031134]),\n",
       " '12x12': array([0.12026734]),\n",
       " '12yearold': array([0.00169017]),\n",
       " '12years': array([0.]),\n",
       " '12yo': array([0.18734996]),\n",
       " '12yr': array([-0.31776677]),\n",
       " '12yrs': array([0.08362139]),\n",
       " '13': array([-0.29862747]),\n",
       " '130': array([-0.21933996]),\n",
       " '1300': array([0.29065267]),\n",
       " '13000': array([3.80322438e-05]),\n",
       " '130140': array([-0.04908657]),\n",
       " '130lbs': array([-0.0536584]),\n",
       " '131': array([0.00939678]),\n",
       " '13103722976': array([0.03860385]),\n",
       " '1312': array([-0.00286313]),\n",
       " '1314': array([0.06407845]),\n",
       " '132': array([0.03367674]),\n",
       " '133': array([0.16217826]),\n",
       " '134': array([-0.24971962]),\n",
       " '1341': array([0.00018398]),\n",
       " '135': array([0.24001242]),\n",
       " '135lbs': array([-0.00711824]),\n",
       " '136': array([0.02574656]),\n",
       " '137': array([0.00512446]),\n",
       " '138': array([-0.12684186]),\n",
       " '139': array([0.25177684]),\n",
       " '1398': array([0.0986339]),\n",
       " '1399': array([-0.15102103]),\n",
       " '13999': array([0.18606677]),\n",
       " '13gallon': array([0.08850958]),\n",
       " '13ish': array([0.]),\n",
       " '13lb': array([0.25392158]),\n",
       " '13lbs': array([0.01996257]),\n",
       " '13m': array([0.00461853]),\n",
       " '13mo': array([-0.00355152]),\n",
       " '13month': array([-0.65706644]),\n",
       " '13monthold': array([0.02955043]),\n",
       " '13months': array([0.17827982]),\n",
       " '13oz': array([0.06548433]),\n",
       " '13pc': array([0.00185285]),\n",
       " '13pcs': array([0.00062685]),\n",
       " '13piece': array([0.00361505]),\n",
       " '13rd': array([0.25581819]),\n",
       " '13th': array([0.13281795]),\n",
       " '13year': array([0.00074724]),\n",
       " '13yr': array([0.00386424]),\n",
       " '13yrs': array([0.01574567]),\n",
       " '14': array([0.24742153]),\n",
       " '140': array([-0.27358102]),\n",
       " '1400': array([-0.32144338]),\n",
       " '14000': array([0.38813745]),\n",
       " '140lbs': array([0.01882561]),\n",
       " '1412': array([-0.00375815]),\n",
       " '1415': array([-0.0025099]),\n",
       " '1416': array([0.]),\n",
       " '1419': array([0.20352889]),\n",
       " '1420': array([0.28810998]),\n",
       " '1422': array([-0.24034144]),\n",
       " '1428': array([-0.29664859]),\n",
       " '1434': array([0.00109514]),\n",
       " '1449': array([-0.23010365]),\n",
       " '145': array([0.35613745]),\n",
       " '146': array([0.08777686]),\n",
       " '148': array([-0.01317118]),\n",
       " '149': array([0.0017955]),\n",
       " '1495': array([0.33032322]),\n",
       " '1499': array([0.42315588]),\n",
       " '14999': array([0.]),\n",
       " '14in': array([-0.00099722]),\n",
       " '14lb': array([0.00014934]),\n",
       " '14lbs': array([-0.26397453]),\n",
       " '14m': array([0.02433514]),\n",
       " '14mo': array([0.08760517]),\n",
       " '14month': array([-0.47927471]),\n",
       " '14monthold': array([-0.22017555]),\n",
       " '14months': array([0.00717372]),\n",
       " '14mths': array([0.]),\n",
       " '14oz': array([0.00165825]),\n",
       " '14th': array([-0.25380487]),\n",
       " '14x14': array([0.00159627]),\n",
       " '14yr': array([8.21448244e-05]),\n",
       " '14yrs': array([0.00111556]),\n",
       " '15': array([-0.34294546]),\n",
       " '150': array([0.64284397]),\n",
       " '1500': array([-0.7628856]),\n",
       " '15000': array([0.08237085]),\n",
       " '150ft': array([0.]),\n",
       " '150i': array([0.19566239]),\n",
       " '150lbs': array([-0.01031726]),\n",
       " '150ml': array([0.15970291]),\n",
       " '1518': array([0.15775241]),\n",
       " '152': array([-0.06780352]),\n",
       " '1520': array([1.15386788]),\n",
       " '1522': array([0.00387529]),\n",
       " '1525': array([0.0981951]),\n",
       " '153': array([0.]),\n",
       " '1530': array([0.07686357]),\n",
       " '1534': array([-0.41455058]),\n",
       " '154': array([-0.00201133]),\n",
       " '1545': array([0.00395879]),\n",
       " '155': array([-0.10508022]),\n",
       " '157': array([-1.17862193e-05]),\n",
       " '15700': array([-0.22299049]),\n",
       " '159': array([0.00455614]),\n",
       " '1599': array([0.04880191]),\n",
       " '15ft': array([0.10434615]),\n",
       " '15hrs': array([-0.00443349]),\n",
       " '15ish': array([0.12131537]),\n",
       " '15lb': array([-0.0006073]),\n",
       " '15lbs': array([1.14336107]),\n",
       " '15m': array([0.05227483]),\n",
       " '15min': array([-0.66879279]),\n",
       " '15mins': array([-0.11759518]),\n",
       " '15minute': array([0.00535486]),\n",
       " '15mo': array([-0.26512973]),\n",
       " '15month': array([0.35045648]),\n",
       " '15monthold': array([-0.02928452]),\n",
       " '15months': array([-0.2992699]),\n",
       " '15monthsold': array([0.05847272]),\n",
       " '15mos': array([0.00467426]),\n",
       " '15mths': array([0.]),\n",
       " '15oz': array([0.04264347]),\n",
       " '15th': array([-0.25440533]),\n",
       " '15v': array([-0.09268862]),\n",
       " '15x': array([0.00219341]),\n",
       " '15x33': array([0.06819285]),\n",
       " '15yo': array([0.01288376]),\n",
       " '15yr': array([0.00883073]),\n",
       " '16': array([0.05660291]),\n",
       " '160': array([-0.35424135]),\n",
       " '1600': array([-1.12651362]),\n",
       " '16000': array([0.20695887]),\n",
       " '160lbs': array([0.09515128]),\n",
       " '1614': array([0.00030587]),\n",
       " '1617': array([0.03064262]),\n",
       " '1617lbs': array([1.06525218e-05]),\n",
       " '1618': array([0.00112468]),\n",
       " '1620': array([-0.00582834]),\n",
       " '1634': array([0.00362679]),\n",
       " '164': array([0.02407696]),\n",
       " '165': array([0.11646752]),\n",
       " '168': array([0.00506128]),\n",
       " '169': array([-0.17697813]),\n",
       " '16900': array([0.]),\n",
       " '1695': array([0.00345422]),\n",
       " '1699': array([0.34064854]),\n",
       " '16999': array([4.03062832e-06]),\n",
       " '16in': array([0.]),\n",
       " '16lb': array([0.18812886]),\n",
       " '16lbs': array([-0.4525985]),\n",
       " '16m': array([0.00044638]),\n",
       " '16mo': array([-0.00087105]),\n",
       " '16month': array([0.6234025]),\n",
       " '16monthold': array([0.02946783]),\n",
       " '16months': array([0.00416007]),\n",
       " '16mos': array([0.00369607]),\n",
       " '16mths': array([0.00580614]),\n",
       " '16oz': array([0.00946639]),\n",
       " '16pack': array([0.00093363]),\n",
       " '16th': array([-0.37437861]),\n",
       " '16x32': array([-0.05421442]),\n",
       " '17': array([-0.21100734]),\n",
       " '170': array([-0.5148496]),\n",
       " '1700': array([0.07927974]),\n",
       " '17000': array([-0.63172935]),\n",
       " '172': array([-0.34691331]),\n",
       " '1734': array([0.05937598]),\n",
       " '175': array([-0.17767639]),\n",
       " '17534': array([0.00017658]),\n",
       " '175lbs': array([0.01571814]),\n",
       " '178221': array([0.0167697]),\n",
       " '179': array([-0.00322345]),\n",
       " '17900': array([0.01831099]),\n",
       " '1795': array([-0.06241625]),\n",
       " '1799': array([0.35219036]),\n",
       " '17999': array([0.00052422]),\n",
       " '17lb': array([0.5304317]),\n",
       " '17lbs': array([0.04390007]),\n",
       " '17m': array([0.00314287]),\n",
       " '17mo': array([0.15181931]),\n",
       " '17month': array([0.09878712]),\n",
       " '17monthold': array([0.02168152]),\n",
       " '17months': array([0.21037115]),\n",
       " '17th': array([0.00559929]),\n",
       " '17x24': array([0.00018398]),\n",
       " '18': array([0.12204608]),\n",
       " '180': array([0.95825399]),\n",
       " '1800': array([-1.38122759]),\n",
       " '18002686237': array([-0.18937549]),\n",
       " '18004358316': array([0.02299914]),\n",
       " '1800mah': array([0.00035376]),\n",
       " '1805': array([-0.20051058]),\n",
       " '180lbs': array([0.05557403]),\n",
       " '180s': array([-0.04045412]),\n",
       " '1810': array([0.]),\n",
       " '1814': array([0.12066065]),\n",
       " '1816': array([-0.00408996]),\n",
       " '1820': array([0.00730372]),\n",
       " '1824': array([-0.3878436]),\n",
       " '1828': array([0.]),\n",
       " '1834': array([0.23729736]),\n",
       " '1836': array([-0.16221918]),\n",
       " '1840': array([0.55658851]),\n",
       " '185': array([-0.44804179]),\n",
       " '185lbs': array([0.00478115]),\n",
       " '186': array([0.00083034]),\n",
       " '189': array([0.05705907]),\n",
       " '1899': array([6.13264677e-05]),\n",
       " '18inch': array([0.]),\n",
       " '18inches': array([0.00012601]),\n",
       " '18lb': array([-0.30684732]),\n",
       " '18lbs': array([0.50170396]),\n",
       " '18m': array([-0.33222131]),\n",
       " '18mo': array([0.485011]),\n",
       " '18month': array([-0.83692184]),\n",
       " '18monthold': array([0.65916736]),\n",
       " '18months': array([1.01405212]),\n",
       " '18monthsold': array([-0.327264]),\n",
       " '18moold': array([0.01896907]),\n",
       " '18mos': array([0.13671278]),\n",
       " '18mth': array([-0.73363223]),\n",
       " '18mths': array([0.01992198]),\n",
       " '18ounce': array([0.17537249]),\n",
       " '18th': array([0.38195852]),\n",
       " '18x36': array([-0.62567798]),\n",
       " '19': array([-1.0106387]),\n",
       " '190': array([-0.03445758]),\n",
       " '1900': array([-0.6015854]),\n",
       " '190lbs': array([1.04712336e-05]),\n",
       " '192': array([0.14996119]),\n",
       " '1920': array([-0.19958311]),\n",
       " '1920s': array([0.24608742]),\n",
       " '1926': array([0.00227209]),\n",
       " '1934': array([0.00540759]),\n",
       " '1940s': array([-0.31655958]),\n",
       " '1945': array([0.26929378]),\n",
       " '195': array([-0.04613105]),\n",
       " '1950s': array([-0.01307024]),\n",
       " '1960s': array([0.11483825]),\n",
       " '1961': array([-0.14422886]),\n",
       " '1967': array([0.0044944]),\n",
       " '1969': array([-0.02268231]),\n",
       " '197': array([0.00304774]),\n",
       " '1970': array([-0.00473258]),\n",
       " '1970s': array([0.00711754]),\n",
       " '1975': array([0.10441221]),\n",
       " '1977': array([0.00971181]),\n",
       " '1979': array([0.02913179]),\n",
       " '1980s': array([-0.09533408]),\n",
       " '1984': array([-0.02272954]),\n",
       " '1985': array([-0.24523785]),\n",
       " '1988': array([-0.33566184]),\n",
       " '1989': array([0.03207846]),\n",
       " '199': array([-0.63623074]),\n",
       " '1990': array([0.02131471]),\n",
       " '19900': array([0.20065924]),\n",
       " '1990s': array([-0.18539697]),\n",
       " '1991': array([0.29435182]),\n",
       " '1992': array([-0.34274868]),\n",
       " '1993': array([0.08254374]),\n",
       " '1994': array([-0.00146906]),\n",
       " '1995': array([0.09628122]),\n",
       " '1996': array([0.01396076]),\n",
       " '1997': array([-0.2594589]),\n",
       " '1998': array([0.01203842]),\n",
       " '1999': array([-0.07405967]),\n",
       " '19999': array([0.01847236]),\n",
       " '19ghz': array([-0.00165798]),\n",
       " '19lb': array([0.00083988]),\n",
       " '19lbs': array([0.12627279]),\n",
       " '19m': array([0.00054891]),\n",
       " '19mm': array([0.03255477]),\n",
       " '19mo': array([-0.00071911]),\n",
       " '19month': array([0.16886088]),\n",
       " '19monthold': array([0.02516246]),\n",
       " '19months': array([-0.15709105]),\n",
       " '19mos': array([0.24139203]),\n",
       " '19mths': array([-0.15609656]),\n",
       " '19th': array([-0.12084126]),\n",
       " '19x': array([0.15752895]),\n",
       " '1a': array([-0.03017142]),\n",
       " '1although': array([0.]),\n",
       " '1am': array([-0.00608704]),\n",
       " '1and': array([-0.00131516]),\n",
       " '1cup': array([0.00257105]),\n",
       " '1d': array([0.00734268]),\n",
       " '1day': array([-0.00077391]),\n",
       " '1h': array([-0.37608655]),\n",
       " '1hand': array([0.00085837]),\n",
       " '1handed': array([0.02230441]),\n",
       " '1hour': array([0.00351581]),\n",
       " '1hr': array([0.02043777]),\n",
       " '1i': array([-0.14284912]),\n",
       " '1im': array([0.17288085]),\n",
       " '1in': array([0.02909899]),\n",
       " '1inch': array([0.0037295]),\n",
       " '1it': array([-0.2922564]),\n",
       " '1its': array([0.00021012]),\n",
       " '1k': array([0.01282254]),\n",
       " '1m': array([0.10652809]),\n",
       " '1min': array([-0.24396059]),\n",
       " '1ml': array([0.05227998]),\n",
       " '1mm': array([-0.43341658]),\n",
       " '1mo': array([-0.08487189]),\n",
       " '1month': array([-0.29907435]),\n",
       " '1monthold': array([-0.71550985]),\n",
       " '1oz': array([-0.06071716]),\n",
       " '1piece': array([-0.00659286]),\n",
       " '1pm': array([0.2133902]),\n",
       " '1quot': array([-0.41283089]),\n",
       " '1s': array([0.12887321]),\n",
       " '1so': array([-0.00187362]),\n",
       " '1st': array([-0.58857767]),\n",
       " '1star': array([-0.08249872]),\n",
       " '1sts': array([-0.46717452]),\n",
       " '1stthe': array([-0.25929376]),\n",
       " '1t': array([0.06358602]),\n",
       " '1the': array([0.64334881]),\n",
       " '1we': array([0.00249347]),\n",
       " '1week': array([0.16205144]),\n",
       " '1when': array([-0.0780874]),\n",
       " '1wk': array([0.00032327]),\n",
       " '1x': array([-0.6777977]),\n",
       " '1x1': array([0.01687793]),\n",
       " '1x2': array([-0.56853708]),\n",
       " '1x3': array([0.01484704]),\n",
       " '1x4': array([0.00536306]),\n",
       " '1year': array([0.22310604]),\n",
       " '1yearold': array([-0.13039545]),\n",
       " '1yearolds': array([-0.02894023]),\n",
       " '1yo': array([-0.5837846]),\n",
       " '1yr': array([-1.01778153]),\n",
       " '1yrold': array([-0.00360252]),\n",
       " '1yrs': array([0.03179344]),\n",
       " '20': array([-0.08863678]),\n",
       " '200': array([-0.6301348]),\n",
       " '2000': array([-0.62912298]),\n",
       " '20000': array([-0.00844814]),\n",
       " '2000ft': array([0.00031285]),\n",
       " '2001': array([0.29268574]),\n",
       " '2002': array([-0.8157682]),\n",
       " '2003': array([-0.43144957]),\n",
       " '200300': array([-0.32261848]),\n",
       " '2004': array([0.34602285]),\n",
       " '2005': array([0.17223023]),\n",
       " '2006': array([0.63053256]),\n",
       " '2007': array([-0.10039651]),\n",
       " '2007i': array([0.00026933]),\n",
       " '2008': array([-0.2681834]),\n",
       " '2008i': array([-0.07287918]),\n",
       " '2009': array([-1.06087197]),\n",
       " '200am': array([-0.02399012]),\n",
       " '200ft': array([0.04043534]),\n",
       " '200lb': array([0.00564069]),\n",
       " '200lbs': array([0.00324149]),\n",
       " '200ml': array([0.]),\n",
       " '200the': array([0.00023901]),\n",
       " '2010': array([-1.94910613]),\n",
       " '20100': array([0.04168353]),\n",
       " '20102011': array([0.00013372]),\n",
       " '2010the': array([0.00396287]),\n",
       " '2011': array([-0.03263041]),\n",
       " '2011after': array([0.]),\n",
       " '2011i': array([-0.02721393]),\n",
       " '2011the': array([-0.03464716]),\n",
       " '2011this': array([0.00622825]),\n",
       " '2011which': array([0.00106003]),\n",
       " '2012': array([0.26385978]),\n",
       " '2012i': array([-0.59666783]),\n",
       " '2012the': array([0.02568135]),\n",
       " '2013': array([-1.04075901]),\n",
       " '2013i': array([-0.0970608]),\n",
       " '2013ive': array([0.00123326]),\n",
       " '2013my': array([-0.4419787]),\n",
       " '2013so': array([-0.3623704]),\n",
       " '2013still': array([-0.00054298]),\n",
       " '2014': array([1.06466145]),\n",
       " '2014after': array([0.15855814]),\n",
       " '2014i': array([0.25152883]),\n",
       " '2014my': array([0.00389816]),\n",
       " '2015': array([0.35894054]),\n",
       " '2017': array([0.]),\n",
       " '202': array([-0.00145331]),\n",
       " '2020': array([-0.16302082]),\n",
       " '2022': array([0.06846911]),\n",
       " '2025': array([0.25010687]),\n",
       " '2025lbs': array([2.63909649e-05]),\n",
       " '203': array([-0.00173309]),\n",
       " '2030': array([-0.29699396]),\n",
       " '2034': array([0.03151076]),\n",
       " '2040': array([0.00360173]),\n",
       " '2045': array([0.00096177]),\n",
       " '205': array([-0.00849214]),\n",
       " '2060': array([0.17337235]),\n",
       " '208': array([0.]),\n",
       " '209': array([-0.00594636]),\n",
       " '20999': array([-0.88139621]),\n",
       " '20ft': array([0.2485162]),\n",
       " '20ibs': array([0.00049431]),\n",
       " '20in': array([0.05259887]),\n",
       " '20ish': array([0.]),\n",
       " '20lb': array([0.2933602]),\n",
       " '20lbs': array([-0.10956068]),\n",
       " '20m': array([-0.12265792]),\n",
       " '20min': array([0.00888925]),\n",
       " '20mins': array([0.16738433]),\n",
       " '20minutes': array([-0.12210802]),\n",
       " '20mm': array([-0.24222896]),\n",
       " '20mo': array([0.01508004]),\n",
       " '20month': array([0.6558211]),\n",
       " '20monthold': array([-0.25070868]),\n",
       " '20months': array([0.02015824]),\n",
       " '20mos': array([0.17709842]),\n",
       " '20mth': array([0.02381798]),\n",
       " '20oz': array([-0.08642864]),\n",
       " '20pound': array([-0.4722459]),\n",
       " '20s': array([0.01402399]),\n",
       " '20sec': array([-0.37014349]),\n",
       " '20th': array([-0.21918572]),\n",
       " '20week': array([0.36864439]),\n",
       " '20x': array([-0.13714903]),\n",
       " '20x15': array([-0.10004503]),\n",
       " '20x20': array([-0.44307852]),\n",
       " '21': array([0.53218113]),\n",
       " '210': array([-0.25494146]),\n",
       " '2100': array([-0.00939522]),\n",
       " '211': array([4.26133192e-05]),\n",
       " '212': array([-0.3224664]),\n",
       " '213': array([-0.46435782]),\n",
       " '2134': array([0.18665195]),\n",
       " '214': array([-0.00142484]),\n",
       " '215': array([0.70343033]),\n",
       " '21534': array([0.00031395]),\n",
       " '215lbs': array([-0.2650302]),\n",
       " '219': array([-0.01155536]),\n",
       " '21lb': array([0.00496894]),\n",
       " '21lbs': array([0.09502799]),\n",
       " '21m': array([0.23895886]),\n",
       " '21mm': array([-0.50663625]),\n",
       " '21mo': array([0.00015791]),\n",
       " '21month': array([0.03595552]),\n",
       " '21monthold': array([-0.2832934]),\n",
       " '21months': array([0.00631134]),\n",
       " '21st': array([-0.1518043]),\n",
       " '22': array([-0.29094292]),\n",
       " '220': array([0.49363309]),\n",
       " '2200': array([0.04064996]),\n",
       " '220lbs': array([0.0939514]),\n",
       " '220v': array([0.11494833]),\n",
       " '222': array([-0.00164389]),\n",
       " '2224': array([0.47046699]),\n",
       " '2225': array([0.00100834]),\n",
       " '2234': array([0.01688689]),\n",
       " '225': array([0.22742614]),\n",
       " '22534': array([0.01598639]),\n",
       " '2280': array([0.04426674]),\n",
       " '229': array([-0.96040333]),\n",
       " '22lb': array([0.04515533]),\n",
       " '22lbs': array([0.74187901]),\n",
       " '22m': array([0.00146582]),\n",
       " '22mo': array([0.37721183]),\n",
       " '22month': array([0.04877211]),\n",
       " '22monthold': array([0.05297867]),\n",
       " '22months': array([0.00028168]),\n",
       " '22oz': array([0.]),\n",
       " '22pounds': array([0.00051001]),\n",
       " '23': array([-0.43094938]),\n",
       " '230': array([-0.0915089]),\n",
       " '2300': array([0.01409685]),\n",
       " '230am': array([-0.32654542]),\n",
       " '230lbs': array([-0.0420562]),\n",
       " '230pm': array([0.00103734]),\n",
       " '2326': array([-0.003572]),\n",
       " '2328': array([0.]),\n",
       " '2334': array([0.12506299]),\n",
       " '234': array([-0.3962649]),\n",
       " '234x334': array([0.01702727]),\n",
       " '235': array([-0.14446899]),\n",
       " '239': array([0.00020462]),\n",
       " '2399': array([0.36952515]),\n",
       " '23in': array([0.]),\n",
       " '23inch': array([0.11415286]),\n",
       " '23lb': array([-0.03570199]),\n",
       " '23lbs': array([0.16506682]),\n",
       " '23month': array([-0.37591408]),\n",
       " '23monthold': array([-0.2088835]),\n",
       " '23months': array([-0.34054052]),\n",
       " '23moold': array([0.01841323]),\n",
       " '23oz': array([-0.43331887]),\n",
       " '23rd': array([-0.33253607]),\n",
       " '23s': array([-0.09934723]),\n",
       " '23t': array([0.00154147]),\n",
       " '23x': array([0.00564136]),\n",
       " '24': array([-0.52540198]),\n",
       " '240': array([1.20195535]),\n",
       " '2400': array([-0.10688386]),\n",
       " '240147': array([0.01950729]),\n",
       " '240lbs': array([0.00027177]),\n",
       " '240v': array([0.00138121]),\n",
       " '2425lbs': array([-0.200464]),\n",
       " '2430': array([0.15733549]),\n",
       " '2434': array([-0.35027949]),\n",
       " '2436': array([0.]),\n",
       " '2448': array([0.11917903]),\n",
       " '245': array([-0.11452256]),\n",
       " '246': array([0.07837951]),\n",
       " '247': array([-0.4375342]),\n",
       " '2495': array([-0.0985125]),\n",
       " '2499': array([-0.98913365]),\n",
       " '24999': array([0.00018342]),\n",
       " '24ghz': array([0.71748656]),\n",
       " '24hour': array([-0.00039531]),\n",
       " '24hours': array([0.10952034]),\n",
       " '24hr': array([-0.4758652]),\n",
       " '24hrs': array([-0.25410648]),\n",
       " '24lb': array([0.00012538]),\n",
       " '24lbs': array([0.27556024]),\n",
       " '24mm': array([0.59900835]),\n",
       " '24mo': array([0.00364565]),\n",
       " '24months': array([0.02700615]),\n",
       " '24oz': array([0.05447488]),\n",
       " '24pack': array([-0.21776865]),\n",
       " '24th': array([-0.27270498]),\n",
       " '24x36': array([0.]),\n",
       " '24x38': array([0.00165109]),\n",
       " '24x7': array([0.01993146]),\n",
       " '25': array([-0.34320457]),\n",
       " '250': array([-1.04229218]),\n",
       " '2500': array([-0.00775575]),\n",
       " '25000': array([-0.00066747]),\n",
       " '250300': array([-0.00407744]),\n",
       " '250lb': array([0.00013429]),\n",
       " '250ml': array([0.00268337]),\n",
       " '252': array([0.08539725]),\n",
       " '2526': array([0.01229852]),\n",
       " '253': array([0.02707076]),\n",
       " '2530': array([0.66201313]),\n",
       " '2534': array([-0.12563154]),\n",
       " '2535': array([0.14089553]),\n",
       " '2540': array([0.02072003]),\n",
       " '255': array([-0.20480877]),\n",
       " '25i': array([0.01041367]),\n",
       " '25lb': array([-0.30853097]),\n",
       " '25lbs': array([-0.55111951]),\n",
       " '25min': array([-0.31920571]),\n",
       " '25mm': array([-0.1499661]),\n",
       " '25mo': array([0.03325444]),\n",
       " '25monthold': array([0.1140791]),\n",
       " '25months': array([0.00051682]),\n",
       " '25mos': array([0.00200079]),\n",
       " '25oz': array([-0.00133996]),\n",
       " '25th': array([-0.14324186]),\n",
       " '25year': array([0.00204723]),\n",
       " '25yearold': array([0.05303998]),\n",
       " '25years': array([0.00071353]),\n",
       " '25yo': array([0.02902219]),\n",
       " '25yr': array([-0.40609173]),\n",
       " '25yrs': array([0.37502259]),\n",
       " '26': array([0.00288295]),\n",
       " '260': array([0.55686007]),\n",
       " '260lb': array([0.00016602]),\n",
       " '260lbs': array([-0.20777495]),\n",
       " '2634': array([0.00315583]),\n",
       " '264poundsorseventh': array([0.0033796]),\n",
       " '265': array([-0.60408868]),\n",
       " '26534': array([0.00077017]),\n",
       " '2657': array([0.00029144]),\n",
       " '269': array([-0.21504045]),\n",
       " '2699': array([0.01482813]),\n",
       " '26in': array([0.20005428]),\n",
       " '26lb': array([0.00214045]),\n",
       " '26lbs': array([-0.05405686]),\n",
       " '26monthold': array([0.00756826]),\n",
       " '26months': array([0.0046012]),\n",
       " '26mth': array([-0.48553224]),\n",
       " '26th': array([-0.2291851]),\n",
       " '27': array([0.32620262]),\n",
       " '270': array([0.24231052]),\n",
       " '2700': array([-0.5088713]),\n",
       " '2725': array([-0.01727259]),\n",
       " '2734': array([0.21041978]),\n",
       " '275': array([-0.35887486]),\n",
       " '2799': array([-0.19042987]),\n",
       " '27channel': array([0.07688097]),\n",
       " '27dayold': array([-0.01563306]),\n",
       " '27in': array([0.02993179]),\n",
       " '27lb': array([0.00580436]),\n",
       " '27lbs': array([-0.44227646]),\n",
       " '27mm': array([-0.39299787]),\n",
       " '27oz': array([0.09535666]),\n",
       " '27th': array([0.02008666]),\n",
       " '28': array([0.28279042]),\n",
       " '280': array([-0.0007275]),\n",
       " '2834': array([0.2756161]),\n",
       " '2837lbs': array([0.]),\n",
       " '285': array([0.12058466]),\n",
       " '28in': array([-0.00043418]),\n",
       " '28inch': array([-0.1968175]),\n",
       " '28inches': array([-0.35354599]),\n",
       " '28ish': array([0.02598014]),\n",
       " '28lb': array([0.41443385]),\n",
       " '28lbs': array([-0.0257907]),\n",
       " '28oz': array([0.01760996]),\n",
       " '28th': array([-0.01815233]),\n",
       " '28x': array([0.06085939]),\n",
       " '28x28': array([-0.39793886]),\n",
       " '28x52': array([-0.38810698]),\n",
       " '29': array([0.5269634]),\n",
       " '290': array([0.20755024]),\n",
       " '2931': array([0.00013185]),\n",
       " '2934': array([-0.0319843]),\n",
       " '295': array([-0.19647375]),\n",
       " '299': array([-0.05290622]),\n",
       " '2995': array([0.04393235]),\n",
       " '2999': array([0.08160016]),\n",
       " '29999': array([0.00321404]),\n",
       " '29in': array([0.]),\n",
       " '29lb': array([0.]),\n",
       " '29lbs': array([-0.00586194]),\n",
       " '29th': array([0.25289857]),\n",
       " '2a': array([0.43493308]),\n",
       " '2am': array([-2.30707097]),\n",
       " '2and': array([0.02993286]),\n",
       " '2andahalf': array([0.00074248]),\n",
       " '2b': array([0.0002529]),\n",
       " '2bottle': array([0.0002897]),\n",
       " '2but': array([0.]),\n",
       " '2car': array([0.06728671]),\n",
       " '2cents': array([0.00159287]),\n",
       " '2d': array([-0.00355302]),\n",
       " '2day': array([0.4324533]),\n",
       " '2days': array([0.0023776]),\n",
       " '2do': array([0.06660524]),\n",
       " '2door': array([0.00077326]),\n",
       " '2easy': array([0.2078899]),\n",
       " '2ft': array([0.00527912]),\n",
       " '2g': array([2.48322029e-05]),\n",
       " '2hand': array([-0.1150882]),\n",
       " '2handed': array([0.]),\n",
       " '2hours': array([0.02710278]),\n",
       " '2hrs': array([0.0002015]),\n",
       " '2i': array([-0.46841289]),\n",
       " '2in': array([0.13085043]),\n",
       " '2in1': array([0.20899733]),\n",
       " '2inch': array([-0.05759945]),\n",
       " '2inches': array([-0.40279194]),\n",
       " '2it': array([-0.3672968]),\n",
       " '2its': array([-0.52340859]),\n",
       " '2lbs': array([-0.02704512]),\n",
       " '2m': array([0.24541237]),\n",
       " '2mbps': array([0.00542609]),\n",
       " '2min': array([-0.19152778]),\n",
       " '2ml': array([0.02527741]),\n",
       " '2mo': array([0.05725412]),\n",
       " '2month': array([-0.14527264]),\n",
       " '2monthold': array([0.17967108]),\n",
       " '2months': array([0.15507808]),\n",
       " '2mths': array([-0.26498907]),\n",
       " '2my': array([0.05993624]),\n",
       " '2nd': array([0.27112528]),\n",
       " '2now': array([-0.36252464]),\n",
       " '2one': array([0.09907319]),\n",
       " '2or': array([-0.01975939]),\n",
       " '2overall': array([0.01144533]),\n",
       " '2oz': array([-0.34586917]),\n",
       " '2pack': array([1.40975487]),\n",
       " '2packs': array([0.03379279]),\n",
       " '2part': array([0.0004047]),\n",
       " '2person': array([0.01897519]),\n",
       " '2phase': array([0.00399804]),\n",
       " '2piece': array([0.83748851]),\n",
       " '2pk': array([0.07291246]),\n",
       " '2ply': array([0.03468806]),\n",
       " '2s': array([0.20085661]),\n",
       " '2seater': array([0.00030275]),\n",
       " '2sided': array([0.05555242]),\n",
       " '2star': array([-0.49573433]),\n",
       " '2stars': array([-0.45732662]),\n",
       " '2story': array([-0.04803933]),\n",
       " '2t': array([1.25164093]),\n",
       " '2t3t': array([-0.30705878]),\n",
       " '2teeth': array([0.00194139]),\n",
       " '2the': array([-0.24326308]),\n",
       " '2they': array([0.06794605]),\n",
       " '2this': array([0.0018191]),\n",
       " '2tier': array([0.00013782]),\n",
       " '2ts': array([0.33106402]),\n",
       " '2way': array([0.65303857]),\n",
       " '2we': array([0.00766923]),\n",
       " '2week': array([0.19010403]),\n",
       " '2weeks': array([-0.24145476]),\n",
       " '2well': array([-0.09208011]),\n",
       " '2when': array([0.04986629]),\n",
       " '2wks': array([0.03940574]),\n",
       " '2x': array([-0.95161318]),\n",
       " '2x2': array([0.26731506]),\n",
       " '2x3': array([0.04668385]),\n",
       " '2x4': array([0.1490128]),\n",
       " '2x4s': array([-0.26952067]),\n",
       " '2x6': array([-0.58997826]),\n",
       " '2xday': array([0.10788519]),\n",
       " '2xs': array([2.01119696e-05]),\n",
       " '2y': array([0.02777184]),\n",
       " '2year': array([0.09303534]),\n",
       " '2yearold': array([1.09994071]),\n",
       " '2yearolds': array([0.0380177]),\n",
       " '2years': array([0.29328227]),\n",
       " '2yo': array([-0.70587796]),\n",
       " '2yr': array([0.79378463]),\n",
       " '2yrold': array([-0.12733138]),\n",
       " '2yrs': array([-0.30830119]),\n",
       " '2yrsold': array([0.01379873]),\n",
       " '30': array([-0.22691142]),\n",
       " '300': array([0.74665194]),\n",
       " '3000': array([-0.52557372]),\n",
       " '30000': array([-0.2640317]),\n",
       " '3002': array([0.38939733]),\n",
       " '300400': array([0.0090739]),\n",
       " ...}"
      ]
     },
     "execution_count": 130,
     "metadata": {},
     "output_type": "execute_result"
    }
   ],
   "source": [
    "# YOUR CODE HERE\n",
    "# Create an empty dictionary to store the word to coefficient mapping\n",
    "words = list(cv.get_feature_names_out())\n",
    "word_coef = {words[i] : sentiment_model.coef_.T[i] for i in range(len(words))}\n",
    "word_coef"
   ]
  },
  {
   "cell_type": "markdown",
   "id": "248cd7c9",
   "metadata": {},
   "source": [
    "There are thousands of coefficients in the model. Recall from the lecture that positive weights $w_j$ correspond to favorable reviews, while negative weights correspond to negative ones. \n",
    "\n",
    "Let's examime the coefficients of a few features as a sanity check. Did you get what you expected?\n",
    "\n",
    "***Question 8.*** Find the coefficients of the following words: 'awesome', 'good', 'great', 'awful', 'terrible', 'poor'. How many words got a coefficient inconsistent with its meaning."
   ]
  },
  {
   "cell_type": "code",
   "execution_count": 131,
   "id": "1055e950",
   "metadata": {},
   "outputs": [
    {
     "name": "stdout",
     "output_type": "stream",
     "text": [
      "[1.89312309]\n",
      "[0.59446125]\n",
      "[1.59387385]\n",
      "[-1.3723802]\n",
      "[-2.37636603]\n",
      "[-2.94376078]\n"
     ]
    }
   ],
   "source": [
    "# YOUR CODE HERE\n",
    "for j in ['awesome', 'good', 'great', 'awful', 'terrible', 'poor']:\n",
    "    print(word_coef[j])"
   ]
  },
  {
   "cell_type": "markdown",
   "id": "123b06fc",
   "metadata": {},
   "source": [
    "***Question 9.*** Fill in the following block of code to compute the number `num_pos_weights` of positive (>0) weights and the number `num_neg_weights` of negative (<=0) weights. Print both counts and verify that they add to the total number of coefficients you computed earlier in the notebook."
   ]
  },
  {
   "cell_type": "code",
   "execution_count": 132,
   "id": "aac1e48f",
   "metadata": {},
   "outputs": [
    {
     "name": "stdout",
     "output_type": "stream",
     "text": [
      "32098 18238\n",
      "True\n"
     ]
    }
   ],
   "source": [
    "# YOUR CODE HERE\n",
    "pos = 0\n",
    "neg = 0\n",
    "for n in word_coef.values():\n",
    "    if n <= 0:\n",
    "        neg+=1\n",
    "    else:\n",
    "        pos+=1\n",
    "print(pos, neg)\n",
    "print(pos + neg == len(sentiment_model.coef_[0]))"
   ]
  },
  {
   "cell_type": "markdown",
   "id": "02dc2120",
   "metadata": {},
   "source": [
    "## Making predictions with logistic regression\n",
    "\n",
    "Now that a model is trained, we can make predictions on the **test data**. In this section, we will explore this in the context of 8 examples in the test dataset.  We refer to this set of examples as the **sample_test_data**."
   ]
  },
  {
   "cell_type": "code",
   "execution_count": 133,
   "id": "bef1b024",
   "metadata": {},
   "outputs": [
    {
     "data": {
      "text/html": [
       "<div>\n",
       "<style scoped>\n",
       "    .dataframe tbody tr th:only-of-type {\n",
       "        vertical-align: middle;\n",
       "    }\n",
       "\n",
       "    .dataframe tbody tr th {\n",
       "        vertical-align: top;\n",
       "    }\n",
       "\n",
       "    .dataframe thead th {\n",
       "        text-align: right;\n",
       "    }\n",
       "</style>\n",
       "<table border=\"1\" class=\"dataframe\">\n",
       "  <thead>\n",
       "    <tr style=\"text-align: right;\">\n",
       "      <th></th>\n",
       "      <th>name</th>\n",
       "      <th>review</th>\n",
       "      <th>rating</th>\n",
       "      <th>word_count_vec</th>\n",
       "      <th>sentiment</th>\n",
       "    </tr>\n",
       "  </thead>\n",
       "  <tbody>\n",
       "    <tr>\n",
       "      <th>536</th>\n",
       "      <td>Baby Trend Diaper Champ</td>\n",
       "      <td>I chose this pail because I didn't want to spe...</td>\n",
       "      <td>1.0</td>\n",
       "      <td>(0, 29750)\\t1\\n  (0, 49739)\\t1\\n  (0, 20562)...</td>\n",
       "      <td>-1.0</td>\n",
       "    </tr>\n",
       "    <tr>\n",
       "      <th>538</th>\n",
       "      <td>Baby Trend Diaper Champ</td>\n",
       "      <td>This odor absorbing champ even absorbs the odo...</td>\n",
       "      <td>5.0</td>\n",
       "      <td>(0, 28725)\\t1\\n  (0, 6378)\\t1\\n  (0, 43775)\\...</td>\n",
       "      <td>1.0</td>\n",
       "    </tr>\n",
       "    <tr>\n",
       "      <th>541</th>\n",
       "      <td>Baby Trend Diaper Champ</td>\n",
       "      <td>I think this should be a staple in every house...</td>\n",
       "      <td>5.0</td>\n",
       "      <td>(0, 47273)\\t2\\n  (0, 21029)\\t2\\n  (0, 6378)\\...</td>\n",
       "      <td>1.0</td>\n",
       "    </tr>\n",
       "    <tr>\n",
       "      <th>544</th>\n",
       "      <td>Baby Trend Diaper Champ</td>\n",
       "      <td>I love this product. You can use any regular t...</td>\n",
       "      <td>5.0</td>\n",
       "      <td>(0, 8527)\\t1\\n  (0, 47273)\\t2\\n  (0, 21029)\\...</td>\n",
       "      <td>1.0</td>\n",
       "    </tr>\n",
       "    <tr>\n",
       "      <th>546</th>\n",
       "      <td>Baby Trend Diaper Champ</td>\n",
       "      <td>This is one of the best things that we got as ...</td>\n",
       "      <td>5.0</td>\n",
       "      <td>(0, 49371)\\t1\\n  (0, 8527)\\t2\\n  (0, 24449)\\...</td>\n",
       "      <td>1.0</td>\n",
       "    </tr>\n",
       "    <tr>\n",
       "      <th>557</th>\n",
       "      <td>Baby Trend Diaper Champ</td>\n",
       "      <td>I've worked with kids more than half my life. ...</td>\n",
       "      <td>5.0</td>\n",
       "      <td>(0, 8527)\\t1\\n  (0, 28725)\\t5\\n  (0, 20562)\\...</td>\n",
       "      <td>1.0</td>\n",
       "    </tr>\n",
       "    <tr>\n",
       "      <th>566</th>\n",
       "      <td>Baby Trend Diaper Champ</td>\n",
       "      <td>I had tried a Diaper Genie at a friend's house...</td>\n",
       "      <td>5.0</td>\n",
       "      <td>(0, 8527)\\t1\\n  (0, 29750)\\t3\\n  (0, 20562)\\...</td>\n",
       "      <td>1.0</td>\n",
       "    </tr>\n",
       "    <tr>\n",
       "      <th>569</th>\n",
       "      <td>Baby Trend Diaper Champ</td>\n",
       "      <td>We did alot of research on diaper pails before...</td>\n",
       "      <td>2.0</td>\n",
       "      <td>(0, 44126)\\t1\\n  (0, 8527)\\t1\\n  (0, 49739)\\...</td>\n",
       "      <td>-1.0</td>\n",
       "    </tr>\n",
       "  </tbody>\n",
       "</table>\n",
       "</div>"
      ],
      "text/plain": [
       "                        name  \\\n",
       "536  Baby Trend Diaper Champ   \n",
       "538  Baby Trend Diaper Champ   \n",
       "541  Baby Trend Diaper Champ   \n",
       "544  Baby Trend Diaper Champ   \n",
       "546  Baby Trend Diaper Champ   \n",
       "557  Baby Trend Diaper Champ   \n",
       "566  Baby Trend Diaper Champ   \n",
       "569  Baby Trend Diaper Champ   \n",
       "\n",
       "                                                review  rating  \\\n",
       "536  I chose this pail because I didn't want to spe...     1.0   \n",
       "538  This odor absorbing champ even absorbs the odo...     5.0   \n",
       "541  I think this should be a staple in every house...     5.0   \n",
       "544  I love this product. You can use any regular t...     5.0   \n",
       "546  This is one of the best things that we got as ...     5.0   \n",
       "557  I've worked with kids more than half my life. ...     5.0   \n",
       "566  I had tried a Diaper Genie at a friend's house...     5.0   \n",
       "569  We did alot of research on diaper pails before...     2.0   \n",
       "\n",
       "                                        word_count_vec  sentiment  \n",
       "536    (0, 29750)\\t1\\n  (0, 49739)\\t1\\n  (0, 20562)...       -1.0  \n",
       "538    (0, 28725)\\t1\\n  (0, 6378)\\t1\\n  (0, 43775)\\...        1.0  \n",
       "541    (0, 47273)\\t2\\n  (0, 21029)\\t2\\n  (0, 6378)\\...        1.0  \n",
       "544    (0, 8527)\\t1\\n  (0, 47273)\\t2\\n  (0, 21029)\\...        1.0  \n",
       "546    (0, 49371)\\t1\\n  (0, 8527)\\t2\\n  (0, 24449)\\...        1.0  \n",
       "557    (0, 8527)\\t1\\n  (0, 28725)\\t5\\n  (0, 20562)\\...        1.0  \n",
       "566    (0, 8527)\\t1\\n  (0, 29750)\\t3\\n  (0, 20562)\\...        1.0  \n",
       "569    (0, 44126)\\t1\\n  (0, 8527)\\t1\\n  (0, 49739)\\...       -1.0  "
      ]
     },
     "execution_count": 133,
     "metadata": {},
     "output_type": "execute_result"
    }
   ],
   "source": [
    "sample_test_data = test_data.iloc[90:98]\n",
    "sample_test_data"
   ]
  },
  {
   "cell_type": "markdown",
   "id": "a52b366e",
   "metadata": {},
   "source": [
    "Let's dig deeper into the rows of the **sample_test_data**. Here are the ratings and reviews."
   ]
  },
  {
   "cell_type": "code",
   "execution_count": 134,
   "id": "91165f90",
   "metadata": {},
   "outputs": [
    {
     "name": "stdout",
     "output_type": "stream",
     "text": [
      "\n",
      "rating: 1.0\n",
      "review:\n",
      " I chose this pail because I didn't want to spend alot on a daiper pail.  In the end, I spent more because I had to buy a different one.  After only a few months of using it, the seal broke and  the odor came through.  The latch would get stuck making it difficult to change the bag.  This is certainly not worth buying!!\n",
      "\n",
      "rating: 5.0\n",
      "review:\n",
      " This odor absorbing champ even absorbs the odors from those diaper genies down the street...  My one step diaper champ sure beats the 5 steps it takes to twist a diaper in the that genie.  Who want to do extra when you are doing enough as it is? - The CHAMP is icing on the cake - every mommy gets psyched when their boy (or girl) poops because it means everything is working... and when you toss that diaper into the the mini R2D2 unit, you know you did it right... simplicity... ahh...\n",
      "\n",
      "rating: 5.0\n",
      "review:\n",
      " I think this should be a staple in every household with a child!  It is so much easier to use than the diaper genie and the other brands.  The fact that you can use regular trash bags is a BIG plus because you don't have to stock up on refill's or run to the store when you realize you don't have anymore.  There is no oder (until you open it up to empty) and it is easy to use..great item!\n",
      "\n",
      "rating: 5.0\n",
      "review:\n",
      " I love this product. You can use any regular trash bag. So far we have noticed NO odors. It is easy to use. It fills up somewhat quickly, but you can make it last longer by wrapping diapers tightly before placing in the champ. The price is very affordable as well.\n",
      "\n",
      "rating: 5.0\n",
      "review:\n",
      " This is one of the best things that we got as a shower present. It requires no additional expense, other than regular trash bags (unlike the diaper genie) and it really works! I was skeptical that it blocked odors as claimed, but I am convinced: I forgot to change a full bag of dirty diapers before we left for a week of vacation (we have no a/c and it was really hot that week) ...We came home a week later and our daughter's room didn't smell bad at all.I do use Glad trash bags with the odor guard, wipe it out occasionally with Clorox wipes and I do keep a drier sheet in the bottom of the diaper champ just to ensure that it remains \"nice\" ... but that's more about keeping it clean than anything else.Bottom line, the diaper champ is something that we absolutely couldn't and still can't live without!\n",
      "\n",
      "rating: 5.0\n",
      "review:\n",
      " I've worked with kids more than half my life. First as a babysitter /nanny and now as a mother. I've used diaper genies and they've all been really smelly. I never had to deal with changing cartridges but I can imagine how annoying it could be to open that stench-filled object and take out the poop sausage. I love my diaper champ. It's so easy to use. I never had a problem with it squishing my finger because I always remember that the lid is heavy. No smell escapes from it and I keep it in my bathroom. We'll see if I still love it once my DD's soiled diapers become stinky.\n",
      "\n",
      "rating: 5.0\n",
      "review:\n",
      " I had tried a Diaper Genie at a friend's house and wasn't really impressed with how it worked, not to mention the idea of having to buy refills.  I registered for the Diaper Champ primarily because you could use regular kitchen trash bags instead of special refills, and all the good reviews it seemed to get.  I could not be happier with the Champ!  It is truly the easiet thing in the world to use--one hand is all you need.  We have not noticed an odor problem at all.  Yes, it might briefly smell when you change out the pail but I can't imagine other systems aren't the same way.  I HIGHLY recommend this to anyone having a baby!  It is by far the best thing I received as a shower gift.  You won't be disappointed in the Champ!\n",
      "\n",
      "rating: 2.0\n",
      "review:\n",
      " We did alot of research on diaper pails before our first child was born.  We knew a few couples with the Diaper Genie, and one couple with the Diaper Champ.  The couple with the Diaper Champ has a baby that is 3 months older than our child.  This couple liked their Champ just fine, saying they noticed no odors.  We also read tons of reviews, mainly here on Amazon, of both products.  And from the reviews, it seemed there were many happy customers of both products.  So we decided, if they were about equal, we would go with the more convenient and cheaper solution, the Champ.Well, we were pretty happy for about 4 to 6 months.  We very much liked that we could use our regular trash bags.  And changing the Champ's bag is very easy.  But after our child was well into eating solids, at about 7 months, the smell became unbearable.  It really is true that babies' poops really start to stink much, much worse when they eat lots of solids.  So we went out and bought a Diaper Genie, and are now very happy with the Genie.  The Genie has 2 big advantages over the Champ, in regards to smell control.  1) Each diaper is contained in its own litte pouch via the Genie's twisting mechanism.  2)  The filler bags progress in thickness, so as your child gets older, and her poops get smellier, you can get thicker, better bags.After using the Genie for about a month now, we are very pleased.  The Champ is essentially a simple waste pail with a fancy hood.  The hood and ordinary trash bags don't do much for odor prevention.  The drawbacks to the Genie though, are that you must buy their fillers, and the bag changing mechanism is much more complicated than the Champ's.  We thought these were worth dealing with to prevent the odors.\n"
     ]
    }
   ],
   "source": [
    "for i in range(len(sample_test_data)):\n",
    "    print('\\nrating:',sample_test_data.iloc[i]['rating'])\n",
    "    print('review:\\n',sample_test_data.iloc[i]['review'])"
   ]
  },
  {
   "cell_type": "markdown",
   "id": "a12260c8",
   "metadata": {},
   "source": [
    "We will now make a **class** prediction for our **sample_test_data**. We hope that `sentiment_model` predicts **+1** if the true sentiment is positive and **-1** if the true sentiment is negative. Recall from lecture that the score $z$ for the logistic regression model  is defined as:\n",
    "$$z_i = \\mathbf{w}\\cdot \\mathbf{x}_i$$ \n",
    "\n",
    "where $\\mathbf{x}_i$ represents the features (word counts) for sample $i$ and the corresponding score is a number in the range $(-\\infty,\\infty)$. We will write some code to obtain the **scores** using sklearn.\n",
    "\n",
    "***Question 10.*** Using your model's `decision_function`, compute the **scores** (these are the $z$-values) of the reviews in `sample_test_data` and print the true sentiment. How many scores are compatible with the true sentiment values? Interpret your findings."
   ]
  },
  {
   "cell_type": "code",
   "execution_count": 142,
   "id": "00993d45",
   "metadata": {},
   "outputs": [
    {
     "name": "stdout",
     "output_type": "stream",
     "text": [
      "[-6.37543016  9.818473    5.79098775  9.32393878 13.73936837 18.792462\n",
      " -6.62110594 14.91076866] 8\n"
     ]
    }
   ],
   "source": [
    "# YOUR CODE HERE\n",
    "scores = []\n",
    "scores = sentiment_model.decision_function(vstack(sample_test_data['word_count_vec'].values))\n",
    "print(scores, len(scores))"
   ]
  },
  {
   "cell_type": "markdown",
   "id": "bef05132",
   "metadata": {},
   "source": [
    "### Predicting sentiment\n",
    "\n",
    "These scores can now be used to make class predictions, as follows:\n",
    "\n",
    "$$\n",
    "\\hat{y} = \n",
    "\\left\\{\n",
    "\\begin{array}{ll}\n",
    "      +1 & \\mathbf{w} \\cdot \\mathbf{x}_i > 0 \\\\\n",
    "      -1 & \\mathbf{w}\\cdot \\mathbf{x}_i \\leq 0 \\\\\n",
    "\\end{array} \n",
    "\\right.\n",
    "$$\n",
    "\n",
    "***Question 11.*** Using scores, write python code to compute and print $\\hat{y}$, the class predictions:"
   ]
  },
  {
   "cell_type": "code",
   "execution_count": 143,
   "id": "4515d126",
   "metadata": {},
   "outputs": [
    {
     "name": "stdout",
     "output_type": "stream",
     "text": [
      "[-1.0, 1.0, 1.0, 1.0, 1.0, 1.0, -1.0, 1.0]\n"
     ]
    }
   ],
   "source": [
    "# YOUR CODE HERE\n",
    "print([np.sign(x) for x in scores])"
   ]
  },
  {
   "cell_type": "markdown",
   "id": "2bc30bc1",
   "metadata": {},
   "source": [
    "*Sanity check*. Run the following code to check whether the class predictions obtained using your code are the same as those produced by sklearn."
   ]
  },
  {
   "cell_type": "code",
   "execution_count": 146,
   "id": "4cd5bfc6",
   "metadata": {},
   "outputs": [
    {
     "name": "stdout",
     "output_type": "stream",
     "text": [
      "Class predictions according to sklearn:\n",
      "[-1.  1.  1.  1.  1.  1. -1.  1.]\n"
     ]
    }
   ],
   "source": [
    "print(\"Class predictions according to sklearn:\")\n",
    "print(sentiment_model.predict(vstack(sample_test_data['word_count_vec'].values)))"
   ]
  },
  {
   "cell_type": "markdown",
   "id": "f76b82c8",
   "metadata": {},
   "source": [
    "### Probability predictions\n",
    "\n",
    "Recall from the lectures that we can also calculate the probabilities that $y=+1$ from the scores using:\n",
    "$$\n",
    "\\mbox{Pr}(y_i = +1 | \\mathbf{x}_i,\\mathbf{w}) = \\frac{1}{1+e^{-\\mathbf{w}\\cdot\\mathbf{x}_i}}\n",
    "$$\n",
    "\n",
    "***Question 12.*** Using the variable `scores` computed previously, write a single line of code to estimate the probability that a sentiment is positive using the above formula. Print the results. For each row, the probabilities should be a number in $[0, 1]$. Of the eight data points in **sample_test_data**, which one, classified as positive, has the *lowest probability* of being classified as a positive review? Was this prediction correct?"
   ]
  },
  {
   "cell_type": "code",
   "execution_count": 148,
   "id": "c481ba76",
   "metadata": {},
   "outputs": [
    {
     "data": {
      "text/plain": [
       "array([0.00169999, 0.99994557, 0.99695434, 0.99991075, 0.99999892,\n",
       "       0.99999999, 0.00133019, 0.99999967])"
      ]
     },
     "execution_count": 148,
     "metadata": {},
     "output_type": "execute_result"
    }
   ],
   "source": [
    "# YOUR CODE HERE\n",
    "prob = 1/(1+np.exp(-scores))\n",
    "prob"
   ]
  },
  {
   "cell_type": "markdown",
   "id": "442e132f",
   "metadata": {},
   "source": [
    "***Question 13.*** Now compute estimated probabilities with sklearn by using the function `predict_proba` on your model.\n",
    "\n",
    "*Sanity check*: Make sure your probability predictions match the ones obtained from sklearn."
   ]
  },
  {
   "cell_type": "code",
   "execution_count": 152,
   "id": "c9bc8021",
   "metadata": {},
   "outputs": [
    {
     "data": {
      "text/plain": [
       "array([[9.98300008e-01, 1.69999224e-03],\n",
       "       [5.44336823e-05, 9.99945566e-01],\n",
       "       [3.04565878e-03, 9.96954341e-01],\n",
       "       [8.92536683e-05, 9.99910746e-01],\n",
       "       [1.07911483e-06, 9.99998921e-01],\n",
       "       [6.89505053e-09, 9.99999993e-01],\n",
       "       [9.98669815e-01, 1.33018531e-03],\n",
       "       [3.34453160e-07, 9.99999666e-01]])"
      ]
     },
     "execution_count": 152,
     "metadata": {},
     "output_type": "execute_result"
    }
   ],
   "source": [
    "# YOUR CODE HERE\n",
    "sentiment_model.predict_proba(vstack(sample_test_data['word_count_vec'].values))"
   ]
  },
  {
   "cell_type": "markdown",
   "id": "99f688c4",
   "metadata": {},
   "source": [
    "### Find the most positive and most negative reviews"
   ]
  },
  {
   "cell_type": "markdown",
   "id": "d3432c04",
   "metadata": {},
   "source": [
    "We now turn to examining the test dataset, **test_data** and, for faster performance, use sklearn to form predictions on all of the test data points.\n",
    "\n",
    "***Question 14.*** Using the `sentiment_model`, find the 20 reviews in the entire **test_data** with the **highest probability** of being classified as a **positive review**. We refer to these as the \"most positive reviews.\" Recall that you can make probability predictions by using `.predict_proba` and you can select the $n$ largest values of a frame with the function `nlargest`."
   ]
  },
  {
   "cell_type": "code",
   "execution_count": 163,
   "id": "e073a639",
   "metadata": {},
   "outputs": [
    {
     "data": {
      "text/plain": [
       "1107     1.0\n",
       "1307     1.0\n",
       "1500     1.0\n",
       "1552     1.0\n",
       "4130     1.0\n",
       "4229     1.0\n",
       "5031     1.0\n",
       "5086     1.0\n",
       "7356     1.0\n",
       "7562     1.0\n",
       "7650     1.0\n",
       "7765     1.0\n",
       "8792     1.0\n",
       "9156     1.0\n",
       "9234     1.0\n",
       "9432     1.0\n",
       "10577    1.0\n",
       "12439    1.0\n",
       "13328    1.0\n",
       "13543    1.0\n",
       "dtype: float64"
      ]
     },
     "execution_count": 163,
     "metadata": {},
     "output_type": "execute_result"
    }
   ],
   "source": [
    "# YOUR CODE HERE\n",
    "prob = pd.Series(sentiment_model.predict_proba(vstack(test_data['word_count_vec'].values))[:,1])\n",
    "prob.nlargest(20)"
   ]
  },
  {
   "cell_type": "markdown",
   "id": "b0cca863",
   "metadata": {},
   "source": [
    "***Question 15.***\n",
    "Now, repeat this exercise to find the 20 \"most negative reviews\" in the test data. Recall that a review is considered negative if it has a low probability of being positive."
   ]
  },
  {
   "cell_type": "code",
   "execution_count": 164,
   "id": "836c0565",
   "metadata": {},
   "outputs": [
    {
     "data": {
      "text/plain": [
       "1820     8.963924e-23\n",
       "1860     1.381303e-19\n",
       "400      3.206114e-19\n",
       "30818    2.515414e-17\n",
       "25401    9.640343e-17\n",
       "24471    2.004403e-16\n",
       "25878    5.380007e-15\n",
       "7021     8.323826e-15\n",
       "20679    2.272788e-14\n",
       "20109    3.786803e-14\n",
       "26306    1.596475e-13\n",
       "10776    1.711239e-13\n",
       "17201    1.883213e-13\n",
       "2415     2.173210e-13\n",
       "12251    4.578799e-13\n",
       "15196    5.159336e-13\n",
       "2272     1.090653e-12\n",
       "31313    2.364176e-12\n",
       "30546    3.467659e-12\n",
       "10872    3.563559e-12\n",
       "dtype: float64"
      ]
     },
     "execution_count": 164,
     "metadata": {},
     "output_type": "execute_result"
    }
   ],
   "source": [
    "# YOUR CODE HERE\n",
    "prob.nsmallest(20)"
   ]
  },
  {
   "cell_type": "markdown",
   "id": "6e4f7cc3",
   "metadata": {},
   "source": [
    "## Compute accuracy of the classifier\n",
    "\n",
    "We will now evaluate the accuracy of the trained classifier. Recall that the accuracy is given by\n",
    "\n",
    "\n",
    "$$\n",
    "\\mbox{accuracy} = \\frac{\\mbox{# correctly classified examples}}{\\mbox{# total examples}}\n",
    "$$\n",
    "\n",
    "***Question 16.*** Write a function `get_classification_accuracy` that takes in a model, a dataset, the true labels of the data set, and returns the accuracy of the model measured on the given data set.\n",
    "\n",
    "You will need to:\n",
    "1. Use the trained model to compute class predictions (you can use the `predict` method)\n",
    "2. Count the number of data points when the predicted class labels match the true labels (the ground truth).\n",
    "3. Divide the total number of correct predictions by the total number of data points in the dataset.\n",
    "\n",
    "Complete the function below to compute the classification accuracy:"
   ]
  },
  {
   "cell_type": "code",
   "execution_count": 188,
   "id": "3f9c4fd2",
   "metadata": {},
   "outputs": [],
   "source": [
    "# YOUR CODE HERE\n",
    "def get_classification_accuracy(model, data, true_labels):\n",
    "    yhat = pd.Series(model.predict(data))\n",
    "    cce = sum([1 for i in range(len(yhat)) if yhat.values[i] == true_labels.values[i]])\n",
    "    return cce/len(true_labels)"
   ]
  },
  {
   "cell_type": "markdown",
   "id": "7002c88b",
   "metadata": {},
   "source": [
    "Now, let's check the accuracy of our sentiment_model.\n",
    "\n",
    "***Question 17.*** What is the accuracy of the **sentiment_model** on the **training_data** and on the **test_data**? Round your answer to 4 decimal places. What does this tell you about the quality of your model?"
   ]
  },
  {
   "cell_type": "code",
   "execution_count": 189,
   "id": "8995bf84",
   "metadata": {},
   "outputs": [
    {
     "name": "stdout",
     "output_type": "stream",
     "text": [
      "0.9592358706231185 0.9262433606953163\n"
     ]
    }
   ],
   "source": [
    "# YOUR CODE HERE\n",
    "print(get_classification_accuracy(sentiment_model, vstack(train_data['word_count_vec']), train_data['sentiment']),\n",
    "get_classification_accuracy(sentiment_model, vstack(test_data['word_count_vec']), test_data['sentiment']))"
   ]
  },
  {
   "cell_type": "markdown",
   "id": "21aa58df",
   "metadata": {},
   "source": [
    "There are lots of words in the model we trained above. We want to determine which ones are the most important.\n",
    "\n",
    "***Question 18.*** Write code to find the 10 most positive and the 10 most negative weights in our learned model. Print both the feature name and the corresponding weight."
   ]
  },
  {
   "cell_type": "code",
   "execution_count": null,
   "id": "3379a15f",
   "metadata": {},
   "outputs": [],
   "source": [
    "# YOUR CODE HERE"
   ]
  },
  {
   "cell_type": "markdown",
   "id": "be82218b",
   "metadata": {},
   "source": [
    "## Learn another classifier with fewer words\n",
    "\n",
    "We will now train a simpler logistic regression model using only a subset of words that occur in the reviews. For this portion of the assignment, we selected 18 words to work with. These `significant_words` are shown in the cell below."
   ]
  },
  {
   "cell_type": "code",
   "execution_count": null,
   "id": "9ef2d5d1",
   "metadata": {},
   "outputs": [],
   "source": [
    "significant_words = ['love', 'great', 'easy', 'old', 'little', 'perfect', 'loves','wonderfully','lifesaver',\n",
    "      'well', 'broke', 'less', 'waste', 'disappointed', 'unusable',\n",
    "      'work', 'money', 'return']"
   ]
  },
  {
   "cell_type": "markdown",
   "id": "c1ebcb70",
   "metadata": {},
   "source": [
    "***Question 19.*** Create a new instance of CountVectorizer which will create a feature vector out of a given string based on instances of our significant words in the string. First, you will build the small vectorizer by specifying its vocabulary in the constructor function `CountVectorizer`. Then, you'll transform each review into a bag-of-words using this new vectorizer, placing the new vectors in the column **subset_word_count_vec**."
   ]
  },
  {
   "cell_type": "code",
   "execution_count": null,
   "id": "212624d9",
   "metadata": {},
   "outputs": [],
   "source": [
    "# YOUR CODE HERE\n",
    "..."
   ]
  },
  {
   "cell_type": "markdown",
   "id": "a5dab95a",
   "metadata": {},
   "source": [
    "Add the new column  to our training and testing DataFrames."
   ]
  },
  {
   "cell_type": "code",
   "execution_count": null,
   "id": "d9add18d",
   "metadata": {},
   "outputs": [],
   "source": [
    "train_data['word_count_subset_vec'] = products['word_count_subset_vec']\n",
    "test_data['word_count_subset_vec'] = products['word_count_subset_vec']"
   ]
  },
  {
   "cell_type": "markdown",
   "id": "f03372f2",
   "metadata": {},
   "source": [
    "Let's see what an example of the training dataset looks like:"
   ]
  },
  {
   "cell_type": "code",
   "execution_count": null,
   "id": "5d322b75",
   "metadata": {},
   "outputs": [],
   "source": [
    "an_entry=4\n",
    "print(train_data.iloc[an_entry]['review'])\n",
    "train_data.iloc[an_entry]"
   ]
  },
  {
   "cell_type": "markdown",
   "id": "13c2d3d9",
   "metadata": {},
   "source": [
    "Since we are only working with a subset of the available words, only a few `significant words` will be present in this review."
   ]
  },
  {
   "cell_type": "markdown",
   "id": "1ca049ff",
   "metadata": {},
   "source": [
    "## Train a logistic regression model on a subset of data"
   ]
  },
  {
   "cell_type": "markdown",
   "id": "65a2b533",
   "metadata": {},
   "source": [
    "***Question 20.*** Build a classifier with **word_count_subset_vec** as the feature and **sentiment** as the target, using the same training parameters as for the full model. "
   ]
  },
  {
   "cell_type": "code",
   "execution_count": null,
   "id": "6ce40a79",
   "metadata": {
    "scrolled": true
   },
   "outputs": [],
   "source": [
    "# YOUR CODE HERE\n",
    "from sklearn.linear_model import LogisticRegression\n",
    "..."
   ]
  },
  {
   "cell_type": "markdown",
   "id": "7ddc91af",
   "metadata": {},
   "source": [
    "Now, we will inspect the weights (coefficients) of the **simple_model**.\n",
    "\n",
    "***Question 21.*** Just as you did in **Question 7**, extract the weights of the words and store them in a dictionary `word_coef` that maps feature names (words) to coefficients. Print the words to coefficient mapping, sorting the coefficients (in descending order) by the **value** to obtain the coefficients with the most positive effect on the sentiment."
   ]
  },
  {
   "cell_type": "code",
   "execution_count": null,
   "id": "0bd9227d",
   "metadata": {},
   "outputs": [],
   "source": [
    "# YOUR CODE HERE\n",
    "..."
   ]
  },
  {
   "cell_type": "markdown",
   "id": "cf38209b",
   "metadata": {},
   "source": [
    "***Question 22.*** Consider the coefficients of **simple_model**. There should be 19 of them, an intercept term + one for each word in **significant_words**. How many of the coefficients (corresponding to the **significant_words** and *excluding the intercept term*) are positive for the `simple_model`? Write a single line of code to compute the answer (do not compute it by hand!)"
   ]
  },
  {
   "cell_type": "code",
   "execution_count": null,
   "id": "d3db25e8",
   "metadata": {},
   "outputs": [],
   "source": [
    "# YOUR CODE HERE\n",
    "..."
   ]
  },
  {
   "cell_type": "markdown",
   "id": "bb908439",
   "metadata": {},
   "source": [
    "***Question 23***: Are the positive words in the **simple_model** (let us call them `positive_significant_words`) also positive words in the **sentiment_model**?"
   ]
  },
  {
   "cell_type": "code",
   "execution_count": null,
   "id": "cfe60da9",
   "metadata": {
    "scrolled": true
   },
   "outputs": [],
   "source": [
    "# YOUR CODE HERE\n",
    "..."
   ]
  },
  {
   "cell_type": "markdown",
   "id": "e35461e9",
   "metadata": {},
   "source": [
    "## Comparing models"
   ]
  },
  {
   "cell_type": "markdown",
   "id": "835cf2e4",
   "metadata": {},
   "source": [
    "We will now compare the accuracy of the **sentiment_model** and the **simple_model** using the `get_classification_accuracy` method you implemented above.\n",
    "\n",
    "***Question 24.*** Compute the classification accuracy of the **sentiment_model** and of the **simple_model** on the **train_data**. Which model (**sentiment_model** or **simple_model**) has higher accuracy on the training set?"
   ]
  },
  {
   "cell_type": "code",
   "execution_count": null,
   "id": "8c7fc9e3",
   "metadata": {},
   "outputs": [],
   "source": [
    "# YOUR CODE HERE\n",
    "..."
   ]
  },
  {
   "cell_type": "markdown",
   "id": "0e9d9d8a",
   "metadata": {},
   "source": [
    "Now, we will repeat this exercise on the **test_data**. Start by computing the classification accuracy of the **sentiment_model** on the **test_data**:\n",
    "\n",
    "***Question 25.*** Compute the classification accuracy of the sentiment_model and of the simple_model on the test_data. Which model (sentiment_model or simple_model) has higher accuracy on the testing set?"
   ]
  },
  {
   "cell_type": "code",
   "execution_count": null,
   "id": "6ed17695",
   "metadata": {},
   "outputs": [],
   "source": [
    "# YOUR CODE HERE\n",
    "..."
   ]
  },
  {
   "cell_type": "markdown",
   "id": "7e80728f",
   "metadata": {},
   "source": [
    "## Baseline: Majority class prediction\n",
    "\n",
    "It is quite common to use the **majority class classifier** as the a baseline (or reference) model for comparison with your classifier model. The majority classifier model predicts the majority class for all data points. At the very least, you should comfortably beat the majority class classifier, otherwise, the model is (usually) pointless.\n",
    "\n",
    "***Question 26.*** Write a function `compute_majority_classifier(data,label)` that returns a majority classifier for the column `label` of frame `data` (***yes***, *I am asking you to write a function that returns a function*). You may assume that the labels are numeric $+1$ or $-1$. Test it using the sentiment of **train_data**. What does the majority classifier return in this case?"
   ]
  },
  {
   "cell_type": "code",
   "execution_count": null,
   "id": "02fe4177",
   "metadata": {},
   "outputs": [],
   "source": [
    "# YOUR CODE HERE\n",
    "..."
   ]
  },
  {
   "cell_type": "markdown",
   "id": "f616822b",
   "metadata": {},
   "source": [
    "***Question 27.*** Compute the accuracy of the majority classifier on the **test_data**. Round your answer to two decimal places."
   ]
  },
  {
   "cell_type": "code",
   "execution_count": null,
   "id": "de6ef5ce",
   "metadata": {},
   "outputs": [],
   "source": [
    "# YOUR CODE HERE"
   ]
  },
  {
   "cell_type": "markdown",
   "id": "1df2c7ba",
   "metadata": {},
   "source": [
    "***Question 28.*** Is the **sentiment_model** definitely better than the majority class classifier (the baseline)? Based on the gathered information, does the **sentiment_model** suffer from high bias or from high variance? What else would you try to improve performance? Explain."
   ]
  },
  {
   "cell_type": "markdown",
   "id": "76b85625",
   "metadata": {},
   "source": [
    "YOUR ANSWER HERE:"
   ]
  }
 ],
 "metadata": {
  "kernelspec": {
   "display_name": "Python 3 (ipykernel)",
   "language": "python",
   "name": "python3"
  },
  "language_info": {
   "codemirror_mode": {
    "name": "ipython",
    "version": 3
   },
   "file_extension": ".py",
   "mimetype": "text/x-python",
   "name": "python",
   "nbconvert_exporter": "python",
   "pygments_lexer": "ipython3",
   "version": "3.11.0"
  }
 },
 "nbformat": 4,
 "nbformat_minor": 5
}
