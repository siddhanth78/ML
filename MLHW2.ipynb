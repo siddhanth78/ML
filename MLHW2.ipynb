{
 "cells": [
  {
   "cell_type": "code",
   "execution_count": 16,
   "id": "265a4c71",
   "metadata": {},
   "outputs": [],
   "source": [
    "import pandas as pd\n",
    "import numpy as np\n",
    "import matplotlib.pyplot as plt"
   ]
  },
  {
   "cell_type": "code",
   "execution_count": 17,
   "id": "a82d0d16",
   "metadata": {},
   "outputs": [],
   "source": [
    "iris_df = pd.read_csv('iris.csv')"
   ]
  },
  {
   "cell_type": "code",
   "execution_count": 18,
   "id": "363f33d1",
   "metadata": {},
   "outputs": [
    {
     "data": {
      "text/plain": [
       "['sepal length (cm)',\n",
       " 'sepal width (cm)',\n",
       " 'petal length (cm)',\n",
       " 'petal width (cm)',\n",
       " 'target']"
      ]
     },
     "execution_count": 18,
     "metadata": {},
     "output_type": "execute_result"
    }
   ],
   "source": [
    "df = iris_df.select_dtypes(include = [\"int\", \"float\"])\n",
    "list(df.columns)"
   ]
  },
  {
   "cell_type": "code",
   "execution_count": 19,
   "id": "2e9ce1a0",
   "metadata": {},
   "outputs": [],
   "source": [
    "def learn(X, y, alpha, max_epochs):\n",
    "    w = [0, 0, 0, 0, 0]\n",
    "    \n",
    "    for n in range(max_epochs):\n",
    "        for i in range(len(X)):\n",
    "            y_hat = np.sign(np.dot(w, X[i].T))\n",
    "            if y_hat != y[i]:\n",
    "                w = w + alpha * y[i] * X[i]\n",
    "        if numErrors(X, y, w) == 0:\n",
    "            return w, n\n",
    "            \n",
    "    return w, n"
   ]
  },
  {
   "cell_type": "code",
   "execution_count": 20,
   "id": "23c4b561",
   "metadata": {},
   "outputs": [],
   "source": [
    "def numErrors(X, y, w):\n",
    "    y_hat = np.sign(np.dot(w, X.T))\n",
    "    error = y == y_hat\n",
    "    return (len(error) - sum(error)) / len(error)"
   ]
  },
  {
   "cell_type": "code",
   "execution_count": 21,
   "id": "2ce68527",
   "metadata": {},
   "outputs": [],
   "source": [
    "iris02_df = iris_df[iris_df['target'] != 1]\n",
    "iris12_df = iris_df[iris_df['target'] != 0]"
   ]
  },
  {
   "cell_type": "code",
   "execution_count": 22,
   "id": "4ac09f1f",
   "metadata": {},
   "outputs": [],
   "source": [
    "y = iris02_df['target'].to_numpy()\n",
    "\n",
    "y_ = [i - 1 for i in y]\n",
    "\n",
    "iris02_df_no_y = iris02_df.drop('target', axis = 1)\n",
    "iris02_df_no_y.insert(0, 'bias', 1)\n",
    "iris02_df_no_y_arr = iris02_df_no_y.to_numpy()"
   ]
  },
  {
   "cell_type": "code",
   "execution_count": 30,
   "id": "da3d2bc7",
   "metadata": {},
   "outputs": [],
   "source": [
    "y12 = iris12_df['target'].to_numpy()\n",
    "\n",
    "y12_ = []\n",
    "\n",
    "for i in y12:\n",
    "    if i == 1:\n",
    "        y12_.append(-1)\n",
    "    elif i == 2:\n",
    "        y12_.append(1)\n",
    "\n",
    "iris12_df_no_y = iris12_df.drop('target', axis = 1)\n",
    "iris12_df_no_y.insert(0, 'bias', 1)\n",
    "iris12_df_no_y_arr = iris12_df_no_y.to_numpy()"
   ]
  },
  {
   "cell_type": "code",
   "execution_count": 40,
   "id": "4c981fa6",
   "metadata": {
    "scrolled": true
   },
   "outputs": [
    {
     "name": "stdout",
     "output_type": "stream",
     "text": [
      "(array([-1. , -2.7, -3.9,  7.8,  4.4]), 2)\n"
     ]
    }
   ],
   "source": [
    "max_epochs = 1000\n",
    "alpha = 1\n",
    "\n",
    "print(learn(iris02_df_no_y_arr, y_, alpha, max_epochs))"
   ]
  },
  {
   "cell_type": "code",
   "execution_count": 43,
   "id": "6afbabc9",
   "metadata": {},
   "outputs": [
    {
     "name": "stdout",
     "output_type": "stream",
     "text": [
      "(array([ -61. ,  -81. , -122.2,   95.2,  318.8]), 999)\n"
     ]
    }
   ],
   "source": [
    "max_epochs = 1000\n",
    "alpha = 1\n",
    "\n",
    "print(learn(iris12_df_no_y_arr, y12_, alpha, max_epochs))"
   ]
  },
  {
   "cell_type": "code",
   "execution_count": 26,
   "id": "faa73218",
   "metadata": {},
   "outputs": [
    {
     "data": {
      "text/html": [
       "<div>\n",
       "<style scoped>\n",
       "    .dataframe tbody tr th:only-of-type {\n",
       "        vertical-align: middle;\n",
       "    }\n",
       "\n",
       "    .dataframe tbody tr th {\n",
       "        vertical-align: top;\n",
       "    }\n",
       "\n",
       "    .dataframe thead th {\n",
       "        text-align: right;\n",
       "    }\n",
       "</style>\n",
       "<table border=\"1\" class=\"dataframe\">\n",
       "  <thead>\n",
       "    <tr style=\"text-align: right;\">\n",
       "      <th></th>\n",
       "      <th>sepal length (cm)</th>\n",
       "      <th>sepal width (cm)</th>\n",
       "      <th>petal length (cm)</th>\n",
       "      <th>petal width (cm)</th>\n",
       "      <th>target</th>\n",
       "    </tr>\n",
       "  </thead>\n",
       "  <tbody>\n",
       "    <tr>\n",
       "      <th>sepal length (cm)</th>\n",
       "      <td>1.000000</td>\n",
       "      <td>-0.217326</td>\n",
       "      <td>0.910355</td>\n",
       "      <td>0.847342</td>\n",
       "      <td>0.840970</td>\n",
       "    </tr>\n",
       "    <tr>\n",
       "      <th>sepal width (cm)</th>\n",
       "      <td>-0.217326</td>\n",
       "      <td>1.000000</td>\n",
       "      <td>-0.473993</td>\n",
       "      <td>-0.449069</td>\n",
       "      <td>-0.545921</td>\n",
       "    </tr>\n",
       "    <tr>\n",
       "      <th>petal length (cm)</th>\n",
       "      <td>0.910355</td>\n",
       "      <td>-0.473993</td>\n",
       "      <td>1.000000</td>\n",
       "      <td>0.954443</td>\n",
       "      <td>0.971023</td>\n",
       "    </tr>\n",
       "    <tr>\n",
       "      <th>petal width (cm)</th>\n",
       "      <td>0.847342</td>\n",
       "      <td>-0.449069</td>\n",
       "      <td>0.954443</td>\n",
       "      <td>1.000000</td>\n",
       "      <td>0.965228</td>\n",
       "    </tr>\n",
       "    <tr>\n",
       "      <th>target</th>\n",
       "      <td>0.840970</td>\n",
       "      <td>-0.545921</td>\n",
       "      <td>0.971023</td>\n",
       "      <td>0.965228</td>\n",
       "      <td>1.000000</td>\n",
       "    </tr>\n",
       "  </tbody>\n",
       "</table>\n",
       "</div>"
      ],
      "text/plain": [
       "                   sepal length (cm)  sepal width (cm)  petal length (cm)  \\\n",
       "sepal length (cm)           1.000000         -0.217326           0.910355   \n",
       "sepal width (cm)           -0.217326          1.000000          -0.473993   \n",
       "petal length (cm)           0.910355         -0.473993           1.000000   \n",
       "petal width (cm)            0.847342         -0.449069           0.954443   \n",
       "target                      0.840970         -0.545921           0.971023   \n",
       "\n",
       "                   petal width (cm)    target  \n",
       "sepal length (cm)          0.847342  0.840970  \n",
       "sepal width (cm)          -0.449069 -0.545921  \n",
       "petal length (cm)          0.954443  0.971023  \n",
       "petal width (cm)           1.000000  0.965228  \n",
       "target                     0.965228  1.000000  "
      ]
     },
     "execution_count": 26,
     "metadata": {},
     "output_type": "execute_result"
    }
   ],
   "source": [
    "corr_matrix = iris02_df.corr()\n",
    "corr_matrix"
   ]
  },
  {
   "cell_type": "code",
   "execution_count": 27,
   "id": "54092ac4",
   "metadata": {},
   "outputs": [
    {
     "data": {
      "text/html": [
       "<div>\n",
       "<style scoped>\n",
       "    .dataframe tbody tr th:only-of-type {\n",
       "        vertical-align: middle;\n",
       "    }\n",
       "\n",
       "    .dataframe tbody tr th {\n",
       "        vertical-align: top;\n",
       "    }\n",
       "\n",
       "    .dataframe thead th {\n",
       "        text-align: right;\n",
       "    }\n",
       "</style>\n",
       "<table border=\"1\" class=\"dataframe\">\n",
       "  <thead>\n",
       "    <tr style=\"text-align: right;\">\n",
       "      <th></th>\n",
       "      <th>sepal length (cm)</th>\n",
       "      <th>sepal width (cm)</th>\n",
       "      <th>petal length (cm)</th>\n",
       "      <th>petal width (cm)</th>\n",
       "      <th>target</th>\n",
       "    </tr>\n",
       "  </thead>\n",
       "  <tbody>\n",
       "    <tr>\n",
       "      <th>sepal length (cm)</th>\n",
       "      <td>1.000000</td>\n",
       "      <td>0.553855</td>\n",
       "      <td>0.845063</td>\n",
       "      <td>0.591253</td>\n",
       "      <td>0.494305</td>\n",
       "    </tr>\n",
       "    <tr>\n",
       "      <th>sepal width (cm)</th>\n",
       "      <td>0.553855</td>\n",
       "      <td>1.000000</td>\n",
       "      <td>0.526752</td>\n",
       "      <td>0.567999</td>\n",
       "      <td>0.308080</td>\n",
       "    </tr>\n",
       "    <tr>\n",
       "      <th>petal length (cm)</th>\n",
       "      <td>0.845063</td>\n",
       "      <td>0.526752</td>\n",
       "      <td>1.000000</td>\n",
       "      <td>0.785947</td>\n",
       "      <td>0.742740</td>\n",
       "    </tr>\n",
       "    <tr>\n",
       "      <th>petal width (cm)</th>\n",
       "      <td>0.591253</td>\n",
       "      <td>0.567999</td>\n",
       "      <td>0.785947</td>\n",
       "      <td>1.000000</td>\n",
       "      <td>0.815239</td>\n",
       "    </tr>\n",
       "    <tr>\n",
       "      <th>target</th>\n",
       "      <td>0.494305</td>\n",
       "      <td>0.308080</td>\n",
       "      <td>0.742740</td>\n",
       "      <td>0.815239</td>\n",
       "      <td>1.000000</td>\n",
       "    </tr>\n",
       "  </tbody>\n",
       "</table>\n",
       "</div>"
      ],
      "text/plain": [
       "                   sepal length (cm)  sepal width (cm)  petal length (cm)  \\\n",
       "sepal length (cm)           1.000000          0.553855           0.845063   \n",
       "sepal width (cm)            0.553855          1.000000           0.526752   \n",
       "petal length (cm)           0.845063          0.526752           1.000000   \n",
       "petal width (cm)            0.591253          0.567999           0.785947   \n",
       "target                      0.494305          0.308080           0.742740   \n",
       "\n",
       "                   petal width (cm)    target  \n",
       "sepal length (cm)          0.591253  0.494305  \n",
       "sepal width (cm)           0.567999  0.308080  \n",
       "petal length (cm)          0.785947  0.742740  \n",
       "petal width (cm)           1.000000  0.815239  \n",
       "target                     0.815239  1.000000  "
      ]
     },
     "execution_count": 27,
     "metadata": {},
     "output_type": "execute_result"
    }
   ],
   "source": [
    "corr_matrix_12 = iris12_df.corr()\n",
    "corr_matrix_12"
   ]
  },
  {
   "cell_type": "code",
   "execution_count": 28,
   "id": "3a6e8880",
   "metadata": {},
   "outputs": [
    {
     "data": {
      "image/png": "[encoded data removed]",
      "text/plain": [
       "<Figure size 640x480 with 1 Axes>"
      ]
     },
     "metadata": {},
     "output_type": "display_data"
    }
   ],
   "source": [
    "plt.scatter(iris02_df['petal length (cm)'], iris02_df['petal width (cm)'])\n",
    "plt.show()"
   ]
  },
  {
   "cell_type": "code",
   "execution_count": 29,
   "id": "5ad93a15",
   "metadata": {},
   "outputs": [
    {
     "data": {
      "image/png": "[encoded data removed]",
      "text/plain": [
       "<Figure size 640x480 with 1 Axes>"
      ]
     },
     "metadata": {},
     "output_type": "display_data"
    }
   ],
   "source": [
    "plt.scatter(iris12_df['petal length (cm)'], iris12_df['petal width (cm)'])\n",
    "plt.show()"
   ]
  },
  {
   "cell_type": "code",
   "execution_count": null,
   "id": "8ec5a8a2",
   "metadata": {},
   "outputs": [],
   "source": [
    "##TODO: Code to find smallest number of features needed to correctly classify"
   ]
  }
 ],
 "metadata": {
  "kernelspec": {
   "display_name": "Python 3 (ipykernel)",
   "language": "python",
   "name": "python3"
  },
  "language_info": {
   "codemirror_mode": {
    "name": "ipython",
    "version": 3
   },
   "file_extension": ".py",
   "mimetype": "text/x-python",
   "name": "python",
   "nbconvert_exporter": "python",
   "pygments_lexer": "ipython3",
   "version": "3.11.0"
  }
 },
 "nbformat": 4,
 "nbformat_minor": 5
}
