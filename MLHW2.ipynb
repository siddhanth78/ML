{
 "cells": [
  {
   "cell_type": "markdown",
   "id": "b4c8c25b",
   "metadata": {},
   "source": [
    "# Homework 2\n",
    "Work done by Hector A. Rodriguez and Siddhanth Lalgowdar"
   ]
  },
  {
   "cell_type": "code",
   "execution_count": 2,
   "id": "265a4c71",
   "metadata": {},
   "outputs": [],
   "source": [
    "import pandas as pd\n",
    "import numpy as np\n",
    "import matplotlib.pyplot as plt"
   ]
  },
  {
   "cell_type": "markdown",
   "id": "3295e30a",
   "metadata": {},
   "source": [
    "## Questions 1 - 4\n",
    "\n",
    "1. Download the iris.csv file and load it into a Pandas dataframe\n",
    "2. Print and display the names of the features\n",
    "3. Write a function learn(X, y, alpha, max_epochs)\n",
    "4. Write a function numErrors(X, y, w)\n"
   ]
  },
  {
   "cell_type": "code",
   "execution_count": 7,
   "id": "a82d0d16",
   "metadata": {},
   "outputs": [],
   "source": [
    "iris_df = pd.read_csv('iris.csv')"
   ]
  },
  {
   "cell_type": "code",
   "execution_count": 8,
   "id": "363f33d1",
   "metadata": {},
   "outputs": [
    {
     "data": {
      "text/plain": [
       "['sepal length (cm)',\n",
       " 'sepal width (cm)',\n",
       " 'petal length (cm)',\n",
       " 'petal width (cm)',\n",
       " 'target']"
      ]
     },
     "execution_count": 8,
     "metadata": {},
     "output_type": "execute_result"
    }
   ],
   "source": [
    "df = iris_df.select_dtypes(include = [\"int\", \"float\"])\n",
    "list(df.columns)"
   ]
  },
  {
   "cell_type": "code",
   "execution_count": 86,
   "id": "2e9ce1a0",
   "metadata": {},
   "outputs": [],
   "source": [
    "def learn(X, y, alpha, max_epochs, init_w = False):\n",
    "    w = [0, 0, 0, 0, 0]\n",
    "    if init_w:\n",
    "        w = X[0]\n",
    "        print(w)\n",
    "    \n",
    "    for n in range(max_epochs):\n",
    "        for i in range(len(X)):\n",
    "            y_hat = np.sign(np.dot(w, X[i].T))\n",
    "            if y_hat != y[i]:\n",
    "                w = w + alpha * y[i] * X[i]\n",
    "        if numErrors(X, y, w) == 0:\n",
    "            return w, n\n",
    "            \n",
    "    return w, n"
   ]
  },
  {
   "cell_type": "code",
   "execution_count": 10,
   "id": "23c4b561",
   "metadata": {},
   "outputs": [],
   "source": [
    "def numErrors(X, y, w):\n",
    "    y_hat = np.sign(np.dot(w, X.T))\n",
    "    error = y == y_hat\n",
    "    return (len(error) - sum(error)) / len(error)"
   ]
  },
  {
   "cell_type": "markdown",
   "id": "b96c5392",
   "metadata": {},
   "source": [
    "## Questions 5 - 7\n",
    "Basic setup of the data by creating a tall vector, converting the y values so they are positive or negative, etc."
   ]
  },
  {
   "cell_type": "code",
   "execution_count": 73,
   "id": "2ce68527",
   "metadata": {},
   "outputs": [],
   "source": [
    "iris02_df = iris_df[iris_df['target'] != 1]\n",
    "iris12_df = iris_df[iris_df['target'] != 0]"
   ]
  },
  {
   "cell_type": "code",
   "execution_count": 74,
   "id": "4ac09f1f",
   "metadata": {},
   "outputs": [],
   "source": [
    "y = iris02_df['target'].to_numpy()\n",
    "\n",
    "y_ = [i - 1 for i in y]\n",
    "\n",
    "iris02_df_no_y = iris02_df.drop('target', axis = 1)\n",
    "iris02_df_no_y.insert(0, 'bias', 1)\n",
    "iris02_df_no_y_arr = iris02_df_no_y.to_numpy()"
   ]
  },
  {
   "cell_type": "code",
   "execution_count": 75,
   "id": "da3d2bc7",
   "metadata": {},
   "outputs": [],
   "source": [
    "y12 = iris12_df['target'].to_numpy()\n",
    "\n",
    "y12_ = []\n",
    "\n",
    "for i in y12:\n",
    "    if i == 1:\n",
    "        y12_.append(-1)\n",
    "    elif i == 2:\n",
    "        y12_.append(1)\n",
    "\n",
    "iris12_df_no_y = iris12_df.drop('target', axis = 1)\n",
    "iris12_df_no_y.insert(0, 'bias', 1)\n",
    "iris12_df_no_y_arr = iris12_df_no_y.to_numpy()"
   ]
  },
  {
   "cell_type": "markdown",
   "id": "fb4b7de4",
   "metadata": {},
   "source": [
    "## Question 8\n",
    "8. Test your classifier with the NumPy array created in (6) and (7). Is the data linearly seperable? How many epochs were needed for convergence and how does this depend on the value of alpha? What is the learned vector of weights? What is the error rate? Determine empiracally what value of alpha results in faster convergence"
   ]
  },
  {
   "cell_type": "markdown",
   "id": "4b79a567",
   "metadata": {},
   "source": [
    "### Iris Setosa vs Iris Virginica\n",
    "The data is definitely linearly seperable. It needs 2 epochs for convergence, regardless of the alpha value. The learned weights are:\n",
    "\n",
    "w = [-1. , -2.7, -3.9,  7.8,  4.4]\n",
    "\n",
    "The error rate is 0.0, and the alpha does not affect how fast this converges. "
   ]
  },
  {
   "cell_type": "code",
   "execution_count": 21,
   "id": "4246a539",
   "metadata": {
    "scrolled": true
   },
   "outputs": [
    {
     "data": {
      "image/png": "[encoded data removed]",
      "text/plain": [
       "<Figure size 640x480 with 1 Axes>"
      ]
     },
     "metadata": {},
     "output_type": "display_data"
    }
   ],
   "source": [
    "plt.scatter(iris02_df['petal length (cm)'], iris02_df['petal width (cm)'])\n",
    "plt.show()"
   ]
  },
  {
   "cell_type": "code",
   "execution_count": 83,
   "id": "4c981fa6",
   "metadata": {
    "scrolled": true
   },
   "outputs": [
    {
     "name": "stdout",
     "output_type": "stream",
     "text": [
      "[0.0, 0.0, 0.0, 0.0, 0.0]\n",
      "[2, 2, 2, 2, 2]\n",
      "[array([-1. , -2.7, -3.9,  7.8,  4.4]), array([-0.1 , -0.27, -0.39,  0.78,  0.44]), array([-0.001 , -0.0027, -0.0039,  0.0078,  0.0044]), array([-0.0001 , -0.00027, -0.00039,  0.00078,  0.00044]), array([-1.0e-05, -2.7e-05, -3.9e-05,  7.8e-05,  4.4e-05])]\n"
     ]
    }
   ],
   "source": [
    "max_epochs = [10000]\n",
    "alpha = [1, 0.1, 0.001, 0.0001, 0.00001]\n",
    "errors = []\n",
    "num_epochs = []\n",
    "weights = []\n",
    "\n",
    "\n",
    "for epoch in max_epochs:\n",
    "    for a in alpha:\n",
    "        w, epochs = learn(iris02_df_no_y_arr, y_, a, epoch)\n",
    "        num_epochs.append(epochs)\n",
    "        weights.append(w)\n",
    "        error = numErrors(iris02_df_no_y_arr, y_, w)\n",
    "        errors.append(error)\n",
    "\n",
    "print(errors)\n",
    "print(num_epochs)\n",
    "print(weights)"
   ]
  },
  {
   "cell_type": "markdown",
   "id": "6b48fdeb",
   "metadata": {},
   "source": [
    "### Iris Versicolor VS Iris Virginica\n",
    "This dataset is not obviously linearly separable. Regardless of alpha, this set uses the 10000 max epochs everytime. \n",
    "\n",
    "The best learned w is [-20.9 ,  -8.24,  -8.92,  11.29,  28.62]\n",
    "\n",
    "The error rate of this weight is 0.07."
   ]
  },
  {
   "cell_type": "code",
   "execution_count": 22,
   "id": "88c67510",
   "metadata": {
    "scrolled": true
   },
   "outputs": [
    {
     "data": {
      "image/png": "[encoded data removed]",
      "text/plain": [
       "<Figure size 640x480 with 1 Axes>"
      ]
     },
     "metadata": {},
     "output_type": "display_data"
    }
   ],
   "source": [
    "plt.scatter(iris12_df['petal length (cm)'], iris12_df['petal width (cm)'])\n",
    "plt.show()"
   ]
  },
  {
   "cell_type": "code",
   "execution_count": 84,
   "id": "6afbabc9",
   "metadata": {
    "scrolled": true
   },
   "outputs": [
    {
     "name": "stdout",
     "output_type": "stream",
     "text": [
      "[0.17, 0.07, 0.18, 0.2, 0.07]\n",
      "[9999, 9999, 9999, 9999, 9999]\n",
      "[array([-207. ,  -76.7,  -87.8,  116.5,  287.5]), array([-20.9 ,  -8.24,  -8.92,  11.29,  28.62]), array([-0.207 , -0.0793, -0.0845,  0.1191,  0.2878]), array([-0.0206 , -0.00769, -0.00875,  0.01177,  0.02876]), array([-0.00209 , -0.000824, -0.000892,  0.001129,  0.002862])]\n"
     ]
    }
   ],
   "source": [
    "max_epochs = [10000]\n",
    "alpha = [1, 0.1, 0.001, 0.0001, 0.00001]\n",
    "errors = []\n",
    "num_epochs = []\n",
    "weights = []\n",
    "\n",
    "\n",
    "for epoch in max_epochs:\n",
    "    for a in alpha:\n",
    "        w, epochs = learn(iris12_df_no_y_arr, y12_, a, epoch)\n",
    "        num_epochs.append(epochs)\n",
    "        weights.append(w)\n",
    "        error = numErrors(iris12_df_no_y_arr, y12_, w)\n",
    "        errors.append(error)\n",
    "\n",
    "print(errors)\n",
    "print(num_epochs)\n",
    "print(weights)"
   ]
  },
  {
   "cell_type": "markdown",
   "id": "80a6db4d",
   "metadata": {},
   "source": [
    "## Question 9\n",
    "Change the initialization of the weight"
   ]
  },
  {
   "cell_type": "code",
   "execution_count": 90,
   "id": "b830e97e",
   "metadata": {},
   "outputs": [
    {
     "name": "stdout",
     "output_type": "stream",
     "text": [
      "[1.  7.  3.2 4.7 1.4]\n"
     ]
    },
    {
     "data": {
      "text/plain": [
       "(array([-0.53 , -0.747, -1.254,  1.002,  3.161]), 999)"
      ]
     },
     "execution_count": 90,
     "metadata": {},
     "output_type": "execute_result"
    }
   ],
   "source": [
    "## TO DO\n",
    "learn(iris12_df_no_y_arr, y12_, 0.01, 1000, init_w=True)"
   ]
  },
  {
   "cell_type": "markdown",
   "id": "380b20d2",
   "metadata": {},
   "source": [
    "## Questions 10 - 11"
   ]
  },
  {
   "cell_type": "code",
   "execution_count": 19,
   "id": "faa73218",
   "metadata": {
    "scrolled": false
   },
   "outputs": [
    {
     "data": {
      "text/html": [
       "<div>\n",
       "<style scoped>\n",
       "    .dataframe tbody tr th:only-of-type {\n",
       "        vertical-align: middle;\n",
       "    }\n",
       "\n",
       "    .dataframe tbody tr th {\n",
       "        vertical-align: top;\n",
       "    }\n",
       "\n",
       "    .dataframe thead th {\n",
       "        text-align: right;\n",
       "    }\n",
       "</style>\n",
       "<table border=\"1\" class=\"dataframe\">\n",
       "  <thead>\n",
       "    <tr style=\"text-align: right;\">\n",
       "      <th></th>\n",
       "      <th>sepal length (cm)</th>\n",
       "      <th>sepal width (cm)</th>\n",
       "      <th>petal length (cm)</th>\n",
       "      <th>petal width (cm)</th>\n",
       "      <th>target</th>\n",
       "    </tr>\n",
       "  </thead>\n",
       "  <tbody>\n",
       "    <tr>\n",
       "      <th>sepal length (cm)</th>\n",
       "      <td>1.000000</td>\n",
       "      <td>-0.217326</td>\n",
       "      <td>0.910355</td>\n",
       "      <td>0.847342</td>\n",
       "      <td>0.840970</td>\n",
       "    </tr>\n",
       "    <tr>\n",
       "      <th>sepal width (cm)</th>\n",
       "      <td>-0.217326</td>\n",
       "      <td>1.000000</td>\n",
       "      <td>-0.473993</td>\n",
       "      <td>-0.449069</td>\n",
       "      <td>-0.545921</td>\n",
       "    </tr>\n",
       "    <tr>\n",
       "      <th>petal length (cm)</th>\n",
       "      <td>0.910355</td>\n",
       "      <td>-0.473993</td>\n",
       "      <td>1.000000</td>\n",
       "      <td>0.954443</td>\n",
       "      <td>0.971023</td>\n",
       "    </tr>\n",
       "    <tr>\n",
       "      <th>petal width (cm)</th>\n",
       "      <td>0.847342</td>\n",
       "      <td>-0.449069</td>\n",
       "      <td>0.954443</td>\n",
       "      <td>1.000000</td>\n",
       "      <td>0.965228</td>\n",
       "    </tr>\n",
       "    <tr>\n",
       "      <th>target</th>\n",
       "      <td>0.840970</td>\n",
       "      <td>-0.545921</td>\n",
       "      <td>0.971023</td>\n",
       "      <td>0.965228</td>\n",
       "      <td>1.000000</td>\n",
       "    </tr>\n",
       "  </tbody>\n",
       "</table>\n",
       "</div>"
      ],
      "text/plain": [
       "                   sepal length (cm)  sepal width (cm)  petal length (cm)  \\\n",
       "sepal length (cm)           1.000000         -0.217326           0.910355   \n",
       "sepal width (cm)           -0.217326          1.000000          -0.473993   \n",
       "petal length (cm)           0.910355         -0.473993           1.000000   \n",
       "petal width (cm)            0.847342         -0.449069           0.954443   \n",
       "target                      0.840970         -0.545921           0.971023   \n",
       "\n",
       "                   petal width (cm)    target  \n",
       "sepal length (cm)          0.847342  0.840970  \n",
       "sepal width (cm)          -0.449069 -0.545921  \n",
       "petal length (cm)          0.954443  0.971023  \n",
       "petal width (cm)           1.000000  0.965228  \n",
       "target                     0.965228  1.000000  "
      ]
     },
     "execution_count": 19,
     "metadata": {},
     "output_type": "execute_result"
    }
   ],
   "source": [
    "corr_matrix = iris02_df.corr()\n",
    "corr_matrix"
   ]
  },
  {
   "cell_type": "code",
   "execution_count": 91,
   "id": "33689c3d",
   "metadata": {},
   "outputs": [
    {
     "data": {
      "text/plain": [
       "<AxesSubplot:>"
      ]
     },
     "execution_count": 91,
     "metadata": {},
     "output_type": "execute_result"
    },
    {
     "data": {
      "image/png": "[encoded data removed]",
      "text/plain": [
       "<Figure size 640x480 with 2 Axes>"
      ]
     },
     "metadata": {},
     "output_type": "display_data"
    }
   ],
   "source": [
    "import seaborn as sb\n",
    "\n",
    "sb.heatmap(iris02_df)"
   ]
  },
  {
   "cell_type": "code",
   "execution_count": 20,
   "id": "54092ac4",
   "metadata": {},
   "outputs": [
    {
     "data": {
      "text/html": [
       "<div>\n",
       "<style scoped>\n",
       "    .dataframe tbody tr th:only-of-type {\n",
       "        vertical-align: middle;\n",
       "    }\n",
       "\n",
       "    .dataframe tbody tr th {\n",
       "        vertical-align: top;\n",
       "    }\n",
       "\n",
       "    .dataframe thead th {\n",
       "        text-align: right;\n",
       "    }\n",
       "</style>\n",
       "<table border=\"1\" class=\"dataframe\">\n",
       "  <thead>\n",
       "    <tr style=\"text-align: right;\">\n",
       "      <th></th>\n",
       "      <th>sepal length (cm)</th>\n",
       "      <th>sepal width (cm)</th>\n",
       "      <th>petal length (cm)</th>\n",
       "      <th>petal width (cm)</th>\n",
       "      <th>target</th>\n",
       "    </tr>\n",
       "  </thead>\n",
       "  <tbody>\n",
       "    <tr>\n",
       "      <th>sepal length (cm)</th>\n",
       "      <td>1.000000</td>\n",
       "      <td>0.553855</td>\n",
       "      <td>0.845063</td>\n",
       "      <td>0.591253</td>\n",
       "      <td>0.494305</td>\n",
       "    </tr>\n",
       "    <tr>\n",
       "      <th>sepal width (cm)</th>\n",
       "      <td>0.553855</td>\n",
       "      <td>1.000000</td>\n",
       "      <td>0.526752</td>\n",
       "      <td>0.567999</td>\n",
       "      <td>0.308080</td>\n",
       "    </tr>\n",
       "    <tr>\n",
       "      <th>petal length (cm)</th>\n",
       "      <td>0.845063</td>\n",
       "      <td>0.526752</td>\n",
       "      <td>1.000000</td>\n",
       "      <td>0.785947</td>\n",
       "      <td>0.742740</td>\n",
       "    </tr>\n",
       "    <tr>\n",
       "      <th>petal width (cm)</th>\n",
       "      <td>0.591253</td>\n",
       "      <td>0.567999</td>\n",
       "      <td>0.785947</td>\n",
       "      <td>1.000000</td>\n",
       "      <td>0.815239</td>\n",
       "    </tr>\n",
       "    <tr>\n",
       "      <th>target</th>\n",
       "      <td>0.494305</td>\n",
       "      <td>0.308080</td>\n",
       "      <td>0.742740</td>\n",
       "      <td>0.815239</td>\n",
       "      <td>1.000000</td>\n",
       "    </tr>\n",
       "  </tbody>\n",
       "</table>\n",
       "</div>"
      ],
      "text/plain": [
       "                   sepal length (cm)  sepal width (cm)  petal length (cm)  \\\n",
       "sepal length (cm)           1.000000          0.553855           0.845063   \n",
       "sepal width (cm)            0.553855          1.000000           0.526752   \n",
       "petal length (cm)           0.845063          0.526752           1.000000   \n",
       "petal width (cm)            0.591253          0.567999           0.785947   \n",
       "target                      0.494305          0.308080           0.742740   \n",
       "\n",
       "                   petal width (cm)    target  \n",
       "sepal length (cm)          0.591253  0.494305  \n",
       "sepal width (cm)           0.567999  0.308080  \n",
       "petal length (cm)          0.785947  0.742740  \n",
       "petal width (cm)           1.000000  0.815239  \n",
       "target                     0.815239  1.000000  "
      ]
     },
     "execution_count": 20,
     "metadata": {},
     "output_type": "execute_result"
    }
   ],
   "source": [
    "corr_matrix_12 = iris12_df.corr()\n",
    "corr_matrix_12"
   ]
  },
  {
   "cell_type": "code",
   "execution_count": null,
   "id": "127f5ca8",
   "metadata": {},
   "outputs": [],
   "source": []
  },
  {
   "cell_type": "code",
   "execution_count": 44,
   "id": "8ec5a8a2",
   "metadata": {},
   "outputs": [
    {
     "data": {
      "text/plain": [
       "sepal length (cm)    0.840970\n",
       "petal length (cm)    0.971023\n",
       "petal width (cm)     0.965228\n",
       "Name: target, dtype: float64"
      ]
     },
     "execution_count": 44,
     "metadata": {},
     "output_type": "execute_result"
    }
   ],
   "source": [
    "##TODO: Code to find smallest number of features needed to correctly classify\n",
    "features = corr_matrix['target']\n",
    "features = features.drop('target')\n",
    "\n",
    "minimum = features.min()\n",
    "minimum\n",
    "\n",
    "minimum_name = features[features == minimum].index[0]\n",
    "\n",
    "features = features.drop(minimum_name)\n",
    "features\n",
    "\n"
   ]
  },
  {
   "cell_type": "code",
   "execution_count": 71,
   "id": "e0be0b74",
   "metadata": {},
   "outputs": [
    {
     "name": "stdout",
     "output_type": "stream",
     "text": [
      "petal length (cm) and petal width (cm):  0.9544432899373511\n",
      "Features to Keep: ['petal length (cm)']\n"
     ]
    }
   ],
   "source": [
    "## 1. Keep target corr_coeff that are above threshold\n",
    "## 2. Compare corr_coeff of remaining, and get rid of 1 of the higher correlated ones\n",
    "\n",
    "features = corr_matrix_12['target'].drop('target')\n",
    "y_corcoef_threshold = 0.7\n",
    "x_corcoef_threshold = 0.9\n",
    "\n",
    "max_features = features.loc[features >= y_corcoef_threshold]\n",
    "features_to_keep = []\n",
    "for i in range(len(max_features) - 1):\n",
    "    for j in range(i + 1, len(max_features)):\n",
    "        i_label = max_features[max_features == max_features[i]].index[0]\n",
    "        j_label = max_features[max_features == max_features[j]].index[0]\n",
    "        \n",
    "        corr = corr_matrix[i_label][j_label]\n",
    "        \n",
    "        if (corr >= x_corcoef_threshold and i_label not in features_to_keep and i_label not in features_to_remove):\n",
    "            features_to_keep.append(i_label)\n",
    "        \n",
    "        print(f'{i_label} and {j_label}:  {corr}')\n",
    "\n",
    "print(f'Features to Keep: {features_to_keep}')"
   ]
  },
  {
   "cell_type": "code",
   "execution_count": 72,
   "id": "67b6037d",
   "metadata": {},
   "outputs": [
    {
     "name": "stdout",
     "output_type": "stream",
     "text": [
      "sepal length (cm) and petal length (cm):  0.910354588861289\n",
      "sepal length (cm) and petal width (cm):  0.8473420822043584\n",
      "petal length (cm) and petal width (cm):  0.9544432899373511\n",
      "Features to Keep: ['sepal length (cm)', 'petal length (cm)']\n"
     ]
    }
   ],
   "source": [
    "## 1. Keep target corr_coeff that are above threshold\n",
    "## 2. Compare corr_coeff of remaining, and get rid of 1 of the higher correlated ones\n",
    "\n",
    "features = corr_matrix['target'].drop('target')\n",
    "y_corcoef_threshold = 0.7\n",
    "x_corcoef_threshold = 0.9\n",
    "\n",
    "max_features = features.loc[features >= y_corcoef_threshold]\n",
    "features_to_keep = []\n",
    "for i in range(len(max_features) - 1):\n",
    "    for j in range(i + 1, len(max_features)):\n",
    "        i_label = max_features[max_features == max_features[i]].index[0]\n",
    "        j_label = max_features[max_features == max_features[j]].index[0]\n",
    "        \n",
    "        corr = corr_matrix[i_label][j_label]\n",
    "        \n",
    "        if (corr >= x_corcoef_threshold and i_label not in features_to_keep and i_label not in features_to_remove):\n",
    "            features_to_keep.append(i_label)\n",
    "        \n",
    "        print(f'{i_label} and {j_label}:  {corr}')\n",
    "\n",
    "print(f'Features to Keep: {features_to_keep}')"
   ]
  }
 ],
 "metadata": {
  "kernelspec": {
   "display_name": "Python 3 (ipykernel)",
   "language": "python",
   "name": "python3"
  },
  "language_info": {
   "codemirror_mode": {
    "name": "ipython",
    "version": 3
   },
   "file_extension": ".py",
   "mimetype": "text/x-python",
   "name": "python",
   "nbconvert_exporter": "python",
   "pygments_lexer": "ipython3",
   "version": "3.9.13"
  }
 },
 "nbformat": 4,
 "nbformat_minor": 5
}
