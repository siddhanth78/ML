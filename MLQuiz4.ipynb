{
 "cells": [
  {
   "cell_type": "code",
   "execution_count": 37,
   "id": "c5085cde",
   "metadata": {},
   "outputs": [],
   "source": [
    "import pandas as pd\n",
    "import numpy as np"
   ]
  },
  {
   "cell_type": "code",
   "execution_count": 38,
   "id": "e9babad0",
   "metadata": {},
   "outputs": [],
   "source": [
    "file = \"quiz4data.csv\"\n",
    "\n",
    "df = pd.read_csv(file)\n",
    "\n",
    "s1 = df[df['dataset'] == 'S1'][['x', 'y']].to_numpy()\n",
    "s2 = df[df['dataset'] == 'S2'][['x', 'y']].to_numpy()\n",
    "s3 = df[df['dataset'] == 'S3'][['x', 'y']].to_numpy()\n",
    "s4 = df[df['dataset'] == 'S4'][['x', 'y']].to_numpy()"
   ]
  },
  {
   "cell_type": "code",
   "execution_count": 39,
   "id": "eb889660",
   "metadata": {},
   "outputs": [],
   "source": [
    "## means\n",
    "mean_s1_x = np.mean(s1[0])\n",
    "mean_s1_y = np.mean(s1[1])\n",
    "mean_s2_x = np.mean(s2[0])\n",
    "mean_s2_y = np.mean(s2[1])\n",
    "mean_s3_x = np.mean(s3[0])\n",
    "mean_s3_y = np.mean(s3[1])\n",
    "mean_s4_x = np.mean(s4[0])\n",
    "mean_s4_y = np.mean(s4[1])\n",
    "\n",
    "## standard deviations\n",
    "std_s1_x = np.std(s1[0])\n",
    "std_s1_y = np.std(s1[1])\n",
    "std_s2_x = np.std(s2[0])\n",
    "std_s2_y = np.std(s2[1])\n",
    "std_s3_x = np.std(s3[0])\n",
    "std_s3_y = np.std(s3[1])\n",
    "std_s4_x = np.std(s4[0])\n",
    "std_s4_y = np.std(s4[1])\n",
    "\n",
    "## correlation coefficients\n",
    "corrcoeff_s1 = np.corrcoef(s1)\n",
    "corrcoeff_s2 = np.corrcoef(s2)\n",
    "corrcoeff_s3 = np.corrcoef(s3)\n",
    "corrcoeff_s4 = np.corrcoef(s4)"
   ]
  },
  {
   "cell_type": "code",
   "execution_count": 40,
   "id": "d90ebf34",
   "metadata": {},
   "outputs": [
    {
     "name": "stdout",
     "output_type": "stream",
     "text": [
      "Coeff: [3.  0.5]\n",
      "Coeff: [3.  0.5]\n",
      "Coeff: [3.  0.5]\n",
      "Coeff: [3.  0.5]\n"
     ]
    }
   ],
   "source": [
    "##Calculate coeffs of each dataset\n",
    "\n",
    "y_1 = [s1[i][1] for i in range(len(s1))]\n",
    "\n",
    "s1 = np.delete(s1, 1, 1)\n",
    "\n",
    "s1_b = np.vstack([np.ones(len(s1.T[0])), s1.T])\n",
    "\n",
    "coeff_s1 = np.linalg.inv(s1_b@s1_b.T)@s1_b@y_1\n",
    "coeff_s1 = coeff_s1.round(2)\n",
    "\n",
    "print(f'Coeff: {coeff_s1}')\n",
    "\n",
    "y_2 = [s2[i][1] for i in range(len(s2))]\n",
    "\n",
    "s2 = np.delete(s2, 1, 1)\n",
    "\n",
    "s2_b = np.vstack([np.ones(len(s2.T[0])), s2.T])\n",
    "\n",
    "coeff_s2 = np.linalg.inv(s2_b@s2_b.T)@s2_b@y_2\n",
    "coeff_s2 = coeff_s2.round(2)\n",
    "\n",
    "print(f'Coeff: {coeff_s2}')\n",
    "\n",
    "y_3 = [s3[i][1] for i in range(len(s3))]\n",
    "\n",
    "s3 = np.delete(s3, 1, 1)\n",
    "\n",
    "s3_b = np.vstack([np.ones(len(s3.T[0])), s3.T])\n",
    "\n",
    "coeff_s3 = np.linalg.inv(s3_b@s3_b.T)@s3_b@y_3\n",
    "coeff_s3 = coeff_s3.round(2)\n",
    "\n",
    "print(f'Coeff: {coeff_s3}')\n",
    "\n",
    "y_4 = [s4[i][1] for i in range(len(s4))]\n",
    "\n",
    "s4 = np.delete(s4, 1, 1)\n",
    "\n",
    "s4_b = np.vstack([np.ones(len(s4.T[0])), s4.T])\n",
    "\n",
    "coeff_s4 = np.linalg.inv(s4_b@s4_b.T)@s4_b@y_4\n",
    "coeff_s4 = coeff_s4.round(2)\n",
    "\n",
    "print(f'Coeff: {coeff_s4}')"
   ]
  },
  {
   "cell_type": "code",
   "execution_count": 41,
   "id": "767481a8",
   "metadata": {},
   "outputs": [],
   "source": [
    "##Coeffs of each dataset\n",
    "\n",
    "w0_s1 = coeff_s1[0]\n",
    "w1_s1 = coeff_s1[1]\n",
    "\n",
    "w0_s2 = coeff_s2[0]\n",
    "w1_s2 = coeff_s2[1]\n",
    "\n",
    "w0_s3 = coeff_s3[0]\n",
    "w1_s3 = coeff_s3[1]\n",
    "\n",
    "w0_s4 = coeff_s4[0]\n",
    "w1_s4 = coeff_s4[1]"
   ]
  },
  {
   "cell_type": "code",
   "execution_count": 42,
   "id": "90738dfa",
   "metadata": {
    "scrolled": true
   },
   "outputs": [
    {
     "name": "stdout",
     "output_type": "stream",
     "text": [
      "[[ 8.   7.   9.5  7.5  8.5 10.   6.   5.   9.   6.5  5.5]] [[ 8.   7.   9.5  7.5  8.5 10.   6.   5.   9.   6.5  5.5]] [[ 8.   7.   9.5  7.5  8.5 10.   6.   5.   9.   6.5  5.5]] [[ 7.   7.   7.   7.   7.   7.   7.  12.5  7.   7.   7. ]]\n"
     ]
    }
   ],
   "source": [
    "## y_hats of each dataset\n",
    "yhat_1 = w0_s1 + w1_s1 * s1\n",
    "yhat_2 = w0_s2 + w1_s2 * s2\n",
    "yhat_3 = w0_s3 + w1_s3 * s3\n",
    "yhat_4 = w0_s4 + w1_s4 * s4\n",
    "\n",
    "print(yhat_1.T, yhat_2.T, yhat_3.T, yhat_4.T)"
   ]
  },
  {
   "cell_type": "code",
   "execution_count": 43,
   "id": "d31b4740",
   "metadata": {},
   "outputs": [
    {
     "name": "stdout",
     "output_type": "stream",
     "text": [
      "7.5 7.5 7.5 7.5\n"
     ]
    }
   ],
   "source": [
    "## means of y values of each dataset\n",
    "\n",
    "y_mean_1 = round(sum(y_1)/len(y_1), 2)\n",
    "y_mean_2 = round(sum(y_2)/len(y_2), 2)\n",
    "y_mean_3 = round(sum(y_3)/len(y_3), 2)\n",
    "y_mean_4 = round(sum(y_4)/len(y_4), 2)\n",
    "\n",
    "print(y_mean_1, y_mean_2, y_mean_3, y_mean_4)"
   ]
  },
  {
   "cell_type": "code",
   "execution_count": 44,
   "id": "6ca8eae8",
   "metadata": {},
   "outputs": [
    {
     "name": "stdout",
     "output_type": "stream",
     "text": [
      "41.3 41.3 41.2 41.2\n"
     ]
    }
   ],
   "source": [
    "## sum of all y_i - y_mean squared\n",
    "\n",
    "denominator_1 = round(sum([(y_i - y_mean_1)**2 for y_i in y_1]), 1)\n",
    "denominator_2 = round(sum([(y_i - y_mean_2)**2 for y_i in y_2]), 1)\n",
    "denominator_3 = round(sum([(y_i - y_mean_3)**2 for y_i in y_3]), 1)\n",
    "denominator_4 = round(sum([(y_i - y_mean_4)**2 for y_i in y_4]), 1)\n",
    "\n",
    "print(denominator_1, denominator_2, denominator_3, denominator_4)"
   ]
  },
  {
   "cell_type": "code",
   "execution_count": 45,
   "id": "849d46b7",
   "metadata": {},
   "outputs": [
    {
     "name": "stdout",
     "output_type": "stream",
     "text": [
      "15 15 15 15\n"
     ]
    }
   ],
   "source": [
    "## sum of all y_i - y_hat_i squared\n",
    "\n",
    "numerator_1 = round(sum(sum((y_1 - yhat_1.T)**2), 1))\n",
    "numerator_2 = round(sum(sum((y_2 - yhat_2.T)**2), 1))\n",
    "numerator_3 = round(sum(sum((y_3 - yhat_3.T)**2), 1))\n",
    "numerator_4 = round(sum(sum((y_4 - yhat_4.T)**2), 1))\n",
    "\n",
    "print(numerator_1, numerator_2, numerator_3, numerator_4)"
   ]
  },
  {
   "cell_type": "code",
   "execution_count": 46,
   "id": "32cb80ce",
   "metadata": {},
   "outputs": [
    {
     "name": "stdout",
     "output_type": "stream",
     "text": [
      "0.6368038740920097 0.6368038740920097 0.6359223300970874 0.6359223300970874\n"
     ]
    }
   ],
   "source": [
    "## 1 - (sum of all y_i - y_hat_i squared / sum of all y_i - y_mean squared)\n",
    "\n",
    "coeff_det_1 = 1 - (numerator_1/denominator_1)\n",
    "coeff_det_2 = 1 - (numerator_2/denominator_2)\n",
    "coeff_det_3 = 1 - (numerator_3/denominator_3)\n",
    "coeff_det_4 = 1 - (numerator_4/denominator_4)\n",
    "\n",
    "print(coeff_det_1, coeff_det_2, coeff_det_3, coeff_det_4)"
   ]
  },
  {
   "cell_type": "code",
   "execution_count": 47,
   "id": "3ff71c4e",
   "metadata": {},
   "outputs": [
    {
     "data": {
      "image/png": "[encoded data removed]",
      "text/plain": [
       "<Figure size 640x480 with 1 Axes>"
      ]
     },
     "metadata": {},
     "output_type": "display_data"
    }
   ],
   "source": [
    "import matplotlib.pyplot as plt\n",
    "\n",
    "## Plot all datasets\n",
    "\n",
    "plt.title(\"Scatter Plot\")\n",
    "plt.xlabel(\"X\")\n",
    "plt.ylabel(\"Y\")\n",
    "plt.scatter(s1.T, y_1, color =\"red\", )\n",
    "plt.scatter(s2.T, y_2, color =\"blue\", )\n",
    "plt.scatter(s3.T, y_3, color =\"green\", )\n",
    "plt.scatter(s4.T, y_4, color =\"black\", )\n",
    "\n",
    "plt.show()"
   ]
  },
  {
   "cell_type": "markdown",
   "id": "f70b0ff5",
   "metadata": {},
   "source": [
    "## Question 7"
   ]
  },
  {
   "cell_type": "markdown",
   "id": "80c45426",
   "metadata": {},
   "source": [
    "Always inspect and explore your data before working with it. For example, in this dataset, we can see that the x values of S1, S2, and S3 are the same, which would result in similar coefficients and yhats. S4 has the same x values exexpt for one (19) which could trick the model into spitting out the same coeffs as S1, S2, and S3. Even the means were the same. Although the xs from each dataset S1, S2, and S3 share the same values, the model of best fit we choose depends on the relation between y and x."
   ]
  }
 ],
 "metadata": {
  "kernelspec": {
   "display_name": "Python 3 (ipykernel)",
   "language": "python",
   "name": "python3"
  },
  "language_info": {
   "codemirror_mode": {
    "name": "ipython",
    "version": 3
   },
   "file_extension": ".py",
   "mimetype": "text/x-python",
   "name": "python",
   "nbconvert_exporter": "python",
   "pygments_lexer": "ipython3",
   "version": "3.11.0"
  }
 },
 "nbformat": 4,
 "nbformat_minor": 5
}
