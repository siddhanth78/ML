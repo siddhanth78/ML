{
 "cells": [
  {
   "cell_type": "markdown",
   "id": "7800a2ef",
   "metadata": {},
   "source": [
    "# LASSO Regression: Implementation with Coordinate Descent\n",
    "In this notebook, you will implement your very own LASSO solver via coordinate descent. You will:\n",
    "* Write a function to normalize features\n",
    "* Implement coordinate descent for LASSO\n",
    "* Explore the effects of L1 penalty"
   ]
  },
  {
   "cell_type": "code",
   "execution_count": 120,
   "id": "c7246c01",
   "metadata": {},
   "outputs": [],
   "source": [
    "import numpy as np\n",
    "import pandas as pd\n",
    "np.set_printoptions(precision=3,suppress=True)"
   ]
  },
  {
   "cell_type": "markdown",
   "id": "cce26905",
   "metadata": {},
   "source": [
    "## Load in house sales data\n",
    "\n",
    "Dataset is from house sales in King County."
   ]
  },
  {
   "cell_type": "code",
   "execution_count": 121,
   "id": "eeea92ec",
   "metadata": {},
   "outputs": [],
   "source": [
    "sales = pd.read_csv('home_data.gz')"
   ]
  },
  {
   "cell_type": "markdown",
   "id": "595ad0ed",
   "metadata": {},
   "source": [
    "## Import useful functions from previous notebook"
   ]
  },
  {
   "cell_type": "markdown",
   "id": "b2694e67",
   "metadata": {},
   "source": [
    "As in a previous quiz, we convert the DataFrame into a 2D Numpy array. Copy and paste your code for `pandas2numpy` here:"
   ]
  },
  {
   "cell_type": "code",
   "execution_count": 122,
   "id": "596ad1a0",
   "metadata": {},
   "outputs": [],
   "source": [
    "def pandas2numpy(dataframe, features, target):\n",
    "    sub_dataframe = dataframe[features]\n",
    "    y = dataframe[target]\n",
    "    sub_dataframe.insert(0, 'bias', 1)\n",
    "    X = sub_dataframe.to_numpy()\n",
    "    return X, y"
   ]
  },
  {
   "cell_type": "markdown",
   "id": "bdc68222",
   "metadata": {},
   "source": [
    "Also, copy and paste the `predict_target()` function to compute the predictions for an entire matrix of features given the matrix and the weights:"
   ]
  },
  {
   "cell_type": "code",
   "execution_count": 123,
   "id": "8311bff1",
   "metadata": {},
   "outputs": [],
   "source": [
    "def predict_target(design_matrix, model):\n",
    "    return design_matrix@model"
   ]
  },
  {
   "cell_type": "markdown",
   "id": "8699e8ff",
   "metadata": {},
   "source": [
    "## Normalize features\n",
    "In the house dataset, features vary wildly in their relative magnitude: `sqft_living` is very large overall compared to `bedrooms`, for instance. As a result, weight for `sqft_living` would be much smaller than weight for `bedrooms`. This is problematic because \"small\" weights are dropped first as `l1_penalty` goes up. \n",
    "\n",
    "To give equal considerations for all features, we need to **normalize features**. As discussed in class, we divide each feature  by its 2-norm so that the transformed feature has norm 1. \n",
    "\n",
    "We can do this normalization easily with NumPy. First, consider a small matrix."
   ]
  },
  {
   "cell_type": "code",
   "execution_count": 124,
   "id": "cc02fbf0",
   "metadata": {},
   "outputs": [],
   "source": [
    "X = np.array([[3.,5.,8.],[4.,12.,15.]])\n",
    "print(X)"
   ]
  },
  {
   "cell_type": "markdown",
   "id": "b6fe02aa",
   "metadata": {},
   "source": [
    "***Question 1.*** Using a NumPy command, compute and print the 2-norms of each column of X. Then normalize and print X.\n",
    "Your output should be: $$[ 5., 13., 17.]$$ and\n",
    "$$\n",
    "\\begin{bmatrix}\n",
    "0.6 & 0.38 & 0.47 \\\\\n",
    "0.8 & 0.92 & 0.88\n",
    "\\end{bmatrix}\n",
    "$$\n"
   ]
  },
  {
   "cell_type": "code",
   "execution_count": 125,
   "id": "c8b98929",
   "metadata": {},
   "outputs": [],
   "source": [
    "# YOUR CODE HERE\n",
    "norm = np.linalg.norm(X, axis = 0)\n",
    "X_norm = X / norm\n",
    "print(norm)\n",
    "print(X_norm)"
   ]
  },
  {
   "cell_type": "markdown",
   "id": "acf415fa",
   "metadata": {},
   "source": [
    "***Question 2.*** Using the shorthand we just covered, write a short function called `normalize_features(feature_matrix)`, which normalizes columns of a given feature matrix. The function should return a pair `(normalized_features, norms)`, where the second item contains the norms of original features. As discussed class, we will use these norms to normalize the test data in the same way as we normalized the training data. "
   ]
  },
  {
   "cell_type": "code",
   "execution_count": 126,
   "id": "1783b190",
   "metadata": {},
   "outputs": [],
   "source": [
    "# YOUR CODE HERE\n",
    "def normalize_features(feature_matrix):\n",
    "    norm = np.linalg.norm(feature_matrix, axis = 0)\n",
    "    feature_matrix_norm = feature_matrix / norm\n",
    "    return feature_matrix_norm, norm"
   ]
  },
  {
   "cell_type": "markdown",
   "id": "39044e9b",
   "metadata": {},
   "source": [
    "To test the function, run the following:"
   ]
  },
  {
   "cell_type": "code",
   "execution_count": 127,
   "id": "f720b9a2",
   "metadata": {},
   "outputs": [],
   "source": [
    "features, norms = normalize_features(np.array([[3.,6.,9.],[4.,8.,12.]]))\n",
    "print(features)\n",
    "# should print\n",
    "# [[ 0.6  0.6  0.6]\n",
    "#  [ 0.8  0.8  0.8]]\n",
    "print(norms)\n",
    "# should print\n",
    "# [5.  10.  15.]"
   ]
  },
  {
   "cell_type": "markdown",
   "id": "4ad5d34b",
   "metadata": {},
   "source": [
    "# Implementing Coordinate Descent with normalized features"
   ]
  },
  {
   "cell_type": "markdown",
   "id": "e4849ef9",
   "metadata": {},
   "source": [
    "We seek to obtain a sparse set of weights by minimizing the LASSO cost function\n",
    "\n",
    "$$\\sum (\\hat{y}_i-y_i)^2 + \\lambda (|w_1| + |w_2| +\\cdots |w_d|)$$\n",
    "\n",
    "(By convention, we do not include $w_0$ in the L1 penalty term as we never want to push the intercept to zero.)\n",
    "\n",
    "The absolute value sign makes the cost function non-differentiable, so simple gradient descent is not viable. Instead, we will use **coordinate descent**: at each iteration, we will fix all weights but weight `i` and find the value of $w_i$ that minimizes the objective. That is, we look for\n",
    "$$\\mathrm{argmin}_{w_i}\\left( \\sum (\\mathbf{w}\\cdot\\mathbf{x}_i-y_i)^2 + \\lambda (|w_1| + |w_2| +\\cdots |w_d|)\\right) $$\n",
    "\n",
    "where all weights other than $w_i$ are held constant. We will optimize one $w_i$ at a time, circling through the weights multiple times, until convergence is reached.\n",
    "\n",
    "For this notebook, we use **cyclical coordinate descent with normalized features**, where we cycle through coordinates 0 to $d$  in order, and assume that the features were normalized as discussed above. The formula for optimizing each weight, other than the intercept, is as follows:\n",
    "\n",
    "$$ w_j = \\left\\{\n",
    "\\begin{array}{cl}\n",
    "r_j + \\lambda/2 & \\text{if } r_j < -\\lambda/2 \\\\\n",
    "0 & \\text{if } r_j\\in[-\\lambda/2,\\lambda/2] \\\\\n",
    "r_j - \\lambda/2 & \\text{if } r_j > \\lambda/2\n",
    "\\end{array}\n",
    "\\right. $$\n",
    "where\n",
    "$$r_j = \\sum_{i=1}^N x_{ij}\\left(y_i - \\sum_{k\\ne j}w_kx_{ik}\\right) $$\n",
    "applied to the normalized features.\n",
    "\n",
    "Recall that we do not regularize the weight of the constant feature (intercept) $w_0$, so, for this weight, the update is simply $w_0 = r_0$."
   ]
  },
  {
   "cell_type": "markdown",
   "id": "1e9eeb02",
   "metadata": {},
   "source": [
    "## Effect of L1 penalty"
   ]
  },
  {
   "cell_type": "markdown",
   "id": "b2180c80",
   "metadata": {},
   "source": [
    "Let us consider a simple model with 2 features:"
   ]
  },
  {
   "cell_type": "code",
   "execution_count": 128,
   "id": "df024933",
   "metadata": {},
   "outputs": [],
   "source": [
    "simple_features = ['sqft_living', 'bedrooms']\n",
    "my_output = 'price'\n",
    "simple_feature_matrix, output = pandas2numpy(sales, simple_features, my_output)"
   ]
  },
  {
   "cell_type": "markdown",
   "id": "231ac63f",
   "metadata": {},
   "source": [
    "Don't forget to normalize features:"
   ]
  },
  {
   "cell_type": "code",
   "execution_count": 129,
   "id": "fa498895",
   "metadata": {},
   "outputs": [],
   "source": [
    "simple_feature_matrix, norms = normalize_features(simple_feature_matrix)"
   ]
  },
  {
   "cell_type": "markdown",
   "id": "df2a02d8",
   "metadata": {},
   "source": [
    "We assign some random set of initial weights and inspect the values of `ro[i]`:"
   ]
  },
  {
   "cell_type": "code",
   "execution_count": 130,
   "id": "1ff01635",
   "metadata": {},
   "outputs": [],
   "source": [
    "weights = np.array([1., 4., 1.])"
   ]
  },
  {
   "cell_type": "markdown",
   "id": "e133c92f",
   "metadata": {},
   "source": [
    "Use `predict_target()` to make predictions on this data."
   ]
  },
  {
   "cell_type": "code",
   "execution_count": 131,
   "id": "950f4db4",
   "metadata": {},
   "outputs": [],
   "source": [
    "prediction = predict_target(simple_feature_matrix,weights)"
   ]
  },
  {
   "cell_type": "markdown",
   "id": "83b81641",
   "metadata": {},
   "source": [
    "***Question 3.*** Compute the values of $r_j$ for each feature in this simple model, using the formula given above."
   ]
  },
  {
   "cell_type": "code",
   "execution_count": 132,
   "id": "8a27d909",
   "metadata": {},
   "outputs": [],
   "source": [
    "# YOUR CODE HERE\n",
    "def get_rj(X, y, w, j):\n",
    "    N = X.shape[0]\n",
    "    rj = 0\n",
    "    for i in range(N):\n",
    "        pred_wj = sum(w[k] * X[i, k] for k in range(X.shape[1]) if k != j)\n",
    "        rj += X[i, j] * (y[i] - pred_wj)\n",
    "    return rj\n",
    "\n",
    "rjs = [get_rj(simple_feature_matrix, output, weights, j) for j in range(1, simple_feature_matrix.shape[1])]\n",
    "\n",
    "print(rjs)\n"
   ]
  },
  {
   "cell_type": "markdown",
   "id": "833efd48",
   "metadata": {},
   "source": [
    "***Question 4.***\n",
    "Recall that, whenever $r_i$ falls between `-l1_penalty/2` and `l1_penalty/2`, the corresponding weight $w_i$ is sent to zero. Now suppose we were to take one step of coordinate descent on either feature 1 or feature 2. What range of values of `l1_penalty` **would not** set $w_1$ to zero, but **would** set $w_2$ to zero, if we were to take a step in that coordinate? "
   ]
  },
  {
   "cell_type": "code",
   "execution_count": 133,
   "id": "1ec142d2",
   "metadata": {},
   "outputs": [],
   "source": [
    "# YOUR CODE HERE\n",
    "l1_penalty_min = -2 * rjs[1]\n",
    "l1_penalty_max = 2 * rjs[1]\n",
    "print((l1_penalty_min, l1_penalty_max))"
   ]
  },
  {
   "cell_type": "markdown",
   "id": "49a78f01",
   "metadata": {},
   "source": [
    "***Question 5.*** \n",
    "What range of values of `l1_penalty` would set **both** $w_1$ and $w_2$ to zero, if we were to take a step in that coordinate? "
   ]
  },
  {
   "cell_type": "code",
   "execution_count": 134,
   "id": "177ab291",
   "metadata": {},
   "outputs": [],
   "source": [
    "# YOUR CODE HERE\n",
    "l1_penalty_min1 = -2 * rjs[0]\n",
    "l1_penalty_max1 = 2 * rjs[0]\n",
    "l1_penalty_min2 = -2 * rjs[1]\n",
    "l1_penalty_max2 = 2 * rjs[1]\n",
    "print((l1_penalty_min1, l1_penalty_max1))\n",
    "print((l1_penalty_min2, l1_penalty_max2))"
   ]
  },
  {
   "cell_type": "markdown",
   "id": "0c385286",
   "metadata": {},
   "source": [
    "So we can say that $r_j$ quantifies the significance of the $j$-th feature: the larger $r_j$ is, the more likely it is for the $j$-th feature to be retained."
   ]
  },
  {
   "cell_type": "markdown",
   "id": "cb013284",
   "metadata": {},
   "source": [
    "## Single Coordinate Descent Step"
   ]
  },
  {
   "cell_type": "markdown",
   "id": "26639776",
   "metadata": {},
   "source": [
    "***Question 6.*** Using the formula above, implement coordinate descent to minimize the cost function over a single feature $i$. Note that the intercept (weight 0) is not regularized. The function should accept the index $i$ of the feature to optimize over, the feature matrix, the output, the current weights, and the l1 penalty. The function should return new weight for feature $i$."
   ]
  },
  {
   "cell_type": "code",
   "execution_count": 135,
   "id": "963801af",
   "metadata": {},
   "outputs": [],
   "source": [
    "# YOUR CODE HERE\n",
    "def lasso_coordinate_descent_step(i, feature_matrix, output, weights, l1_penalty):\n",
    "    prediction = predict_target(feature_matrix, weights)\n",
    "    x = feature_matrix[:, i]\n",
    "    r = x.T @ (output - prediction + x * weights[i])\n",
    "    if i == 0:\n",
    "        w_i = r\n",
    "    elif r < (-l1_penalty/2):\n",
    "        w_i = r + l1_penalty/2\n",
    "    elif r > (l1_penalty/2):\n",
    "        w_i = r - l1_penalty/2\n",
    "    else:\n",
    "        w_i = 0\n",
    "    return w_i"
   ]
  },
  {
   "cell_type": "markdown",
   "id": "1c123550",
   "metadata": {},
   "source": [
    "To test the function, run the following cell:"
   ]
  },
  {
   "cell_type": "code",
   "execution_count": 136,
   "id": "815ad956",
   "metadata": {},
   "outputs": [],
   "source": [
    "# should print 0.425558846691\n",
    "import math\n",
    "new1 = lasso_coordinate_descent_step(1, np.array([[3./math.sqrt(13),1./math.sqrt(10)],[2./math.sqrt(13),3./math.sqrt(10)]]), \n",
    "                                    np.array([1., 1.]), np.array([1., 4.]), 0.1)\n",
    "print(new1)"
   ]
  },
  {
   "cell_type": "markdown",
   "id": "7d1e3cbd",
   "metadata": {
    "collapsed": true
   },
   "source": [
    "## Cyclical coordinate descent "
   ]
  },
  {
   "cell_type": "markdown",
   "id": "19eaafcf",
   "metadata": {},
   "source": [
    "Now that we have a function that optimizes the cost function over a single coordinate, let us implement cyclical coordinate descent where we optimize coordinates 0, 1, ..., $d$ in order and repeat.\n",
    "\n",
    "When do we know to stop? Each time we scan all the coordinates (features) once, we measure the change in weight for each coordinate. If no coordinate changes by more than a specified threshold, we stop."
   ]
  },
  {
   "cell_type": "markdown",
   "id": "5b31bc78",
   "metadata": {},
   "source": [
    "For each iteration:\n",
    "1. As you loop over features in order and perform coordinate descent, measure how much each coordinate changes.\n",
    "2. After the loop, if the maximum change across all coordinates falls below the tolerance, stop. Otherwise, go back to step 1.\n",
    "\n",
    "Return weights\n",
    "\n",
    "**IMPORTANT: when computing a new weight for coordinate i, make sure to incorporate the new weights for coordinates 0, 1, ..., i-1. One good way is to update your weights variable in-place. See following pseudocode for illustration.**\n",
    "\n",
    "***Question 7.*** Complete the function `lasso_cyclical_coordinate_descent(feature_matrix, output, initial_weights, l1_penalty, tolerance)`. The meaning of the arguments is the same as above."
   ]
  },
  {
   "cell_type": "code",
   "execution_count": 137,
   "id": "a6526ce8",
   "metadata": {},
   "outputs": [],
   "source": [
    "# YOUR CODE HERE\n",
    "def lasso_cyclical_coordinate_descent(feature_matrix, output, initial_weights, l1_penalty, tolerance):\n",
    "    c = tolerance + 1\n",
    "    w = initial_weights\n",
    "\n",
    "    while c > tolerance:\n",
    "        c = 0\n",
    "\n",
    "        for i in range(len(initial_weights)):\n",
    "            ow = w[i]\n",
    "            w_i = lasso_coordinate_descent_step(i, feature_matrix, output, w, l1_penalty)\n",
    "            w[i] = w_i\n",
    "            \n",
    "            if abs(w_i - ow) > c:\n",
    "                c = abs(w_i - ow)\n",
    "\n",
    "    return w"
   ]
  },
  {
   "cell_type": "markdown",
   "id": "f8aaa802",
   "metadata": {},
   "source": [
    "Let's take our function for a spin on the sales data set, using the following parameters."
   ]
  },
  {
   "cell_type": "code",
   "execution_count": 138,
   "id": "3d1ca452",
   "metadata": {},
   "outputs": [],
   "source": [
    "simple_features = ['sqft_living', 'bedrooms']\n",
    "my_output = 'price'\n",
    "initial_weights = np.zeros(3)\n",
    "l1_penalty = 1e7\n",
    "tolerance = 1.0"
   ]
  },
  {
   "cell_type": "markdown",
   "id": "c62d6b32",
   "metadata": {},
   "source": [
    "***Question 8.*** First, create a normalized version of the feature matrix, say `normalized_simple_feature_matrix`. Then, run your implementation of lasso coordinate descent.\n",
    "1. What is the MSE of the learned model on the normalized dataset? (Hint: use the normalized feature matrix when you make predictions.)\n",
    "2. Which features had weight zero at convergence?"
   ]
  },
  {
   "cell_type": "code",
   "execution_count": 139,
   "id": "8170c9d2",
   "metadata": {},
   "outputs": [],
   "source": [
    "# YOUR CODE HERE\n",
    "simple_feature_matrix, output = pandas2numpy(sales, simple_features, my_output)\n",
    "normalized_simple_feature_matrix, norms = normalize_features(simple_feature_matrix)\n",
    "weights = lasso_cyclical_coordinate_descent(normalized_simple_feature_matrix, output, initial_weights, l1_penalty, tolerance)\n",
    "\n",
    "mse = np.mean((output - predict_target(normalized_simple_feature_matrix, weights))**2)\n",
    "\n",
    "print(f'MSE: {mse}')\n",
    "print(f'Int: {weights[0]}')\n",
    "for feature in simple_features:\n",
    "    print(f'{feature}: {weights[1 + simple_features.index(feature)]}')"
   ]
  },
  {
   "cell_type": "markdown",
   "id": "5a5455b9",
   "metadata": {},
   "source": [
    "## Evaluating LASSO fit with more features"
   ]
  },
  {
   "cell_type": "markdown",
   "id": "3ef510c5",
   "metadata": {},
   "source": [
    "Let us split the sales dataset into training and test sets."
   ]
  },
  {
   "cell_type": "code",
   "execution_count": 140,
   "id": "ace7837f",
   "metadata": {},
   "outputs": [],
   "source": [
    "train_data = sales.sample(frac=0.8, random_state=0)\n",
    "test_data = sales.drop(train_data.index)"
   ]
  },
  {
   "cell_type": "markdown",
   "id": "b588b878",
   "metadata": {},
   "source": [
    "Let us consider the following set of features."
   ]
  },
  {
   "cell_type": "code",
   "execution_count": 141,
   "id": "ee273205",
   "metadata": {},
   "outputs": [],
   "source": [
    "all_features = ['bedrooms',\n",
    "                'bathrooms',\n",
    "                'sqft_living',\n",
    "                'sqft_lot',\n",
    "                'floors',\n",
    "                'waterfront', \n",
    "                'view', \n",
    "                'condition', \n",
    "                'grade',\n",
    "                'sqft_above',\n",
    "                'sqft_basement',\n",
    "                'yr_built', \n",
    "                'yr_renovated']"
   ]
  },
  {
   "cell_type": "markdown",
   "id": "622d9975",
   "metadata": {},
   "source": [
    "First, create a normalized feature matrix from the training data with these features.  (Make sure to store the norms for the normalization, since we'll use them later)"
   ]
  },
  {
   "cell_type": "code",
   "execution_count": 142,
   "id": "cbb356a2",
   "metadata": {},
   "outputs": [],
   "source": [
    "my_output = 'price'\n",
    "initial_weights = np.zeros(1+len(all_features))\n",
    "l1_penalty = 1e7\n",
    "tolerance = 1.0\n",
    "(all_feature_matrix, output) = pandas2numpy(train_data, all_features, my_output)\n",
    "(normalized_all_feature_matrix, all_norms) = normalize_features(all_feature_matrix)"
   ]
  },
  {
   "cell_type": "markdown",
   "id": "a7313bda",
   "metadata": {},
   "source": [
    "***Question 9.*** First, learn the weights with `l1_penalty=1e7`, on the training data. Initialize weights to all zeros, and set the `tolerance=1`, as suggested above.  Call resulting weights `weights1e7`, you will need them later. What features had non-zero weight in this case?"
   ]
  },
  {
   "cell_type": "code",
   "execution_count": 143,
   "id": "04a9e905",
   "metadata": {},
   "outputs": [],
   "source": [
    "# YOUR CODE HERE\n",
    "weights1e7 = lasso_cyclical_coordinate_descent(normalized_all_feature_matrix, output, initial_weights, l1_penalty, tolerance)\n",
    "\n",
    "print(f'Int: {weights1e7[0]}')\n",
    "print([(f'{feature}: {weights1e7[1 + all_features.index(feature)]}') for feature in all_features])"
   ]
  },
  {
   "cell_type": "markdown",
   "id": "398875a5",
   "metadata": {
    "collapsed": true
   },
   "source": [
    "***Question 10.*** Next, learn the weights with `l1_penalty=1e8`, on the training data. Initialize weights to all zeros, and set the `tolerance=1`.  Call resulting weights `weights1e8`, you will need them later. What features had non-zero weight in this case?"
   ]
  },
  {
   "cell_type": "code",
   "execution_count": 144,
   "id": "1d57ef10",
   "metadata": {},
   "outputs": [],
   "source": [
    "l1_penalty = 1e8\n",
    "initial_weights = np.zeros(1+len(all_features))\n",
    "# YOUR CODE HERE\n",
    "weights1e8 = lasso_cyclical_coordinate_descent(normalized_all_feature_matrix, output, initial_weights, l1_penalty, tolerance)\n",
    "\n",
    "print(f'Int: {weights1e8[0]}')\n",
    "print([(f'{feature}: {weights1e8[1 + all_features.index(feature)]}') for feature in all_features])"
   ]
  },
  {
   "cell_type": "markdown",
   "id": "210ecfd7",
   "metadata": {},
   "source": [
    "***Question 11.*** Finally, learn the weights with `l1_penalty=1e4`, on the training data. Initialize weights to all zeros, and set the `tolerance=5e5`.  Call resulting weights `weights1e4`, you will need them later. What features had non-zero weight in this case? (*Warning: This case may take quite a bit longer to converge than the ones above.*)"
   ]
  },
  {
   "cell_type": "code",
   "execution_count": 145,
   "id": "a939aff0",
   "metadata": {},
   "outputs": [],
   "source": [
    "l1_penalty = 1e4\n",
    "initial_weights = np.zeros(1+len(all_features))\n",
    "# YOUR CODE HERE\n",
    "tolerance = 5e5\n",
    "weights1e4 = lasso_cyclical_coordinate_descent(normalized_all_feature_matrix, output, initial_weights, l1_penalty, tolerance)\n",
    "\n",
    "print(f'Int: {weights1e4[0]}')\n",
    "print([(f'{feature}: {weights1e4[1 + all_features.index(feature)]}') for feature in all_features])"
   ]
  },
  {
   "cell_type": "markdown",
   "id": "65db03a6",
   "metadata": {},
   "source": [
    "## Rescaling learned weights"
   ]
  },
  {
   "cell_type": "markdown",
   "id": "613899a8",
   "metadata": {},
   "source": [
    "Recall that we normalized our feature matrix, before learning the weights.  To use these weights on a test set, we would need to normalize the test data in the same way.\n",
    "\n",
    "Alternatively, we can rescale the learned weights, so we never have to worry about normalizing the test data: \n",
    "\n",
    "In this case, we must scale the resulting weights so that we can make predictions with *original* feature values:\n",
    " 1. Store the norms of the original features to a vector called `norms`:\n",
    "```\n",
    "features, norms = normalize_features(features)\n",
    "```\n",
    " 2. Run Lasso on the normalized features and obtain a `weights` vector\n",
    " 3. Compute the weights for the original features and stored them in `weights_normalized` \n",
    "\n",
    "Now, we can apply `weights_normalized` to the test data, without normalizing it first!\n",
    "\n",
    "***Question 12.*** Create a normalized version of each of the weights learned above: (`weights1e4`, `weights1e7`, `weights1e8`).\n",
    "\n",
    "To check your results, if you call `normalized_weights1e7` the normalized version of `weights1e7`, then:\n",
    "```\n",
    "print normalized_weights1e7[3]\n",
    "```\n",
    "should return 161.31745624837794."
   ]
  },
  {
   "cell_type": "code",
   "execution_count": 146,
   "id": "3fbc20cb",
   "metadata": {},
   "outputs": [],
   "source": [
    "# YOUR CODE HERE\n",
    "normalized_weights1e4 = weights1e4 / all_norms\n",
    "normalized_weights1e7 = weights1e7 / all_norms\n",
    "normalized_weights1e8 = weights1e8 / all_norms\n",
    "\n",
    "print(normalized_weights1e7[3])"
   ]
  },
  {
   "cell_type": "markdown",
   "id": "9c3ecdfc",
   "metadata": {},
   "source": [
    "## Evaluating each of the learned models on the test data"
   ]
  },
  {
   "cell_type": "markdown",
   "id": "05742e45",
   "metadata": {},
   "source": [
    "Let's now evaluate the three models on the test data:"
   ]
  },
  {
   "cell_type": "code",
   "execution_count": 147,
   "id": "c1ec3025",
   "metadata": {},
   "outputs": [],
   "source": [
    "test_feature_matrix, test_output = pandas2numpy(test_data, all_features, 'price')"
   ]
  },
  {
   "cell_type": "markdown",
   "id": "5f10967d",
   "metadata": {},
   "source": [
    "***Question 13.*** Compute the MSE of each of the three normalized weights on the (unnormalized) `test_feature_matrix`. Print the results. Which model performed best on the test data?"
   ]
  },
  {
   "cell_type": "code",
   "execution_count": 148,
   "id": "6dcb0de7",
   "metadata": {},
   "outputs": [],
   "source": [
    "# YOUR CODE HERE\n",
    "mse_1 = np.mean((test_output - predict_target(test_feature_matrix, normalized_weights1e4))**2)\n",
    "mse_2 = np.mean((test_output - predict_target(test_feature_matrix, normalized_weights1e7))**2)\n",
    "mse_3 = np.mean((test_output - predict_target(test_feature_matrix, normalized_weights1e8))**2)\n",
    "\n",
    "print(f'1e4: {mse_1}') # performed the best on test data\n",
    "print(f'1e7: {mse_2}')\n",
    "print(f'1e8: {mse_3}')"
   ]
  },
  {
   "cell_type": "markdown",
   "id": "11569b62",
   "metadata": {},
   "source": [
    "1e4 performed best"
   ]
  }
 ],
 "metadata": {
  "kernelspec": {
   "display_name": "Python 3 (ipykernel)",
   "language": "python",
   "name": "python3"
  },
  "language_info": {
   "codemirror_mode": {
    "name": "ipython",
    "version": 3
   },
   "file_extension": ".py",
   "mimetype": "text/x-python",
   "name": "python",
   "nbconvert_exporter": "python",
   "pygments_lexer": "ipython3",
   "version": "3.11.0"
  }
 },
 "nbformat": 4,
 "nbformat_minor": 5
}
